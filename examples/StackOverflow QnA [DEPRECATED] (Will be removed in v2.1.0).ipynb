{
 "cells": [
  {
   "cell_type": "markdown",
   "metadata": {},
   "source": [
    "**This notebook is an effort to answer StackOverflow Questions and Issue**"
   ]
  },
  {
   "cell_type": "markdown",
   "metadata": {},
   "source": [
    "# Imports"
   ]
  },
  {
   "cell_type": "code",
   "execution_count": 1,
   "metadata": {
    "ExecuteTime": {
     "end_time": "2022-02-14T20:58:13.111750Z",
     "start_time": "2022-02-14T20:58:13.098171Z"
    }
   },
   "outputs": [
    {
     "name": "stdout",
     "output_type": "stream",
     "text": [
      "Python Version :  3.6.13\n",
      "Python Path :  D:\\Personal Stuff\\swtloc-project\\venvs\\py36VenvDev\\python.exe\n"
     ]
    }
   ],
   "source": [
    "# Check version runing on Jupyter notebook\n",
    "from platform import python_version\n",
    "import sys\n",
    "\n",
    "print('Python Version : ', python_version())\n",
    "print('Python Path : ', sys.executable)"
   ]
  },
  {
   "cell_type": "code",
   "execution_count": 2,
   "metadata": {
    "ExecuteTime": {
     "end_time": "2022-02-14T20:58:13.407770Z",
     "start_time": "2022-02-14T20:58:13.391022Z"
    }
   },
   "outputs": [],
   "source": [
    "import sys\n",
    "sys.path.append('../')"
   ]
  },
  {
   "cell_type": "code",
   "execution_count": 3,
   "metadata": {
    "ExecuteTime": {
     "end_time": "2022-02-14T20:58:14.601785Z",
     "start_time": "2022-02-14T20:58:13.805671Z"
    }
   },
   "outputs": [],
   "source": [
    "%load_ext autoreload\n",
    "%autoreload 2\n",
    "from swtloc import SWTLocalizer\n",
    "from swtloc._utils import auto_canny, imgshowN, imgshow"
   ]
  },
  {
   "cell_type": "code",
   "execution_count": 4,
   "metadata": {
    "ExecuteTime": {
     "end_time": "2022-02-14T20:58:14.711384Z",
     "start_time": "2022-02-14T20:58:14.656571Z"
    }
   },
   "outputs": [
    {
     "data": {
      "text/plain": [
       "'4.5.5'"
      ]
     },
     "execution_count": 4,
     "metadata": {},
     "output_type": "execute_result"
    }
   ],
   "source": [
    "from cv2 import cv2\n",
    "import numpy as np\n",
    "cv2.__version__"
   ]
  },
  {
   "cell_type": "markdown",
   "metadata": {},
   "source": [
    "# Raw Datapaths and Variable Initialisation"
   ]
  },
  {
   "cell_type": "code",
   "execution_count": 8,
   "metadata": {
    "ExecuteTime": {
     "end_time": "2022-02-14T20:58:30.636869Z",
     "start_time": "2022-02-14T20:58:30.598969Z"
    }
   },
   "outputs": [],
   "source": [
    "rawimage_path = 'images/'"
   ]
  },
  {
   "cell_type": "markdown",
   "metadata": {
    "heading_collapsed": true
   },
   "source": [
    "# Q1\n",
    "https://stackoverflow.com/questions/40443988/python-opencv-ocr-image-segmentation"
   ]
  },
  {
   "cell_type": "code",
   "execution_count": null,
   "metadata": {
    "ExecuteTime": {
     "end_time": "2022-02-14T17:07:08.108285Z",
     "start_time": "2022-02-14T17:07:06.352781Z"
    },
    "hidden": true
   },
   "outputs": [],
   "source": [
    "imgpath = rawimage_path+'so1_img1.jpg'\n",
    "\n",
    "swtl = SWTLocalizer()\n",
    "swtl.swttransform(imgpaths=imgpath, text_mode = 'lb_df', gs_blurr=False ,\n",
    "                  minrsw = 3, maxrsw = 10, max_angledev = np.pi/3)"
   ]
  },
  {
   "cell_type": "code",
   "execution_count": null,
   "metadata": {
    "ExecuteTime": {
     "end_time": "2022-02-14T17:07:16.452607Z",
     "start_time": "2022-02-14T17:07:15.892867Z"
    },
    "hidden": true
   },
   "outputs": [],
   "source": [
    "# Plotting three variants of the images during the process of the\n",
    "# transformation -> Original > Stroke Width Transform > Connected Components\n",
    "imgshowN([swtl.orig_img, swtl.swt_mat, swtl.swt_labelled3C],\n",
    "         ['Original Image', 'Stroke Width Transform', 'Connected Components'])"
   ]
  },
  {
   "cell_type": "code",
   "execution_count": null,
   "metadata": {
    "ExecuteTime": {
     "end_time": "2022-02-14T16:58:02.326801Z",
     "start_time": "2022-02-14T16:57:59.185565Z"
    },
    "hidden": true
   },
   "outputs": [],
   "source": [
    "respacket = swtl.get_grouped(lookup_radii_multiplier=.8, sw_ratio=2,\n",
    "                     cl_deviat=[13,13,13], ht_ratio=2, \n",
    "                     ar_ratio=4, ang_deviat=30)\n",
    "\n",
    "grouped_labels = respacket[0]\n",
    "grouped_bubblebbox = respacket[1]\n",
    "grouped_annot_bubble = respacket[2]\n",
    "grouped_annot = respacket[3]\n",
    "maskviz = respacket[4]\n",
    "maskcomb  = respacket[5]\n"
   ]
  },
  {
   "cell_type": "code",
   "execution_count": null,
   "metadata": {
    "ExecuteTime": {
     "end_time": "2022-02-14T16:58:02.913773Z",
     "start_time": "2022-02-14T16:58:02.329232Z"
    },
    "hidden": true
   },
   "outputs": [],
   "source": [
    "imgshowN([swtl.orig_img, grouped_annot_bubble],\n",
    "         ['Original', 'Grouped Bubble BBox Annotation'])"
   ]
  },
  {
   "cell_type": "markdown",
   "metadata": {},
   "source": [
    "# Q2\n",
    "\n",
    "https://stackoverflow.com/questions/4837124/stroke-width-transform-swt-implementation-java-c"
   ]
  },
  {
   "cell_type": "code",
   "execution_count": 9,
   "metadata": {
    "ExecuteTime": {
     "end_time": "2022-02-14T20:58:42.580064Z",
     "start_time": "2022-02-14T20:58:31.927469Z"
    }
   },
   "outputs": [
    {
     "name": "stdout",
     "output_type": "stream",
     "text": [
      "\u001b[41mDEPRECATED : `swttransform` function deprecated in favour of 'transform'. Reason - Refactoring Changes; To be Removed in - v2.1.0\u001b[0m\n",
      "MainProcess @  |\u001b[5;49m\u001b[5;40m\u001b[7m                COMPLETE                 \u001b[27m\u001b[5;30m\u001b[0;0m| -> STATUS: 0.0% 1/1 Images Done. Transformations Complete\n",
      "\n"
     ]
    }
   ],
   "source": [
    "from swtloc import SWTLocalizer\n",
    "\n",
    "imgpath = rawimage_path+'so2/so2_img1.jpg'\n",
    "swtl = SWTLocalizer()\n",
    "swtl.swttransform(imgpaths=imgpath, save_results=True, save_rootpath='swtres/',\n",
    "                  edge_func = 'ac', ac_sigma = 1.0, text_mode = 'lb_df',\n",
    "                  gs_blurr=True, blurr_kernel = (5,5), minrsw = 3, \n",
    "                  maxCC_comppx = 10000, maxrsw = 20, max_angledev = np.pi/6, \n",
    "                  acceptCC_aspectratio = 5.0)"
   ]
  },
  {
   "cell_type": "code",
   "execution_count": 10,
   "metadata": {
    "ExecuteTime": {
     "end_time": "2022-02-14T20:58:44.407107Z",
     "start_time": "2022-02-14T20:58:44.354219Z"
    }
   },
   "outputs": [
    {
     "data": {
      "text/plain": [
       "'8.802 sec'"
      ]
     },
     "execution_count": 10,
     "metadata": {},
     "output_type": "execute_result"
    }
   ],
   "source": [
    "swtl.transform_time"
   ]
  },
  {
   "cell_type": "code",
   "execution_count": 11,
   "metadata": {
    "ExecuteTime": {
     "end_time": "2022-02-14T20:58:50.590467Z",
     "start_time": "2022-02-14T20:58:50.301801Z"
    }
   },
   "outputs": [
    {
     "data": {
      "image/png": "[encoded data removed]",
      "text/plain": [
       "<Figure size 720x720 with 1 Axes>"
      ]
     },
     "metadata": {
      "needs_background": "light"
     },
     "output_type": "display_data"
    }
   ],
   "source": [
    "imgshow(swtl.swtlabelled_pruned13C)"
   ]
  },
  {
   "cell_type": "code",
   "execution_count": null,
   "metadata": {
    "ExecuteTime": {
     "end_time": "2022-02-14T16:58:22.997655Z",
     "start_time": "2022-02-14T16:58:21.213050Z"
    }
   },
   "outputs": [],
   "source": [
    "repacket=swtl.get_grouped()\n",
    "grouped_annot_bubble = repacket[2]\n",
    "imgshow(grouped_annot_bubble)"
   ]
  },
  {
   "cell_type": "markdown",
   "metadata": {
    "ExecuteTime": {
     "end_time": "2020-09-23T10:32:06.967556Z",
     "start_time": "2020-09-23T10:32:06.793023Z"
    }
   },
   "source": [
    "# Q3\n",
    "https://stackoverflow.com/questions/31667709/can-swt-stroke-width-transform-help-ocr-with-screenshots"
   ]
  },
  {
   "cell_type": "code",
   "execution_count": 13,
   "metadata": {
    "ExecuteTime": {
     "end_time": "2022-02-14T21:00:11.675729Z",
     "start_time": "2022-02-14T20:59:34.119645Z"
    }
   },
   "outputs": [
    {
     "name": "stdout",
     "output_type": "stream",
     "text": [
      "Shape changed from (717, 1081, 3) -> (1434, 2162, 3)\n",
      "\u001b[41mDEPRECATED : `swttransform` function deprecated in favour of 'transform'. Reason - Refactoring Changes; To be Removed in - v2.1.0\u001b[0m\n",
      "MainProcess @  |\u001b[5;49m\u001b[5;40m\u001b[7m                COMPLETE                 \u001b[27m\u001b[5;30m\u001b[0;0m| -> STATUS: 0.0% 1/1 Images Done. Transformations Complete\n",
      "\n"
     ]
    },
    {
     "data": {
      "image/png": "[encoded data removed]",
      "text/plain": [
       "<Figure size 720x720 with 1 Axes>"
      ]
     },
     "metadata": {
      "needs_background": "light"
     },
     "output_type": "display_data"
    }
   ],
   "source": [
    "from swtloc import SWTLocalizer\n",
    "from swtloc._utils import resize_maintinaAR\n",
    "\n",
    "imgpath = rawimage_path+'so3/so3_img1.png'\n",
    "r_imgpath = rawimage_path+'so3/so3_img11.jpg'\n",
    "\n",
    "swtl = SWTLocalizer()\n",
    "\n",
    "orig_img = cv2.imread(imgpath)\n",
    "resized_img = resize_maintinaAR(orig_img, width=2.0)\n",
    "print(f'Shape changed from {orig_img.shape} -> {resized_img.shape}')\n",
    "cv2.imwrite(r_imgpath, resized_img)\n",
    "\n",
    "swtl.swttransform(imgpaths=r_imgpath, text_mode = 'lb_df',\n",
    "                  minrsw = 3, maxrsw = 10, max_angledev = np.pi/6)\n",
    "imgshow(swtl.swtlabelled_pruned13C)"
   ]
  },
  {
   "cell_type": "code",
   "execution_count": 14,
   "metadata": {
    "ExecuteTime": {
     "end_time": "2022-02-14T21:03:01.948223Z",
     "start_time": "2022-02-14T21:03:01.903078Z"
    }
   },
   "outputs": [
    {
     "data": {
      "text/plain": [
       "'36.897 sec'"
      ]
     },
     "execution_count": 14,
     "metadata": {},
     "output_type": "execute_result"
    }
   ],
   "source": [
    "swtl.transform_time"
   ]
  },
  {
   "cell_type": "code",
   "execution_count": null,
   "metadata": {
    "ExecuteTime": {
     "end_time": "2022-02-14T16:59:09.816086Z",
     "start_time": "2022-02-14T16:59:08.820748Z"
    }
   },
   "outputs": [],
   "source": [
    "min_bboxes, min_bbox_annotated = swtl.get_min_bbox(show=True, padding=10)"
   ]
  },
  {
   "cell_type": "code",
   "execution_count": null,
   "metadata": {
    "ExecuteTime": {
     "end_time": "2022-02-14T16:59:10.099415Z",
     "start_time": "2022-02-14T16:59:09.817082Z"
    }
   },
   "outputs": [],
   "source": [
    "_=cv2.imwrite(rawimage_path+'so3_img11_processed.jpg', swtl.swtlabelled_pruned13C)\n",
    "_=cv2.imwrite(rawimage_path+'so3_img11_annot.jpg', min_bbox_annotated)"
   ]
  },
  {
   "cell_type": "markdown",
   "metadata": {},
   "source": [
    "# Q4\n",
    "https://stackoverflow.com/questions/23506105/extracting-text-opencv"
   ]
  },
  {
   "cell_type": "code",
   "execution_count": null,
   "metadata": {
    "ExecuteTime": {
     "end_time": "2022-02-14T16:59:10.182596Z",
     "start_time": "2022-02-14T16:59:10.100412Z"
    }
   },
   "outputs": [],
   "source": [
    "import os\n",
    "imgpaths = [rawimage_path+k for k in os.listdir(rawimage_path) if 'so4' in k if 'processed' not in k]\n",
    "imgpaths"
   ]
  },
  {
   "cell_type": "code",
   "execution_count": null,
   "metadata": {
    "ExecuteTime": {
     "end_time": "2022-02-14T16:59:42.618548Z",
     "start_time": "2022-02-14T16:59:16.086609Z"
    },
    "scrolled": false
   },
   "outputs": [],
   "source": [
    "from swtloc import SWTLocalizer\n",
    "from swtloc._utils import imgshowN, imgshow\n",
    "\n",
    "swtl = SWTLocalizer()\n",
    "# Stroke Width Transform\n",
    "swtl.swttransform(imgpaths=imgpaths[2], text_mode = 'lb_df',\n",
    "                  save_results=True, save_rootpath = 'swtres/',\n",
    "                  minrsw = 3, maxrsw = 20, max_angledev = np.pi/3)\n",
    "imgshow(swtl.swtlabelled_pruned13C)\n",
    "\n",
    "# Grouping\n",
    "respacket=swtl.get_grouped(lookup_radii_multiplier=0.9, ht_ratio=3.0)\n",
    "grouped_annot_bubble = respacket[2]\n",
    "maskviz = respacket[4]\n",
    "maskcomb  = respacket[5]\n",
    "\n",
    "# Saving the results\n",
    "_=cv2.imwrite(rawimage_path+'so4_img1_processed.jpg', swtl.swtlabelled_pruned13C)\n",
    "imgshowN([maskcomb, grouped_annot_bubble], \n",
    "         ['Overlapping Masks', 'Annotated Bubble Bounding Boxes'],\n",
    "         savepath=rawimage_path+'combined_mask1.jpg')"
   ]
  },
  {
   "cell_type": "markdown",
   "metadata": {
    "ExecuteTime": {
     "end_time": "2020-09-23T11:38:31.401436Z",
     "start_time": "2020-09-23T11:38:31.395873Z"
    }
   },
   "source": [
    "# Q5\n",
    "https://stackoverflow.com/questions/46533389/find-the-width-of-an-ink-stroke-in-an-image-using-opencv-c/46533420"
   ]
  },
  {
   "cell_type": "code",
   "execution_count": null,
   "metadata": {
    "ExecuteTime": {
     "end_time": "2022-02-14T17:00:02.732968Z",
     "start_time": "2022-02-14T16:59:43.096784Z"
    }
   },
   "outputs": [],
   "source": [
    "from swtloc import SWTLocalizer\n",
    "from swtloc._utils import imgshow\n",
    "\n",
    "# Stroke Width Transform\n",
    "imgpath = rawimage_path+'so5_img1.jpg'\n",
    "swtl = SWTLocalizer()\n",
    "swtl.swttransform(imgpaths=imgpath, text_mode = 'lb_df',\n",
    "                  save_results=True, save_rootpath = 'swtres/',\n",
    "                  ac_sigma = 1.0, gs_blurr =False,\n",
    "                  minrsw = 3, maxrsw = 50, max_angledev = np.pi/3)\n",
    "imgshow(swtl.swt_labelled3C)"
   ]
  },
  {
   "cell_type": "code",
   "execution_count": null,
   "metadata": {
    "ExecuteTime": {
     "end_time": "2022-02-14T17:00:07.841766Z",
     "start_time": "2022-02-14T17:00:03.141702Z"
    }
   },
   "outputs": [],
   "source": [
    "import matplotlib.pyplot as plt\n",
    "all_sws = []\n",
    "for k,v in swtl.components_props.items():\n",
    "    all_sws.append(v['sw_median'])\n",
    "import seaborn as sns\n",
    "sns.displot(all_sws, bins=31)\n",
    "plt.savefig(rawimage_path+'sw_distribution.jpg')"
   ]
  },
  {
   "cell_type": "code",
   "execution_count": null,
   "metadata": {
    "ExecuteTime": {
     "end_time": "2022-02-14T17:00:08.481337Z",
     "start_time": "2022-02-14T17:00:08.350549Z"
    }
   },
   "outputs": [],
   "source": [
    "_=cv2.imwrite(rawimage_path+'so5_img1_processed.jpg', swtl.swtlabelled_pruned13C)"
   ]
  },
  {
   "cell_type": "code",
   "execution_count": null,
   "metadata": {
    "ExecuteTime": {
     "end_time": "2022-02-14T17:00:20.158136Z",
     "start_time": "2022-02-14T17:00:08.996957Z"
    }
   },
   "outputs": [],
   "source": [
    "respacket=swtl.get_grouped(lookup_radii_multiplier=0.9, ht_ratio=3.0, bubble_width=3)\n",
    "grouped_annot_bubble = respacket[2]\n",
    "imgshow(grouped_annot_bubble)"
   ]
  },
  {
   "cell_type": "markdown",
   "metadata": {},
   "source": [
    "# Q6\n",
    "Bubble BBOX issue : Issue #10"
   ]
  },
  {
   "cell_type": "code",
   "execution_count": null,
   "metadata": {
    "ExecuteTime": {
     "end_time": "2022-02-14T17:00:20.687477Z",
     "start_time": "2022-02-14T17:00:20.594454Z"
    }
   },
   "outputs": [],
   "source": [
    "# Ensure that OpenCV version is same as mentioned below.\n",
    "# !pip install opencv-python==4.5.1.48"
   ]
  },
  {
   "cell_type": "code",
   "execution_count": null,
   "metadata": {
    "ExecuteTime": {
     "end_time": "2022-02-14T17:00:48.517045Z",
     "start_time": "2022-02-14T17:00:21.174866Z"
    }
   },
   "outputs": [],
   "source": [
    "from swtloc import SWTLocalizer\n",
    "from swtloc._utils import imgshow\n",
    "\n",
    "imgpath = rawimage_path+'bbox_err_image.jpg'\n",
    "swtl = SWTLocalizer()\n",
    "\n",
    "# Stroke Width Transform\n",
    "swtl.swttransform(imgpaths=imgpath, text_mode = 'db_lf',\n",
    "                  save_results=True, save_rootpath = 'swtres/',\n",
    "                  ac_sigma = 1.0, gs_blurr=True, blurr_kernel = (5,5), maxCC_comppx = 5000, \n",
    "                  minrsw = 3, maxrsw = 200, max_angledev = np.pi/6, acceptCC_aspectratio = 5.0)\n",
    "\n",
    "imgshow(swtl.swt_labelled3C)"
   ]
  },
  {
   "cell_type": "code",
   "execution_count": null,
   "metadata": {
    "ExecuteTime": {
     "end_time": "2022-02-14T17:00:51.875647Z",
     "start_time": "2022-02-14T17:00:49.034423Z"
    }
   },
   "outputs": [],
   "source": [
    "respacket = swtl.get_grouped(lookup_radii_multiplier=.8, sw_ratio=2,\n",
    "                     cl_deviat=[13,13,13], ht_ratio=2, \n",
    "                     ar_ratio=4, ang_deviat=30)\n",
    "\n",
    "grouped_labels = respacket[0]\n",
    "grouped_bubblebbox = respacket[1]\n",
    "grouped_annot_bubble = respacket[2]\n",
    "grouped_annot = respacket[3]\n",
    "maskviz = respacket[4]\n",
    "maskcomb  = respacket[5]\n",
    "\n",
    "imgshowN([grouped_annot_bubble],\n",
    "         ['Grouped Bubble BBox Annotation'])"
   ]
  },
  {
   "cell_type": "code",
   "execution_count": null,
   "metadata": {},
   "outputs": [],
   "source": []
  }
 ],
 "metadata": {
  "hide_input": false,
  "kernelspec": {
   "display_name": "py36VenvDev",
   "language": "python",
   "name": "py36venvdev"
  },
  "language_info": {
   "codemirror_mode": {
    "name": "ipython",
    "version": 3
   },
   "file_extension": ".py",
   "mimetype": "text/x-python",
   "name": "python",
   "nbconvert_exporter": "python",
   "pygments_lexer": "ipython3",
   "version": "3.6.13"
  },
  "toc": {
   "base_numbering": 1,
   "nav_menu": {},
   "number_sections": true,
   "sideBar": true,
   "skip_h1_title": false,
   "title_cell": "Table of Contents",
   "title_sidebar": "Contents",
   "toc_cell": false,
   "toc_position": {},
   "toc_section_display": true,
   "toc_window_display": false
  },
  "varInspector": {
   "cols": {
    "lenName": 16,
    "lenType": 16,
    "lenVar": 40
   },
   "kernels_config": {
    "python": {
     "delete_cmd_postfix": "",
     "delete_cmd_prefix": "del ",
     "library": "var_list.py",
     "varRefreshCmd": "print(var_dic_list())"
    },
    "r": {
     "delete_cmd_postfix": ") ",
     "delete_cmd_prefix": "rm(",
     "library": "var_list.r",
     "varRefreshCmd": "cat(var_dic_list()) "
    }
   },
   "types_to_exclude": [
    "module",
    "function",
    "builtin_function_or_method",
    "instance",
    "_Feature"
   ],
   "window_display": false
  }
 },
 "nbformat": 4,
 "nbformat_minor": 4
}
