{
 "cells": [
  {
   "cell_type": "markdown",
   "metadata": {
    "heading_collapsed": true
   },
   "source": [
    "# Install Package"
   ]
  },
  {
   "cell_type": "code",
   "execution_count": null,
   "metadata": {
    "ExecuteTime": {
     "end_time": "2020-09-13T12:44:56.908740Z",
     "start_time": "2020-09-13T12:44:56.904750Z"
    },
    "hidden": true
   },
   "outputs": [],
   "source": [
    "# !pip install swtloc"
   ]
  },
  {
   "cell_type": "markdown",
   "metadata": {
    "heading_collapsed": true
   },
   "source": [
    "# Imports"
   ]
  },
  {
   "cell_type": "code",
   "execution_count": null,
   "metadata": {
    "ExecuteTime": {
     "end_time": "2021-01-05T15:19:09.940761Z",
     "start_time": "2021-01-05T15:19:09.565231Z"
    },
    "hidden": true
   },
   "outputs": [],
   "source": [
    "from swtloc import SWTLocalizer\n",
    "from swtloc.utils import auto_canny, imgshowN, imgshow\n",
    "import numpy as np\n",
    "\n",
    "from cv2 import cv2"
   ]
  },
  {
   "cell_type": "code",
   "execution_count": null,
   "metadata": {
    "ExecuteTime": {
     "end_time": "2020-09-13T12:25:59.397253Z",
     "start_time": "2020-09-13T12:25:59.383253Z"
    },
    "hidden": true
   },
   "outputs": [],
   "source": []
  },
  {
   "cell_type": "markdown",
   "metadata": {
    "heading_collapsed": true
   },
   "source": [
    "# Path Declarations & Handle Initialisations"
   ]
  },
  {
   "cell_type": "code",
   "execution_count": null,
   "metadata": {
    "ExecuteTime": {
     "end_time": "2021-01-05T15:19:14.119087Z",
     "start_time": "2021-01-05T15:19:14.116135Z"
    },
    "hidden": true
   },
   "outputs": [],
   "source": [
    "imgrootpath = '../swtloc/images/'\n",
    "\n",
    "swtl = SWTLocalizer()"
   ]
  },
  {
   "cell_type": "markdown",
   "metadata": {
    "heading_collapsed": true
   },
   "source": [
    "# Stroke Width Transform of Image\n",
    "\n",
    "- Generating SWT of image\n",
    "- Understanding parameters of the swttransform() function\n",
    "\n",
    "* CC : Connected Component"
   ]
  },
  {
   "cell_type": "code",
   "execution_count": null,
   "metadata": {
    "ExecuteTime": {
     "end_time": "2020-09-13T12:44:58.273044Z",
     "start_time": "2020-09-13T12:44:58.262036Z"
    },
    "hidden": true
   },
   "outputs": [],
   "source": [
    "imgpath = imgrootpath+'test_img2.jpg'"
   ]
  },
  {
   "cell_type": "code",
   "execution_count": null,
   "metadata": {
    "ExecuteTime": {
     "end_time": "2020-09-13T12:45:12.446326Z",
     "start_time": "2020-09-13T12:44:58.275001Z"
    },
    "hidden": true
   },
   "outputs": [],
   "source": [
    "swtl.swttransform(imgpaths=imgpath)"
   ]
  },
  {
   "cell_type": "code",
   "execution_count": null,
   "metadata": {
    "ExecuteTime": {
     "end_time": "2020-09-13T12:45:13.184871Z",
     "start_time": "2020-09-13T12:45:12.447324Z"
    },
    "hidden": true
   },
   "outputs": [],
   "source": [
    "# Plotting three variants of the images during the process of the\n",
    "# transformation -> Original > Stroke Width Transform > Connected Components\n",
    "imgshowN([swtl.orig_img, swtl.swt_mat, swtl.swt_labelled3C],\n",
    "         ['Original Image', 'Stroke Width Transform', 'Connected Components'])"
   ]
  },
  {
   "cell_type": "markdown",
   "metadata": {
    "hidden": true
   },
   "source": [
    "**Time Taken while SWT transformation**"
   ]
  },
  {
   "cell_type": "code",
   "execution_count": null,
   "metadata": {
    "ExecuteTime": {
     "end_time": "2020-09-13T12:45:13.194843Z",
     "start_time": "2020-09-13T12:45:13.187861Z"
    },
    "hidden": true
   },
   "outputs": [],
   "source": [
    "print('Time Taken : ', swtl.transform_time)"
   ]
  },
  {
   "cell_type": "markdown",
   "metadata": {
    "hidden": true
   },
   "source": [
    "**Visualising The intermediary steps**\n",
    "\n",
    "During the process of the Stroke Width transform, there are multiple steps that go in while generating the end result. Below mentioned are the two steps that go in before the end result is reached. \n",
    "    - Edge Image (Tricky One).\n",
    "    - Image Gradient.\n",
    "    \n",
    "**swtloc** gives an option of visualing these stages, and can be accessed as stated in the next code cell"
   ]
  },
  {
   "cell_type": "code",
   "execution_count": null,
   "metadata": {
    "ExecuteTime": {
     "end_time": "2020-09-13T12:45:13.902951Z",
     "start_time": "2020-09-13T12:45:13.197835Z"
    },
    "hidden": true
   },
   "outputs": [],
   "source": [
    "imgshowN([swtl.orig_img, swtl.grayedge_img, swtl.img_gradient],\n",
    "         ['Original Image', 'Edge Image', 'Image Gradient'])"
   ]
  },
  {
   "cell_type": "markdown",
   "metadata": {
    "hidden": true
   },
   "source": [
    "**Text Mode parameter**\n",
    "\n",
    "This is image specific, but an extremely important parameter that takes one of the two value :-\n",
    "- db_lf :> **D**ark **B**ackground **L**ight **F**oreground i.e Light color text on Dark color background\n",
    "- lb_df :> **L**ight **B**ackground **D**ark **F**oreground i.e Dark color text on Light color background\n",
    "\n",
    "This parameters affect how the gradient vectors (the direction) are calulated, since gradient vectors of **db_lf** are in $-ve$ direction to that of **lb_df** gradient vectors"
   ]
  },
  {
   "cell_type": "code",
   "execution_count": null,
   "metadata": {
    "ExecuteTime": {
     "end_time": "2020-09-13T12:46:04.332168Z",
     "start_time": "2020-09-13T12:45:13.904947Z"
    },
    "hidden": true
   },
   "outputs": [],
   "source": [
    "swtl.swttransform(imgpaths=imgpath, text_mode = 'db_lf')\n",
    "db_lf_swt = swtl.swt_mat.copy()\n",
    "\n",
    "swtl.swttransform(imgpaths=imgpath, text_mode = 'lb_df')\n",
    "lb_df_swt = swtl.swt_mat.copy()"
   ]
  },
  {
   "cell_type": "code",
   "execution_count": null,
   "metadata": {
    "ExecuteTime": {
     "end_time": "2020-09-13T12:46:04.791966Z",
     "start_time": "2020-09-13T12:46:04.333164Z"
    },
    "hidden": true
   },
   "outputs": [],
   "source": [
    "imgshowN([db_lf_swt, lb_df_swt],\n",
    "         ['db_lf', 'lb_df'])"
   ]
  },
  {
   "cell_type": "markdown",
   "metadata": {
    "hidden": true
   },
   "source": [
    "**Gaussian Blurr**\n",
    "\n",
    "Right after an image is read from the path provided, the image will be converted into grayscale (default). To contol this operation following parameter can be used :-\n",
    "\n",
    "- gs_blurr = True :> Wether to blurr an image or not.\n",
    "    - blurr_kernel = (5,5) [If gs_blurr = True] :> The kernel size for the operation\n"
   ]
  },
  {
   "cell_type": "code",
   "execution_count": null,
   "metadata": {
    "ExecuteTime": {
     "end_time": "2020-09-13T12:46:30.141371Z",
     "start_time": "2020-09-13T12:46:04.792936Z"
    },
    "hidden": true
   },
   "outputs": [],
   "source": [
    "swtl.swttransform(imgpaths=imgpath, text_mode = 'lb_df', blurr_kernel = (11,11))\n",
    "blurr_swt = swtl.swt_mat.copy()\n",
    "blurr_tt = swtl.transform_time\n",
    "\n",
    "swtl.swttransform(imgpaths=imgpath, text_mode = 'lb_df', gs_blurr = False)\n",
    "nonblurr_swt = swtl.swt_mat.copy()\n",
    "noblurr_tt = swtl.transform_time\n"
   ]
  },
  {
   "cell_type": "code",
   "execution_count": null,
   "metadata": {
    "ExecuteTime": {
     "end_time": "2020-09-13T12:46:30.631067Z",
     "start_time": "2020-09-13T12:46:30.143365Z"
    },
    "hidden": true
   },
   "outputs": [],
   "source": [
    "imgshowN([blurr_swt, nonblurr_swt],\n",
    "         ['Blurr Applied x(11,11). '+blurr_tt, 'No Blurr. '+noblurr_tt])"
   ]
  },
  {
   "cell_type": "markdown",
   "metadata": {
    "hidden": true
   },
   "source": [
    "**Image Edging**\n",
    "\n",
    "Finding the Edge of the image is a tricky part, this is pertaining to the fact that in most of the cases the images we deal with are of not that standard that applying just a opencv Canny operator would result in the desired Edge Image.\n",
    "\n",
    "Sometimes (In most cases) there is some custom processing required before edging, for that reason alone this function accepts one of the following two arguments :- \n",
    "\n",
    "- 'ac' :> Auto-Canny function, an in-built function which will generate the Canny Image from the original image, internally calculating the threshold parameters, although, to tune it even further 'ac_sigma' parameter is provided which can take any value between 0.0 <--> 1.0 .\n",
    "- *A custom function* : This function should have its signature as mentioned below :\n",
    "\n",
    "    def custom_edge_func(gray_image):\n",
    "\n",
    "        Your Function Logic...\n",
    "\n",
    "        edge_image = ...\n",
    "        \n",
    "        return edge_image\n",
    "    "
   ]
  },
  {
   "cell_type": "code",
   "execution_count": null,
   "metadata": {
    "ExecuteTime": {
     "end_time": "2020-09-13T12:46:55.980129Z",
     "start_time": "2020-09-13T12:46:30.632061Z"
    },
    "hidden": true
   },
   "outputs": [],
   "source": [
    "# Default value of ac_sigma is 0.33\n",
    "swtl.swttransform(imgpaths=imgpath, text_mode = 'lb_df', edge_func = 'ac')\n",
    "default_edge = swtl.swt_mat.copy()\n",
    "\n",
    "swtl.swttransform(imgpaths=imgpath, text_mode = 'lb_df', edge_func = 'ac', ac_sigma = 1.0)\n",
    "sigma1_edge = swtl.swt_mat.copy()\n"
   ]
  },
  {
   "cell_type": "code",
   "execution_count": null,
   "metadata": {
    "ExecuteTime": {
     "end_time": "2020-09-13T12:46:56.683242Z",
     "start_time": "2020-09-13T12:46:55.983112Z"
    },
    "hidden": true
   },
   "outputs": [],
   "source": [
    "imgshowN([default_edge, sigma1_edge],\n",
    "         ['Default Edge Function', 'Edge Function @ sigma=1'])"
   ]
  },
  {
   "cell_type": "code",
   "execution_count": null,
   "metadata": {
    "ExecuteTime": {
     "end_time": "2020-09-13T12:46:56.691221Z",
     "start_time": "2020-09-13T12:46:56.685237Z"
    },
    "hidden": true
   },
   "outputs": [],
   "source": [
    "def custom_edge_func(gray_image):\n",
    "    \n",
    "    gauss_image = cv2.GaussianBlur(gray_image, (5,5), 1)\n",
    "    laplacian_conv = cv2.Laplacian(gauss_image, -1, (5,5))\n",
    "    canny_edge = cv2.Canny(laplacian_conv, 20, 140)\n",
    "    \n",
    "    return canny_edge"
   ]
  },
  {
   "cell_type": "code",
   "execution_count": null,
   "metadata": {
    "ExecuteTime": {
     "end_time": "2020-09-13T12:47:11.669641Z",
     "start_time": "2020-09-13T12:46:56.694212Z"
    },
    "hidden": true
   },
   "outputs": [],
   "source": [
    "swtl.swttransform(imgpaths=imgpath, text_mode = 'lb_df', edge_func = 'ac')\n",
    "default_edge = swtl.swt_mat.copy()\n",
    "\n",
    "swtl.swttransform(imgpaths=imgpath, text_mode = 'lb_df', edge_func = custom_edge_func)\n",
    "custom_edge = swtl.swt_mat.copy()\n"
   ]
  },
  {
   "cell_type": "code",
   "execution_count": null,
   "metadata": {
    "ExecuteTime": {
     "end_time": "2020-09-13T12:47:12.290978Z",
     "start_time": "2020-09-13T12:47:11.671633Z"
    },
    "hidden": true
   },
   "outputs": [],
   "source": [
    "imgshowN([default_edge, custom_edge],\n",
    "         ['Default Edge', 'Custom Edge'])"
   ]
  },
  {
   "cell_type": "markdown",
   "metadata": {
    "ExecuteTime": {
     "end_time": "2020-09-11T23:48:02.036962Z",
     "start_time": "2020-09-11T23:48:01.711907Z"
    },
    "hidden": true
   },
   "source": [
    "**Stroke Width Internal Parameters**\n",
    "\n",
    "These parameters play role, while the finding strokes in the image from the Edge Image so generated in the prior stage.\n",
    "\n",
    "- minrsw, (default=3) :> Minimum stroke width\n",
    "- maxrsw, (default=200) :> Maximum stroke width\n",
    "\n",
    "\n",
    "- check_anglediff, default(True) :> Wether to check the angle deviation of originating edge pixel to the final resting pixel\n",
    "    - max_angledev, default(np.pi/6) :> Permissible value of the angle deviation\n"
   ]
  },
  {
   "cell_type": "code",
   "execution_count": null,
   "metadata": {
    "ExecuteTime": {
     "end_time": "2020-09-13T12:47:42.278390Z",
     "start_time": "2020-09-13T12:47:12.293971Z"
    },
    "hidden": true
   },
   "outputs": [],
   "source": [
    "swtl.swttransform(imgpaths=imgpath, text_mode = 'lb_df', edge_func = 'ac',\n",
    "                  minrsw=3,maxrsw=10)\n",
    "small_strokes = swtl.swt_mat.copy()\n",
    "\n",
    "swtl.swttransform(imgpaths=imgpath, text_mode = 'lb_df', edge_func = 'ac',\n",
    "                  minrsw=3, maxrsw=500)\n",
    "big_strokes = swtl.swt_mat.copy()\n",
    "\n",
    "swtl.swttransform(imgpaths=imgpath, text_mode = 'lb_df', edge_func = 'ac',\n",
    "                 max_angledev=np.pi/2)\n",
    "big_angledev = swtl.swt_mat.copy()\n"
   ]
  },
  {
   "cell_type": "code",
   "execution_count": null,
   "metadata": {
    "ExecuteTime": {
     "end_time": "2020-09-13T12:47:42.941652Z",
     "start_time": "2020-09-13T12:47:42.280386Z"
    },
    "hidden": true
   },
   "outputs": [],
   "source": [
    "imgshowN([small_strokes, big_strokes, big_angledev],\n",
    "         ['Small Permissible Strokes', 'Big Permissible Strokes', 'Big Permissible Angle Deviation'])"
   ]
  },
  {
   "cell_type": "markdown",
   "metadata": {
    "hidden": true
   },
   "source": [
    "**Pruning Parameters**\n",
    "Once the SWT transform on the image is complete, these parameters govern the pruning of the connected components in the resultant image :-\n",
    "\n",
    "- minCC_comppx, (default = 50) :> Minimum number of Pixels to be in a connected component, smaller than this will be filtered out.\n",
    "\n",
    "- maxCC_comppx, (default = 10000) :> Maximum number of Pixels to be in a connected component, larger than this will be filtered out.\n",
    "\n",
    "- acceptCC_aspectratio, (default = 5) :> Aspect ratio(Width/Height) should be smaller than the inverse of this parameter."
   ]
  },
  {
   "cell_type": "code",
   "execution_count": null,
   "metadata": {
    "ExecuteTime": {
     "end_time": "2020-09-13T12:48:09.905466Z",
     "start_time": "2020-09-13T12:47:42.943647Z"
    },
    "hidden": true
   },
   "outputs": [],
   "source": [
    "swtl.swttransform(imgpaths=imgpath, text_mode = 'lb_df', edge_func = 'ac',\n",
    "                  minCC_comppx = 50, maxCC_comppx = 1000)\n",
    "max1000_CC = swtl.swtlabelled_pruned13C.copy()\n",
    "\n",
    "swtl.swttransform(imgpaths=imgpath, text_mode = 'lb_df', edge_func = 'ac',\n",
    "                  minCC_comppx = 50, maxCC_comppx = 10000)\n",
    "max10000_CC = swtl.swtlabelled_pruned13C.copy()"
   ]
  },
  {
   "cell_type": "code",
   "execution_count": null,
   "metadata": {
    "ExecuteTime": {
     "end_time": "2020-09-13T12:48:10.491898Z",
     "start_time": "2020-09-13T12:48:09.907460Z"
    },
    "hidden": true
   },
   "outputs": [],
   "source": [
    "imgshowN([max1000_CC, max10000_CC],\n",
    "         ['max=1000', 'max=10000'])"
   ]
  },
  {
   "cell_type": "markdown",
   "metadata": {
    "heading_collapsed": true
   },
   "source": [
    "# Generating Minimum BBoxes"
   ]
  },
  {
   "cell_type": "code",
   "execution_count": null,
   "metadata": {
    "ExecuteTime": {
     "end_time": "2021-01-05T15:19:21.248237Z",
     "start_time": "2021-01-05T15:19:21.244246Z"
    },
    "hidden": true
   },
   "outputs": [],
   "source": [
    "imgpath = imgrootpath+'test_img3.jpg'"
   ]
  },
  {
   "cell_type": "code",
   "execution_count": null,
   "metadata": {
    "ExecuteTime": {
     "end_time": "2021-01-05T15:19:55.977250Z",
     "start_time": "2021-01-05T15:19:54.415426Z"
    },
    "hidden": true
   },
   "outputs": [],
   "source": [
    "_image = cv2.imread(imgpath)\n",
    "swtl.swttransform(image=_image, text_mode='db_lf',\n",
    "                  blurr_kernel = (11,11), max_angledev=np.pi/8, maxrsw=50)"
   ]
  },
  {
   "cell_type": "code",
   "execution_count": null,
   "metadata": {
    "ExecuteTime": {
     "end_time": "2021-01-05T15:19:57.583844Z",
     "start_time": "2021-01-05T15:19:57.240766Z"
    },
    "hidden": true
   },
   "outputs": [],
   "source": [
    "imgshowN([swtl.orig_img, swtl.swt_mat, swtl.swtlabelled_pruned13C],\n",
    "         ['Original Image', 'Stroke Width Transform', 'Connected Components'])"
   ]
  },
  {
   "cell_type": "markdown",
   "metadata": {
    "hidden": true
   },
   "source": [
    "**Generate Minimum Boundging Boxes**\n",
    "\n",
    "Generates *Minimum Area Reactagle* around the recognised component.\n",
    "\n",
    "Two parameters:-\n",
    "- show :> Wether to show the plot or not\n",
    "- padding :> Number of pixels to expand the given rectangle in their diagonal direction"
   ]
  },
  {
   "cell_type": "code",
   "execution_count": null,
   "metadata": {
    "ExecuteTime": {
     "end_time": "2021-01-05T15:20:00.101774Z",
     "start_time": "2021-01-05T15:19:59.851453Z"
    },
    "hidden": true
   },
   "outputs": [],
   "source": [
    "min_bboxes, min_bbox_annotated = swtl.get_min_bbox(show=True, padding=10)"
   ]
  },
  {
   "cell_type": "markdown",
   "metadata": {
    "heading_collapsed": true
   },
   "source": [
    "# Generate External Bounding Boxes"
   ]
  },
  {
   "cell_type": "code",
   "execution_count": null,
   "metadata": {
    "ExecuteTime": {
     "end_time": "2021-01-05T15:20:02.691345Z",
     "start_time": "2021-01-05T15:20:02.687362Z"
    },
    "hidden": true
   },
   "outputs": [],
   "source": [
    "imgpath = imgrootpath+'test_img6.jpeg'"
   ]
  },
  {
   "cell_type": "code",
   "execution_count": null,
   "metadata": {
    "ExecuteTime": {
     "end_time": "2021-01-05T15:20:08.789290Z",
     "start_time": "2021-01-05T15:20:03.862509Z"
    },
    "hidden": true
   },
   "outputs": [],
   "source": [
    "swtl.swttransform(imgpaths=imgpath, text_mode='lb_df', ac_sigma=1.0,\n",
    "                  max_angledev=np.pi/3, maxrsw=50)"
   ]
  },
  {
   "cell_type": "code",
   "execution_count": null,
   "metadata": {
    "ExecuteTime": {
     "end_time": "2021-01-05T15:20:13.331680Z",
     "start_time": "2021-01-05T15:20:12.966935Z"
    },
    "hidden": true
   },
   "outputs": [],
   "source": [
    "imgshowN([swtl.orig_img, swtl.swt_mat, swtl.swtlabelled_pruned13C],\n",
    "         ['Original Image', 'Stroke Width Transform', 'Connected Components'])"
   ]
  },
  {
   "cell_type": "markdown",
   "metadata": {
    "hidden": true
   },
   "source": [
    "**External Bounding Boxes**\n",
    "\n",
    "Generates Bounding Box around the recognised component.\n",
    "\n",
    "Two parameters:-\n",
    "- show :> Wether to show the plot or not\n",
    "- padding :> Number of pixels to expand the given rectangle"
   ]
  },
  {
   "cell_type": "code",
   "execution_count": null,
   "metadata": {
    "ExecuteTime": {
     "end_time": "2021-01-05T15:20:19.421592Z",
     "start_time": "2021-01-05T15:20:19.169235Z"
    },
    "hidden": true
   },
   "outputs": [],
   "source": [
    "min_bboxes, min_bbox_annotated = swtl.get_extreme_bbox(show=True, padding=3)"
   ]
  },
  {
   "cell_type": "markdown",
   "metadata": {
    "heading_collapsed": true
   },
   "source": [
    "# Generate Outline"
   ]
  },
  {
   "cell_type": "code",
   "execution_count": null,
   "metadata": {
    "ExecuteTime": {
     "end_time": "2021-01-05T15:20:20.675286Z",
     "start_time": "2021-01-05T15:20:20.671262Z"
    },
    "hidden": true
   },
   "outputs": [],
   "source": [
    "imgpath = imgrootpath+'test_img9.jpg'"
   ]
  },
  {
   "cell_type": "code",
   "execution_count": null,
   "metadata": {
    "ExecuteTime": {
     "end_time": "2021-01-05T15:20:23.559907Z",
     "start_time": "2021-01-05T15:20:21.167329Z"
    },
    "hidden": true
   },
   "outputs": [],
   "source": [
    "# swtl = SWTLocalizer()\n",
    "swtl.swttransform(imgpaths=imgpath, text_mode='db_lf', ac_sigma=1.0,\n",
    "                  max_angledev=np.pi/3, maxrsw=50)"
   ]
  },
  {
   "cell_type": "code",
   "execution_count": null,
   "metadata": {
    "ExecuteTime": {
     "end_time": "2021-01-05T15:20:23.942922Z",
     "start_time": "2021-01-05T15:20:23.567885Z"
    },
    "hidden": true
   },
   "outputs": [],
   "source": [
    "imgshowN([swtl.orig_img, swtl.swt_mat, swtl.swtlabelled_pruned13C],\n",
    "         ['Original Image', 'Stroke Width Transform', 'Connected Components'])"
   ]
  },
  {
   "cell_type": "markdown",
   "metadata": {
    "hidden": true
   },
   "source": [
    "**Outline**\n",
    "\n",
    "Generates Outline (Contour) around the recognised component.\n",
    "\n",
    "Two parameters:-\n",
    "- show :> Wether to show the plot or not\n",
    "- padding :> Number of pixels to expand the given rectangle"
   ]
  },
  {
   "cell_type": "code",
   "execution_count": null,
   "metadata": {
    "ExecuteTime": {
     "end_time": "2021-01-05T15:20:24.196239Z",
     "start_time": "2021-01-05T15:20:23.949863Z"
    },
    "hidden": true
   },
   "outputs": [],
   "source": [
    "comp_outlines, comp_outline_annot = swtl.get_comp_outline(show=True)"
   ]
  },
  {
   "cell_type": "markdown",
   "metadata": {
    "heading_collapsed": true
   },
   "source": [
    "# Generate Bubble Bounding Boxes\n",
    "\n",
    "This function is responsible for grouping the letters together and generating a Bubble Bounding box around them, preserving the sense of orientation"
   ]
  },
  {
   "cell_type": "code",
   "execution_count": null,
   "metadata": {
    "ExecuteTime": {
     "end_time": "2021-01-05T15:20:24.220143Z",
     "start_time": "2021-01-05T15:20:24.216154Z"
    },
    "hidden": true
   },
   "outputs": [],
   "source": [
    "imgpath = imgrootpath+'test_img7.jpg'"
   ]
  },
  {
   "cell_type": "code",
   "execution_count": null,
   "metadata": {
    "ExecuteTime": {
     "end_time": "2021-01-05T15:20:33.836092Z",
     "start_time": "2021-01-05T15:20:24.283514Z"
    },
    "hidden": true
   },
   "outputs": [],
   "source": [
    "swtl.swttransform(imgpaths=imgpath, text_mode='db_lf',\n",
    "                  max_angledev=np.pi/6, maxrsw=100, minrsw=10, acceptCC_aspectratio=3.0)"
   ]
  },
  {
   "cell_type": "markdown",
   "metadata": {
    "hidden": true
   },
   "source": [
    "**Grouped Bubbled BBoxes**\n",
    "\n",
    "This function groups the already available BBoxes into possible words, based on followinfg rules :-\n",
    "- lookup_radii_multiplier : The radius in which each CC will look\n",
    "- cl_deviat : The deviation in median color permissible $[\\delta R,\\delta G,\\delta B]$ from the other component\n",
    "- ht_ratio : The deviation in height permissible\n",
    "- ar_ratio : The deviation in Aspect Ration permissible\n",
    "- ang_deviat : The deviation allowed of minimum area rect from one CC to other"
   ]
  },
  {
   "cell_type": "code",
   "execution_count": null,
   "metadata": {
    "ExecuteTime": {
     "end_time": "2021-01-05T15:20:38.642787Z",
     "start_time": "2021-01-05T15:20:35.426101Z"
    },
    "hidden": true
   },
   "outputs": [],
   "source": [
    "respacket = swtl.get_grouped(lookup_radii_multiplier=1, sw_ratio=2,\n",
    "                     cl_deviat=[13,13,13], ht_ratio=2, \n",
    "                     ar_ratio=3, ang_deviat=30)\n",
    "\n",
    "grouped_labels = respacket[0]\n",
    "grouped_bubblebbox = respacket[1]\n",
    "grouped_annot_bubble = respacket[2]\n",
    "grouped_annot = respacket[3]\n",
    "maskviz = respacket[4]\n",
    "maskcomb  = respacket[5]"
   ]
  },
  {
   "cell_type": "code",
   "execution_count": null,
   "metadata": {
    "ExecuteTime": {
     "end_time": "2021-01-05T15:20:39.153135Z",
     "start_time": "2021-01-05T15:20:38.738500Z"
    },
    "hidden": true
   },
   "outputs": [],
   "source": [
    "imgshowN([maskviz, maskcomb],\n",
    "         ['Individual CC', 'Combined Circular Masks'])"
   ]
  },
  {
   "cell_type": "code",
   "execution_count": null,
   "metadata": {
    "ExecuteTime": {
     "end_time": "2021-01-05T15:20:39.710608Z",
     "start_time": "2021-01-05T15:20:39.246810Z"
    },
    "hidden": true
   },
   "outputs": [],
   "source": [
    "imgshowN([swtl.orig_img, grouped_annot_bubble],\n",
    "         ['Original', 'Grouped Bubble BBox Annotation'])"
   ]
  },
  {
   "cell_type": "code",
   "execution_count": null,
   "metadata": {
    "hidden": true
   },
   "outputs": [],
   "source": []
  }
 ],
 "metadata": {
  "hide_input": false,
  "kernelspec": {
   "display_name": "Python 3",
   "language": "python",
   "name": "python3"
  },
  "language_info": {
   "codemirror_mode": {
    "name": "ipython",
    "version": 3
   },
   "file_extension": ".py",
   "mimetype": "text/x-python",
   "name": "python",
   "nbconvert_exporter": "python",
   "pygments_lexer": "ipython3",
   "version": "3.8.3"
  },
  "toc": {
   "base_numbering": 1,
   "nav_menu": {},
   "number_sections": true,
   "sideBar": true,
   "skip_h1_title": false,
   "title_cell": "Table of Contents",
   "title_sidebar": "Contents",
   "toc_cell": false,
   "toc_position": {},
   "toc_section_display": true,
   "toc_window_display": false
  },
  "varInspector": {
   "cols": {
    "lenName": 16,
    "lenType": 16,
    "lenVar": 40
   },
   "kernels_config": {
    "python": {
     "delete_cmd_postfix": "",
     "delete_cmd_prefix": "del ",
     "library": "var_list.py",
     "varRefreshCmd": "print(var_dic_list())"
    },
    "r": {
     "delete_cmd_postfix": ") ",
     "delete_cmd_prefix": "rm(",
     "library": "var_list.r",
     "varRefreshCmd": "cat(var_dic_list()) "
    }
   },
   "types_to_exclude": [
    "module",
    "function",
    "builtin_function_or_method",
    "instance",
    "_Feature"
   ],
   "window_display": false
  }
 },
 "nbformat": 4,
 "nbformat_minor": 4
}
