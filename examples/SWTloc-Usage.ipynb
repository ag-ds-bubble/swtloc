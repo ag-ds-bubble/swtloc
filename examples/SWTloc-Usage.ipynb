{
 "cells": [
  {
   "cell_type": "markdown",
   "metadata": {},
   "source": [
    "# Intro"
   ]
  },
  {
   "cell_type": "markdown",
   "metadata": {},
   "source": [
    "SWTLoc is a text localization library implementing the work of [Boris Epshtein, Eyal Ofek & Yonatan Wexler\n",
    "(June, 2010)](https://www.microsoft.com/en-us/research/publication/detecting-text-in-natural-scenes-with-stroke-width-transform/).\n",
    "\n",
    "This library extends the transformation of the image for textual content by giving the ability to :\n",
    "\n",
    "- Localize `Letter`'s : through `SWTImage.localizeLetters`\n",
    "- Localize `Words`'s, via fusing individual `Letter`'s : through `SWTImage.localizeWords`\n",
    "\n",
    "The process flow of is depicted in the image below : \n",
    "\n",
    "![Process Flow](../swtloc/static/SWTLoc_Process_Flow.png \"Process Flow\")\n"
   ]
  },
  {
   "cell_type": "markdown",
   "metadata": {},
   "source": [
    "# Installation"
   ]
  },
  {
   "cell_type": "code",
   "execution_count": null,
   "metadata": {
    "ExecuteTime": {
     "end_time": "2022-02-17T18:08:44.977652Z",
     "start_time": "2022-02-17T18:08:44.960602Z"
    }
   },
   "outputs": [],
   "source": [
    "# !pip install swtloc"
   ]
  },
  {
   "cell_type": "markdown",
   "metadata": {},
   "source": [
    "# Imports"
   ]
  },
  {
   "cell_type": "code",
   "execution_count": null,
   "metadata": {
    "ExecuteTime": {
     "end_time": "2022-03-08T22:29:35.656242Z",
     "start_time": "2022-03-08T22:29:32.189135Z"
    }
   },
   "outputs": [],
   "source": [
    "# OpenCV Version :  4.5.5\n",
    "# Numpy Version :  1.19.5\n",
    "# Numba Version :  0.53.1\n",
    "# SWTLoc Version :  2.1.0\n",
    "import sys\n",
    "import os\n",
    "import numpy as np\n",
    "import numba as nb\n",
    "import pandas as pd\n",
    "from cv2 import cv2\n",
    "import swtloc as swt\n",
    "from platform import python_version\n",
    "\n",
    "print('Python Version : ', python_version())\n",
    "print('Python Path    : ', sys.executable)\n",
    "print('OpenCV Version : ', cv2.__version__)\n",
    "print('Numpy Version  : ', np.__version__)\n",
    "print('Numba Version  : ', nb.__version__)\n",
    "print('SWTLoc Version : ', swt.__version__)"
   ]
  },
  {
   "cell_type": "code",
   "execution_count": null,
   "metadata": {
    "ExecuteTime": {
     "end_time": "2022-03-08T22:29:45.667946Z",
     "start_time": "2022-03-08T22:29:45.650982Z"
    },
    "scrolled": true
   },
   "outputs": [],
   "source": [
    "from swtloc import SWTLocalizer\n",
    "from swtloc.configs import (IMAGE_ORIGINAL,\n",
    "                            IMAGE_GRAYSCALE,\n",
    "                            IMAGE_EDGED,\n",
    "                            IMAGE_SWT_TRANSFORMED,\n",
    "                            IMAGE_CONNECTED_COMPONENTS_1C,\n",
    "                            IMAGE_CONNECTED_COMPONENTS_3C,\n",
    "                            IMAGE_CONNECTED_COMPONENTS_3C_WITH_PRUNED_ELEMENTS,\n",
    "                            IMAGE_CONNECTED_COMPONENTS_PRUNED_1C,\n",
    "                            IMAGE_CONNECTED_COMPONENTS_PRUNED_3C,\n",
    "                            IMAGE_PRUNED_3C_LETTER_LOCALIZATIONS,\n",
    "                            IMAGE_ORIGINAL_LETTER_LOCALIZATIONS,\n",
    "                            IMAGE_ORIGINAL_MASKED_LETTER_LOCALIZATIONS,\n",
    "                            IMAGE_PRUNED_3C_WORD_LOCALIZATIONS,\n",
    "                            IMAGE_ORIGINAL_WORD_LOCALIZATIONS,\n",
    "                            IMAGE_ORIGINAL_MASKED_WORD_LOCALIZATIONS,\n",
    "                            IMAGE_INDIVIDUAL_LETTER_LOCALIZATION,\n",
    "                            IMAGE_ORIGINAL_INDIVIDUAL_LETTER_LOCALIZATION,\n",
    "                            IMAGE_INDIVIDUAL_WORD_LOCALIZATION,\n",
    "                            IMAGE_ORIGINAL_INDIVIDUAL_WORD_LOCALIZATION)\n",
    "from swtloc.utils import image_1C_to_3C\n",
    "from swtloc.utils import show_N_images\n",
    "from swtloc.configs import get_code_descriptions\n",
    "from swtloc.configs import CODE_NAME_VAR_MAPPINGS"
   ]
  },
  {
   "cell_type": "markdown",
   "metadata": {},
   "source": [
    "# Path and Variable Initialisations"
   ]
  },
  {
   "cell_type": "code",
   "execution_count": null,
   "metadata": {
    "ExecuteTime": {
     "end_time": "2022-03-08T22:29:48.454136Z",
     "start_time": "2022-03-08T22:29:48.449147Z"
    }
   },
   "outputs": [],
   "source": [
    "rawimage_path = 'images/'"
   ]
  },
  {
   "cell_type": "code",
   "execution_count": null,
   "metadata": {
    "ExecuteTime": {
     "end_time": "2022-03-08T22:29:49.380963Z",
     "start_time": "2022-03-08T22:29:49.363658Z"
    }
   },
   "outputs": [],
   "source": [
    "img_paths = []\n",
    "res_path = []\n",
    "img_names = []\n",
    "img_text_modes = ['db_lf', 'lb_df', 'db_lf', 'lb_df', 'db_lf', 'db_lf']\n",
    "\n",
    "for each_img in [k for k in os.listdir(rawimage_path) if 'test' in k]:\n",
    "    _ifolder_path = rawimage_path+each_img\n",
    "    _iname = [k for k in os.listdir(_ifolder_path) if '.' in k][0]\n",
    "    _img_path = _ifolder_path+'/'+_iname\n",
    "    img_paths.append(_img_path)\n",
    "    img_names.append(_iname)\n",
    "    res_path.append(_ifolder_path+'/usage_results/')"
   ]
  },
  {
   "cell_type": "markdown",
   "metadata": {},
   "source": [
    "# SWTLocalizer Class"
   ]
  },
  {
   "cell_type": "markdown",
   "metadata": {},
   "source": [
    "`SWTLocalizer` class acts as an entry point for performing transformations to the images. It can accept\n",
    "- Single Image Path\n",
    "- Multiple Image Paths\n",
    "- Single Pre-Loaded Image\n",
    "- Multiple Pre-Loaded Images\n",
    "\n",
    "Once the `SWTLocalizer` object is instantiated, the attribute `swtimages` will be populated with all the `SWTImage` objects corresponding to each input image.\n",
    "\n",
    "<div class=\"alert alert-block alert-info\">\n",
    "<b>NOTE:</b> \n",
    "If the image array is provided through `images` parameter, image names are randomly generated and assigned. Image names are used while saving the results\n",
    "</div>"
   ]
  },
  {
   "cell_type": "markdown",
   "metadata": {},
   "source": [
    "**Instantiating SWTLocalizer with no Input will raise an error**"
   ]
  },
  {
   "cell_type": "code",
   "execution_count": null,
   "metadata": {
    "ExecuteTime": {
     "end_time": "2022-03-08T22:30:22.522024Z",
     "start_time": "2022-03-08T22:30:21.822824Z"
    }
   },
   "outputs": [],
   "source": [
    "swtl = SWTLocalizer()"
   ]
  },
  {
   "cell_type": "markdown",
   "metadata": {},
   "source": [
    "**Instantiating `SWTLocalizer` with Mixed Input will raise an error**"
   ]
  },
  {
   "cell_type": "code",
   "execution_count": null,
   "metadata": {
    "ExecuteTime": {
     "end_time": "2022-03-08T22:30:25.510485Z",
     "start_time": "2022-03-08T22:30:25.443664Z"
    }
   },
   "outputs": [],
   "source": [
    "swtl = SWTLocalizer(images=[img_paths[0]]+[cv2.imread(img_paths[1])])\n",
    "print(swtl.swtimages)"
   ]
  },
  {
   "cell_type": "markdown",
   "metadata": {},
   "source": [
    "**Instantiating `SWTLocalizer` with Single Pre-Loaded Image**"
   ]
  },
  {
   "cell_type": "code",
   "execution_count": null,
   "metadata": {
    "ExecuteTime": {
     "end_time": "2022-03-08T22:30:26.857106Z",
     "start_time": "2022-03-08T22:30:26.823160Z"
    }
   },
   "outputs": [],
   "source": [
    "single_image = cv2.imread(img_paths[0])\n",
    "swtl = SWTLocalizer(images=single_image)\n",
    "print(swtl.swtimages)"
   ]
  },
  {
   "cell_type": "markdown",
   "metadata": {},
   "source": [
    "**Instantiating `SWTLocalizer` with Multiple Pre-Loaded Images**"
   ]
  },
  {
   "cell_type": "code",
   "execution_count": null,
   "metadata": {
    "ExecuteTime": {
     "end_time": "2022-03-08T22:30:28.043695Z",
     "start_time": "2022-03-08T22:30:27.927008Z"
    }
   },
   "outputs": [],
   "source": [
    "multiple_images = [cv2.imread(each_path) for each_path in img_paths]\n",
    "swtl = SWTLocalizer(images=multiple_images)\n",
    "print(swtl.swtimages)"
   ]
  },
  {
   "cell_type": "markdown",
   "metadata": {},
   "source": [
    "**Instantiating `SWTLocalizer` with Single Image Path**"
   ]
  },
  {
   "cell_type": "code",
   "execution_count": null,
   "metadata": {
    "ExecuteTime": {
     "end_time": "2022-03-08T22:30:28.420601Z",
     "start_time": "2022-03-08T22:30:28.382232Z"
    }
   },
   "outputs": [],
   "source": [
    "swtl = SWTLocalizer(image_paths=img_paths[0])\n",
    "print(swtl.swtimages)"
   ]
  },
  {
   "cell_type": "markdown",
   "metadata": {},
   "source": [
    "**Instantiating `SWTLocalizer` with Multiple Image Paths**"
   ]
  },
  {
   "cell_type": "code",
   "execution_count": null,
   "metadata": {
    "ExecuteTime": {
     "end_time": "2022-03-08T22:30:28.901946Z",
     "start_time": "2022-03-08T22:30:28.819199Z"
    }
   },
   "outputs": [],
   "source": [
    "swtl = SWTLocalizer(image_paths=img_paths)\n",
    "print(swtl.swtimages)"
   ]
  },
  {
   "cell_type": "markdown",
   "metadata": {},
   "source": [
    "Once the `swtimages` attribute of the `SWTLocalizer` class has been populated with `SWTImage` object, to perform operations like *transforming*, *pruning*, *localization* etc, grab any of the prepared `SWTImage` object and access its functions for performing the said operations"
   ]
  },
  {
   "cell_type": "code",
   "execution_count": null,
   "metadata": {
    "ExecuteTime": {
     "end_time": "2022-03-08T22:30:29.654464Z",
     "start_time": "2022-03-08T22:30:29.637299Z"
    }
   },
   "outputs": [],
   "source": [
    "swtImgObj = swtl.swtimages[0]\n",
    "swtImgObj"
   ]
  },
  {
   "cell_type": "markdown",
   "metadata": {},
   "source": [
    "# SWT Transformation"
   ]
  },
  {
   "cell_type": "markdown",
   "metadata": {},
   "source": [
    "This section is devoted to explaining the parameters which are available in the `SWTImage.transformImage` function\n",
    "\n",
    "- [text_mode](#SWTImage.transform.text_mode)\n",
    "- [engine](##SWTImage.transform.engine)\n",
    "- [gaussian_blurr](#SWTImage.transform.gaussian_blurr)\n",
    "- [gaussian_blurr_kernel](#SWTImage.transform.gaussian_blurr_kernel)\n",
    "- [edge_function](#SWTImage.transform.edge_function)\n",
    "- [auto_canny_sigma](#SWTImage.transform.auto_canny_sigma)\n",
    "- [minimum_stroke_width](#SWTImage.transform.minimum_stroke_width)\n",
    "- [maximum_stroke_width](#SWTImage.transform.maximum_stroke_width)\n",
    "- [check_angle_deviation](#SWTImage.transform.check_angle_deviation)\n",
    "- [maximum_angle_deviation](#SWTImage.transform.maximum_angle_deviation)\n",
    "- [include_edges_in_swt](#SWTImage.transform.include_edges_in_swt)\n",
    "- [display](#SWTImage.transform.display)\n",
    "\n",
    "Image Codes which become available after running of `SWTImage.transfromImage` function\n",
    "\n",
    "Image-Code | Description \n",
    "--- | --- | \n",
    "IMAGE_ORIGINAL   |  Original Image\n",
    "IMAGE_GRAYSCALE   |  Gray-Scaled Image\n",
    "IMAGE_EDGED   |  Edge Image\n",
    "IMAGE_SWT_TRANSFORMED   |   SWT Transformed Image"
   ]
  },
  {
   "cell_type": "markdown",
   "metadata": {},
   "source": [
    "**Our Muse (🐁) for this Section**"
   ]
  },
  {
   "cell_type": "code",
   "execution_count": null,
   "metadata": {
    "ExecuteTime": {
     "end_time": "2022-03-08T22:30:31.966657Z",
     "start_time": "2022-03-08T22:30:31.230590Z"
    }
   },
   "outputs": [],
   "source": [
    "swtImgObj0 = swtl.swtimages[0]\n",
    "swtImgObj0.showImage()"
   ]
  },
  {
   "cell_type": "markdown",
   "metadata": {},
   "source": [
    "## SWTImage.transform.text_mode\n",
    "**Text Mode Parameter** [default = 'lb_df']\n",
    "\n",
    "This is image specific, but an extremely important parameter that takes one of the two value :-\n",
    "- db_lf :> **D**ark **B**ackground **L**ight **F**oreground i.e Light color text on Dark color background\n",
    "- lb_df :> **L**ight **B**ackground **D**ark **F**oreground i.e Dark color text on Light color background\n",
    "\n",
    "This parameters affect how the gradient vectors (the direction) are calulated, since gradient vectors of **db_lf** are in $-ve$ direction to that of **lb_df** gradient vectors"
   ]
  },
  {
   "cell_type": "markdown",
   "metadata": {},
   "source": [
    "For the image below, the `text_mode` parameter must be \"db_lf\""
   ]
  },
  {
   "cell_type": "code",
   "execution_count": null,
   "metadata": {
    "ExecuteTime": {
     "end_time": "2022-03-08T22:30:38.045361Z",
     "start_time": "2022-03-08T22:30:33.217724Z"
    }
   },
   "outputs": [],
   "source": [
    "swt_mat = swtImgObj0.transformImage(text_mode='db_lf')"
   ]
  },
  {
   "cell_type": "markdown",
   "metadata": {},
   "source": [
    "If we were to use text_mode = 'lb_df' (*default value*) in the above image, the strokes would have been made in the direction opposite to what we would want : "
   ]
  },
  {
   "cell_type": "code",
   "execution_count": null,
   "metadata": {
    "ExecuteTime": {
     "end_time": "2022-03-08T22:30:40.515447Z",
     "start_time": "2022-03-08T22:30:38.078467Z"
    }
   },
   "outputs": [],
   "source": [
    "swt_mat1 = swtImgObj0.transformImage(text_mode='db_lf', display=False)\n",
    "swt_mat2 = swtImgObj0.transformImage(text_mode='lb_df', display=False)\n",
    "\n",
    "show_N_images([image_1C_to_3C(swt_mat1),\n",
    "               image_1C_to_3C(swt_mat2)],\n",
    "              individual_titles=['db_lf', 'lb_df'],\n",
    "              plot_title='Comparing text mode\\n',\n",
    "              sup_title=swtImgObj0.image_name)"
   ]
  },
  {
   "cell_type": "markdown",
   "metadata": {},
   "source": [
    "For the image below, the `text_mode` parameter must be \"lb_df\""
   ]
  },
  {
   "cell_type": "code",
   "execution_count": null,
   "metadata": {
    "ExecuteTime": {
     "end_time": "2022-03-08T22:30:42.777967Z",
     "start_time": "2022-03-08T22:30:40.564885Z"
    }
   },
   "outputs": [],
   "source": [
    "swtImgObj1 = swtl.swtimages[1]\n",
    "swt_mat = swtImgObj1.transformImage(text_mode='lb_df')\n",
    "swtImgObj1._resetSWTTransformParams()"
   ]
  },
  {
   "cell_type": "markdown",
   "metadata": {},
   "source": [
    "## SWTImage.transform.engine\n",
    "**Engine Parameter** [default='numba']\n",
    "\n",
    "This parameter was added from v2.0.0 onwards, there are two available engines for stroke width transformation\n",
    "- `engine`=\"numba\" : Numba No-Python, jit compilation to compine the `findStrokes` function (in core.py) to machine code, hence enhancing the speed of transformation\n",
    "- `engine`=\"python\" : Vanilla Python"
   ]
  },
  {
   "cell_type": "code",
   "execution_count": null,
   "metadata": {
    "ExecuteTime": {
     "end_time": "2022-03-08T22:34:21.146384Z",
     "start_time": "2022-03-08T22:33:23.707965Z"
    },
    "scrolled": false
   },
   "outputs": [],
   "source": [
    "%%timeit -n 10 -r 10\n",
    "# Speed Benchmarking using numba engine\n",
    "_=swtImgObj0.transformImage(text_mode='db_lf', display=False)"
   ]
  },
  {
   "cell_type": "markdown",
   "metadata": {},
   "source": [
    "<div class=\"alert alert-block alert-info\">\n",
    "<b>NOTE:</b> \n",
    "This code block takes long to complete the run...\n",
    "</div>"
   ]
  },
  {
   "cell_type": "code",
   "execution_count": null,
   "metadata": {
    "ExecuteTime": {
     "end_time": "2022-03-08T22:46:24.806472Z",
     "start_time": "2022-03-08T22:34:21.181291Z"
    }
   },
   "outputs": [],
   "source": [
    "%%timeit -n 10 -r 10\n",
    "# Speed Benchmarking using python engine\n",
    "_=swtImgObj0.transformImage(text_mode='db_lf', engine='python', display=False)"
   ]
  },
  {
   "cell_type": "markdown",
   "metadata": {},
   "source": [
    "Clearly, there is nearly 50x speed enhancement while using `engine`=\"numba\", its also the default parameter. Also, while testing the same with other test images, similar speed improvements were found. You can find the Speed Benchmarking for other test images in `README.md`"
   ]
  },
  {
   "cell_type": "markdown",
   "metadata": {},
   "source": [
    "## SWTImage.transform.gaussian_blurr\n",
    "**Gaussian Blurr Parameter** [default = True]\n",
    "\n",
    "Whether to apply gaussian blurr or not."
   ]
  },
  {
   "cell_type": "code",
   "execution_count": null,
   "metadata": {
    "ExecuteTime": {
     "end_time": "2022-03-08T22:46:26.920819Z",
     "start_time": "2022-03-08T22:46:24.857344Z"
    }
   },
   "outputs": [],
   "source": [
    "swt_mat1 = swtImgObj0.transformImage(text_mode='db_lf', gaussian_blurr=True, display=False)\n",
    "gs_time = swtImgObj0.transform_time\n",
    "swt_mat2 = swtImgObj0.transformImage(text_mode='db_lf', gaussian_blurr=False, display=False)\n",
    "nogs_time = swtImgObj0.transform_time\n",
    "\n",
    "show_N_images([image_1C_to_3C(swt_mat1),\n",
    "               image_1C_to_3C(swt_mat2)],\n",
    "              individual_titles=[f'With Gaussian Blurr - {gs_time}', f'Without Gaussian Blurr - {nogs_time}'],\n",
    "              plot_title='Comparing with & w/o Gaussian Blurr\\n',\n",
    "              sup_title=swtImgObj0.image_name)"
   ]
  },
  {
   "cell_type": "markdown",
   "metadata": {},
   "source": [
    "## SWTImage.transform.gaussian_blurr_kernel\n",
    "**Gaussian Blurr Kernel Parameter** [default = (5, 5)]\n",
    "\n",
    "Kernel to use for gaussian blurring when `gaussian_blurr` parameter is set to True"
   ]
  },
  {
   "cell_type": "code",
   "execution_count": null,
   "metadata": {
    "ExecuteTime": {
     "end_time": "2022-03-08T22:46:29.132182Z",
     "start_time": "2022-03-08T22:46:26.992628Z"
    }
   },
   "outputs": [],
   "source": [
    "swt_mat1 = swtImgObj0.transformImage(text_mode='db_lf', gaussian_blurr=True,\n",
    "                                     gaussian_blurr_kernel=(7, 7), display=False)\n",
    "k1_time = swtImgObj0.transform_time\n",
    "swt_mat2 = swtImgObj0.transformImage(text_mode='db_lf', gaussian_blurr=True,\n",
    "                                     gaussian_blurr_kernel=(13, 13), display=False)\n",
    "k2_time = swtImgObj0.transform_time\n",
    "\n",
    "show_N_images([image_1C_to_3C(swt_mat1),\n",
    "               image_1C_to_3C(swt_mat2)],\n",
    "              individual_titles=[f'With Gaussian Blurr Kernel (7, 7) - {k1_time}',\n",
    "                                 f'Without Gaussian Blurr Kernel (13, 13) - {k2_time}'],\n",
    "              plot_title='Comparing with & w/o Gaussian Blurr\\n',\n",
    "              sup_title=swtImgObj0.image_name)"
   ]
  },
  {
   "cell_type": "markdown",
   "metadata": {},
   "source": [
    "## SWTImage.transform.edge_function\n",
    "**Image Edging** [default = 'ac']\n",
    "\n",
    "Finding the Edge of the image is a tricky part, this is pertaining to the fact that in most of the cases the images we deal with are of not that standard that applying just a opencv Canny operator would result in the desired Edge Image.\n",
    "\n",
    "Sometimes (In most cases) there is some custom processing required before edging, for that reason alone this function accepts one of the following two arguments :- \n",
    "\n",
    "- 'ac' :> Auto-Canny function, an in-built function which will generate the Canny Image from the original image, internally calculating the threshold parameters, although, to tune it even further 'ac_sigma' parameter is provided which can take any value between 0.0 <--> 1.0 .\n",
    "\n",
    "- *A custom function* : This function should have its signature as mentioned below :\n",
    "\n",
    "    def custom_edge_func(gauss_image):\n",
    "\n",
    "        Your Function Logic...\n",
    "\n",
    "        edge_image = ...\n",
    "        \n",
    "        return edge_image\n",
    "    "
   ]
  },
  {
   "cell_type": "markdown",
   "metadata": {},
   "source": [
    "**Comparing Auto Canny Sigma Values**"
   ]
  },
  {
   "cell_type": "code",
   "execution_count": null,
   "metadata": {
    "ExecuteTime": {
     "end_time": "2022-03-08T22:46:29.195369Z",
     "start_time": "2022-03-08T22:46:29.181814Z"
    }
   },
   "outputs": [],
   "source": [
    "def custom_edge_func(gray_image):\n",
    "    gauss_image = cv2.GaussianBlur(gray_image, (5,5), 1)\n",
    "    laplacian_conv = cv2.Laplacian(gauss_image, -1, (5,5))\n",
    "    canny_edge = cv2.Canny(laplacian_conv, 20, 140)\n",
    "    return canny_edge"
   ]
  },
  {
   "cell_type": "code",
   "execution_count": null,
   "metadata": {
    "ExecuteTime": {
     "end_time": "2022-03-08T22:46:32.082059Z",
     "start_time": "2022-03-08T22:46:29.197773Z"
    }
   },
   "outputs": [],
   "source": [
    "swt_mat1 = swtImgObj1.transformImage(edge_function=custom_edge_func, display=False)\n",
    "cef_time = swtImgObj1.transform_time\n",
    "swt_mat2 = swtImgObj1.transformImage(edge_function='ac', display=False)\n",
    "ac_time = swtImgObj1.transform_time\n",
    "\n",
    "show_N_images([image_1C_to_3C(swt_mat1),\n",
    "               image_1C_to_3C(swt_mat2)],\n",
    "              individual_titles=[f'With custom edge_function - {cef_time}',\n",
    "                                 f'With auto canny edge function - {ac_time}'],\n",
    "              plot_title='Comparing different method of edge detection\\n',\n",
    "              sup_title=swtImgObj1.image_name)\n",
    "swtImgObj1._resetSWTTransformParams()"
   ]
  },
  {
   "cell_type": "markdown",
   "metadata": {},
   "source": [
    "## SWTImage.transform.auto_canny_sigma\n",
    "**Sigma Values of Auto Canny Edge Function** [default = 0.33]\n",
    "\n",
    "Sigma value of the Auto Canny Edge function, only applicable when `edge_function` = \"ac\""
   ]
  },
  {
   "cell_type": "code",
   "execution_count": null,
   "metadata": {
    "ExecuteTime": {
     "end_time": "2022-03-08T22:46:36.356631Z",
     "start_time": "2022-03-08T22:46:32.084055Z"
    }
   },
   "outputs": [],
   "source": [
    "swt_mat1 = swtImgObj0.transformImage(text_mode='db_lf', auto_canny_sigma=0.1, display=False)\n",
    "acd_time = swtImgObj0.transform_time\n",
    "swt_mat2 = swtImgObj0.transformImage(text_mode='db_lf', auto_canny_sigma=1.0, display=False)\n",
    "ac1_time = swtImgObj0.transform_time\n",
    "\n",
    "show_N_images([image_1C_to_3C(swt_mat1),\n",
    "               image_1C_to_3C(swt_mat2)],\n",
    "              individual_titles=[f'With edge_function=ac & sigma=0.10 - {acd_time}',\n",
    "                                 f'With edge_function=ac & sigma=1.00 - {ac1_time}'],\n",
    "              plot_title='Comparing different values of sigma for auto-canny\\n',\n",
    "              sup_title=swtImgObj.image_name)"
   ]
  },
  {
   "cell_type": "markdown",
   "metadata": {},
   "source": [
    "## SWTImage.transform.include_edges_in_swt\n",
    "**Parameter to include those edges from which no stroke was finalised** [default = True]\n",
    "\n",
    "Not all edges end up generating an eligible strokes from them, this parameter gives an option whether to include those edges in or not. Edges hold the value=1 in the swt image"
   ]
  },
  {
   "cell_type": "code",
   "execution_count": null,
   "metadata": {
    "ExecuteTime": {
     "end_time": "2022-03-08T22:46:38.542786Z",
     "start_time": "2022-03-08T22:46:36.358625Z"
    }
   },
   "outputs": [],
   "source": [
    "swt_mat1 = swtImgObj0.transformImage(text_mode='db_lf', include_edges_in_swt=True,\n",
    "                                     gaussian_blurr_kernel = (11, 11), display=False)\n",
    "we_time = swtImgObj0.transform_time\n",
    "swt_mat2 = swtImgObj0.transformImage(text_mode='db_lf', include_edges_in_swt=False,\n",
    "                                     gaussian_blurr_kernel = (11, 11), display=False)\n",
    "woe_time = swtImgObj0.transform_time\n",
    "\n",
    "show_N_images([image_1C_to_3C(swt_mat1),\n",
    "               image_1C_to_3C(swt_mat2)],\n",
    "              individual_titles=[f'SWT With Edges - {we_time}',\n",
    "                                 f'SWT w/o Edges - {woe_time}'],\n",
    "              plot_title='Comparing with and without edges SWT\\n',\n",
    "              sup_title=swtImgObj0.image_name)"
   ]
  },
  {
   "cell_type": "markdown",
   "metadata": {},
   "source": [
    "## SWTImage.transform.minimum_stroke_width\n",
    "**Minimum Permissible Stroke Length Parameter** [default = 3]\n",
    "\n",
    "While looking for a eligibile stroke emanating from any edge co-ordinate in the image, this parameter governs the minimum stroke length below which the stroke will be disqualified."
   ]
  },
  {
   "cell_type": "code",
   "execution_count": null,
   "metadata": {
    "ExecuteTime": {
     "end_time": "2022-03-08T22:46:39.239270Z",
     "start_time": "2022-03-08T22:46:38.544810Z"
    }
   },
   "outputs": [],
   "source": [
    "swt_mat1 = swtImgObj0.transformImage(text_mode='db_lf', minimum_stroke_width=10,\n",
    "                                     include_edges_in_swt=False, display=False)\n",
    "acd_time = swtImgObj0.transform_time\n",
    "swt_mat2 = swtImgObj0.transformImage(text_mode='db_lf', minimum_stroke_width=20,\n",
    "                                     include_edges_in_swt=False, display=False)\n",
    "ac1_time = swtImgObj0.transform_time"
   ]
  },
  {
   "cell_type": "code",
   "execution_count": null,
   "metadata": {
    "ExecuteTime": {
     "end_time": "2022-03-08T22:46:39.270191Z",
     "start_time": "2022-03-08T22:46:39.241268Z"
    }
   },
   "outputs": [],
   "source": [
    "np.unique(swt_mat1)"
   ]
  },
  {
   "cell_type": "code",
   "execution_count": null,
   "metadata": {
    "ExecuteTime": {
     "end_time": "2022-03-08T22:46:39.535853Z",
     "start_time": "2022-03-08T22:46:39.272185Z"
    }
   },
   "outputs": [],
   "source": [
    "np.unique(swt_mat2)"
   ]
  },
  {
   "cell_type": "markdown",
   "metadata": {},
   "source": [
    "## SWTImage.transform.maximum_stroke_width\n",
    "**Maximum Permissible Stroke Length Parameter** [default = 200]\n",
    "\n",
    "While looking for a eligibile stroke emanating from any edge co-ordinate in the image, this parameter governs the maximum stroke length beyond which the stroke will be disqualified."
   ]
  },
  {
   "cell_type": "code",
   "execution_count": null,
   "metadata": {
    "ExecuteTime": {
     "end_time": "2022-03-08T22:46:41.443802Z",
     "start_time": "2022-03-08T22:46:39.537608Z"
    }
   },
   "outputs": [],
   "source": [
    "swt_mat1 = swtImgObj0.transformImage(text_mode='db_lf', maximum_stroke_width=20, display=False)\n",
    "acd_time = swtImgObj0.transform_time\n",
    "swt_mat2 = swtImgObj0.transformImage(text_mode='db_lf', maximum_stroke_width=70, display=False)\n",
    "ac1_time = swtImgObj0.transform_time\n",
    "\n",
    "show_N_images([image_1C_to_3C(swt_mat1),\n",
    "               image_1C_to_3C(swt_mat2)],\n",
    "              individual_titles=[f'SWT Max Stroke Width = 20 - {we_time}',\n",
    "                                 f'SWT Max Stroke Width = 70 - {woe_time}'],\n",
    "              plot_title='Comparing with and without edges SWT\\n',\n",
    "              sup_title=swtImgObj0.image_name)"
   ]
  },
  {
   "cell_type": "markdown",
   "metadata": {},
   "source": [
    "## SWTImage.transform.check_angle_deviation\n",
    "**Whether to check for angle deviation** [default = True]\n",
    "\n",
    "Lets take an edge point **E1**, from where we start to form a ray in the direction of the gradient vector, and after few steps that ray lands on another edge point **E2**. Now that we have found an edge point **E2** after having started from E1, how can we be sure that this edge point **E2** is of the same letter i.e how can we be sure that the ray is an eligible stroke?\n",
    "\n",
    "For this, the deviation between the gradient vectors of edge point **E1** and **E2** are measured, this parameter `check_angle_deviation` governs whether or not to check that deviation. If set to `False`, the first edge point that ray ends up meeting will stop the ray generation process and that ray will become an eligible stroke.\n",
    "\n",
    "If se to `True` it will be ensured, before locking in the stroke, that the gradient vector of **E2** is nearly 180 degrees. The *nearly* part in last statement is quantified by the parameter [maximum_angle_deviation](#SWTImage.transform.maximum_angle_deviation)"
   ]
  },
  {
   "cell_type": "code",
   "execution_count": null,
   "metadata": {
    "ExecuteTime": {
     "end_time": "2022-03-08T22:46:44.111565Z",
     "start_time": "2022-03-08T22:46:41.774784Z"
    }
   },
   "outputs": [],
   "source": [
    "swt_mat1 = swtImgObj0.transformImage(text_mode='db_lf', check_angle_deviation=True, display=False)\n",
    "ad_time = swtImgObj0.transform_time\n",
    "swt_mat2 = swtImgObj0.transformImage(text_mode='db_lf', check_angle_deviation=False, display=False)\n",
    "wad_time = swtImgObj0.transform_time\n",
    "\n",
    "show_N_images([image_1C_to_3C(swt_mat1),\n",
    "               image_1C_to_3C(swt_mat2)],\n",
    "              individual_titles=[f'SWT with check_angle_deviation - {ad_time}',\n",
    "                                 f'SWT without check_angle_deviation - {wad_time}'],\n",
    "              plot_title='Comparing with and without edges SWT\\n',\n",
    "              sup_title=swtImgObj0.image_name)"
   ]
  },
  {
   "cell_type": "markdown",
   "metadata": {},
   "source": [
    "## SWTImage.transform.maximum_angle_deviation\n",
    "**Acceptable angle deviation in the incoming edge point's gradient vector**[default = np.pi/6]\n",
    "![Process Flow](../swtloc/static/angle_deviation.png \"Process Flow\")\n",
    "\n",
    "As explained in the [check_angle_deviation](#SWTImage.transform.check_angle_deviation), this parameter quantifies whats the acceptable deviation between the gradient angles of the **E1** and any other incoming **E2**."
   ]
  },
  {
   "cell_type": "code",
   "execution_count": null,
   "metadata": {
    "ExecuteTime": {
     "end_time": "2022-03-08T22:46:46.392515Z",
     "start_time": "2022-03-08T22:46:44.159409Z"
    }
   },
   "outputs": [],
   "source": [
    "swt_mat1 = swtImgObj0.transformImage(text_mode='db_lf', maximum_angle_deviation=np.pi/8, display=False)\n",
    "ad8_time = swtImgObj0.transform_time\n",
    "swt_mat2 = swtImgObj0.transformImage(text_mode='db_lf', maximum_angle_deviation=np.pi/2, display=False)\n",
    "ad2_time = swtImgObj0.transform_time\n",
    "\n",
    "show_N_images([image_1C_to_3C(swt_mat1),\n",
    "               image_1C_to_3C(swt_mat2)],\n",
    "              individual_titles=[f'SWT with maximum_angle_deviation=np.pi/8 - {ad8_time}',\n",
    "                                 f'SWT without maximum_angle_deviation=np.pi/2 - {ad2_time}'],\n",
    "              plot_title='Comparing with and without edges SWT\\n',\n",
    "              sup_title=swtImgObj0.image_name)"
   ]
  },
  {
   "cell_type": "markdown",
   "metadata": {},
   "source": [
    "## SWTImage.transform.display\n",
    "This parameter just governs whether to display that particular stage's process. Its interpretation is same for all the functions in `SWTImage` class."
   ]
  },
  {
   "cell_type": "code",
   "execution_count": null,
   "metadata": {
    "ExecuteTime": {
     "end_time": "2022-03-08T22:46:48.540798Z",
     "start_time": "2022-03-08T22:46:46.427026Z"
    }
   },
   "outputs": [],
   "source": [
    "swt_mat1 = swtImgObj0.transformImage(text_mode='db_lf', maximum_angle_deviation=np.pi/8, display=True)"
   ]
  },
  {
   "cell_type": "markdown",
   "metadata": {},
   "source": [
    "# Letter Localizations, Annotations & Query"
   ]
  },
  {
   "cell_type": "markdown",
   "metadata": {},
   "source": [
    "`SWTImage.localizeLetters` function is responsible for localizing letters based on the following parameters. Apart from localization this function also calculates and generates boundaries across each individual letters.\n",
    "\n",
    "\n",
    "- [minimum_pixels_per_cc](#SWTImage.localizeLetters.minimum_pixels_per_cc)\n",
    "- [maximum_pixels_per_cc](#SWTImage.localizeLetters.maximum_pixels_per_cc)\n",
    "- [acceptable_aspect_ratio](#SWTImage.localizeLetters.acceptable_aspect_ratio)\n",
    "- [localize_by](#SWTImage.localizeLetters.localize_by)\n",
    "- [padding_pct](#SWTImage.localizeLetters.padding_pct)\n",
    "\n",
    "Connected Components are found using OpenCV's `connectedComponentsWithStats` function, in which each pixel is grouped to a blob of pixels who share their borders. Once these components have been found, pruning is done based on three parameters as stated above and explained below.\n",
    "\n",
    "After the pruning it is assumed, whatever components which remain are worthy of being called as `Letter`'s.\n",
    "\n",
    "These are the Image Codes which become available after running of `SWTImage.localizeLetters` function :\n",
    "\n",
    "Image-Code | Description\n",
    "--- | --- |\n",
    "IMAGE_CONNECTED_COMPONENTS_1C | Connected Components Single Channel\n",
    "IMAGE_CONNECTED_COMPONENTS_3C | Connected Components RGB Channel\n",
    "IMAGE_CONNECTED_COMPONENTS_3C_WITH_PRUNED_ELEMENTS | Connected Components Regions which were pruned (in red)\n",
    "IMAGE_CONNECTED_COMPONENTS_PRUNED_1C | Pruned Connected Components Single Channel\n",
    "IMAGE_CONNECTED_COMPONENTS_PRUNED_3C | Pruned Connected Components RGB Channel\n",
    "IMAGE_PRUNED_3C_LETTER_LOCALIZATIONS | Pruned RGB Channel SWT Image With Letter Localizations\n",
    "IMAGE_ORIGINAL_LETTER_LOCALIZATIONS | Original Image With Letter Localizations\n",
    "IMAGE_ORIGINAL_MASKED_LETTER_LOCALIZATIONS | Original Image With Masked Letter Localizations"
   ]
  },
  {
   "cell_type": "markdown",
   "metadata": {},
   "source": [
    "**Our Muse (🐁) for this Section**"
   ]
  },
  {
   "cell_type": "code",
   "execution_count": null,
   "metadata": {
    "ExecuteTime": {
     "end_time": "2022-03-08T22:46:49.075406Z",
     "start_time": "2022-03-08T22:46:48.605567Z"
    }
   },
   "outputs": [],
   "source": [
    "swtImgObj1 = swtl.swtimages[1]\n",
    "swtImgObj1.showImage()"
   ]
  },
  {
   "cell_type": "markdown",
   "metadata": {},
   "source": [
    "**Transformation**"
   ]
  },
  {
   "cell_type": "code",
   "execution_count": null,
   "metadata": {
    "ExecuteTime": {
     "end_time": "2022-03-08T22:46:52.350801Z",
     "start_time": "2022-03-08T22:46:49.126236Z"
    }
   },
   "outputs": [],
   "source": [
    "swt_mat = swtImgObj1.transformImage(text_mode='lb_df',\n",
    "                                    maximum_angle_deviation=np.pi/4, \n",
    "                                    include_edges_in_swt=True)"
   ]
  },
  {
   "cell_type": "markdown",
   "metadata": {},
   "source": [
    "## SWTImage.localizeLetters.minimum_pixels_per_cc\n",
    "\n",
    "All those connected components whose area(number of pixels in that connected component) is less than `minimum_pixels_per_cc` will be pruned"
   ]
  },
  {
   "cell_type": "code",
   "execution_count": null,
   "metadata": {
    "ExecuteTime": {
     "end_time": "2022-03-08T22:46:54.647658Z",
     "start_time": "2022-03-08T22:46:52.415613Z"
    }
   },
   "outputs": [],
   "source": [
    "localized_letters = swtImgObj1.localizeLetters()"
   ]
  },
  {
   "cell_type": "code",
   "execution_count": null,
   "metadata": {
    "ExecuteTime": {
     "end_time": "2022-03-08T22:46:56.421263Z",
     "start_time": "2022-03-08T22:46:54.695488Z"
    }
   },
   "outputs": [],
   "source": [
    "localized_letters = swtImgObj1.localizeLetters(minimum_pixels_per_cc=9000)"
   ]
  },
  {
   "cell_type": "markdown",
   "metadata": {},
   "source": [
    "## SWTImage.localizeLetters.maximum_pixels_per_cc\n",
    "\n",
    "All those connected components whose area(number of pixels in that connected component) is more than `maximum_pixels_per_cc` will be pruned"
   ]
  },
  {
   "cell_type": "code",
   "execution_count": null,
   "metadata": {
    "ExecuteTime": {
     "end_time": "2022-03-08T22:46:58.427110Z",
     "start_time": "2022-03-08T22:46:56.485060Z"
    }
   },
   "outputs": [],
   "source": [
    "localized_letters = swtImgObj1.localizeLetters(maximum_pixels_per_cc=3_000)"
   ]
  },
  {
   "cell_type": "code",
   "execution_count": null,
   "metadata": {
    "ExecuteTime": {
     "end_time": "2022-03-08T22:47:00.751075Z",
     "start_time": "2022-03-08T22:46:58.477759Z"
    }
   },
   "outputs": [],
   "source": [
    "localized_letters = swtImgObj1.localizeLetters(maximum_pixels_per_cc=5_000)"
   ]
  },
  {
   "cell_type": "markdown",
   "metadata": {},
   "source": [
    "## SWTImage.localizeLetters.acceptable_aspect_ratio\n",
    "\n",
    "All those connected components whose aspect ratio (width/height) is less than `acceptable_aspect_ratio` will be pruned"
   ]
  },
  {
   "cell_type": "code",
   "execution_count": null,
   "metadata": {
    "ExecuteTime": {
     "end_time": "2022-03-08T22:47:01.700738Z",
     "start_time": "2022-03-08T22:47:00.784888Z"
    }
   },
   "outputs": [],
   "source": [
    "swtImgObj2 = swtl.swtimages[2]\n",
    "swt_mat = swtImgObj2.transformImage(text_mode='db_lf',\n",
    "                                    maximum_stroke_width=30,\n",
    "                                    maximum_angle_deviation=np.pi/8)"
   ]
  },
  {
   "cell_type": "code",
   "execution_count": null,
   "metadata": {
    "ExecuteTime": {
     "end_time": "2022-03-08T22:47:02.838731Z",
     "start_time": "2022-03-08T22:47:01.763570Z"
    }
   },
   "outputs": [],
   "source": [
    "localized_letters = swtImgObj2.localizeLetters(acceptable_aspect_ratio=0.5)"
   ]
  },
  {
   "cell_type": "code",
   "execution_count": null,
   "metadata": {
    "ExecuteTime": {
     "end_time": "2022-03-08T22:47:04.155839Z",
     "start_time": "2022-03-08T22:47:02.905594Z"
    }
   },
   "outputs": [],
   "source": [
    "localized_letters = swtImgObj2.localizeLetters(acceptable_aspect_ratio=0.005)"
   ]
  },
  {
   "cell_type": "markdown",
   "metadata": {},
   "source": [
    "## SWTImage.localizeLetters.localize_by\n",
    "\n",
    "There are three possible parameters which can be given to this function\n",
    "- min_bbox : Minimum Bounding Box Boundary calculation & annotation \n",
    "- ext_bbox : Extreme Bounding Box Boundary calculation & annotation\n",
    "- outline : Outline (Contour) Boundary calculation & annotation\n"
   ]
  },
  {
   "cell_type": "code",
   "execution_count": null,
   "metadata": {
    "ExecuteTime": {
     "end_time": "2022-03-08T22:47:05.445663Z",
     "start_time": "2022-03-08T22:47:04.221183Z"
    }
   },
   "outputs": [],
   "source": [
    "localized_letters = swtImgObj2.localizeLetters(localize_by='min_bbox')"
   ]
  },
  {
   "cell_type": "code",
   "execution_count": null,
   "metadata": {
    "ExecuteTime": {
     "end_time": "2022-03-08T22:47:06.546503Z",
     "start_time": "2022-03-08T22:47:05.495347Z"
    }
   },
   "outputs": [],
   "source": [
    "localized_letters = swtImgObj2.localizeLetters(localize_by='ext_bbox')"
   ]
  },
  {
   "cell_type": "code",
   "execution_count": null,
   "metadata": {
    "ExecuteTime": {
     "end_time": "2022-03-08T22:47:07.650690Z",
     "start_time": "2022-03-08T22:47:06.611338Z"
    }
   },
   "outputs": [],
   "source": [
    "localized_letters = swtImgObj2.localizeLetters(localize_by='outline')"
   ]
  },
  {
   "cell_type": "markdown",
   "metadata": {},
   "source": [
    "## SWTImage.localizeLetters.padding_pct\n",
    "\n",
    "While annotating, sometimes the annotation are quite tightly packed to the component itself, `padding_pct` will inflate the boundary which are calculated. This parameter is only applicable for `min_bbox` and `ext_bbox` localizations"
   ]
  },
  {
   "cell_type": "code",
   "execution_count": null,
   "metadata": {
    "ExecuteTime": {
     "end_time": "2022-03-08T22:47:08.894533Z",
     "start_time": "2022-03-08T22:47:07.708318Z"
    }
   },
   "outputs": [],
   "source": [
    "localized_letters = swtImgObj2.localizeLetters()"
   ]
  },
  {
   "cell_type": "code",
   "execution_count": null,
   "metadata": {
    "ExecuteTime": {
     "end_time": "2022-03-08T22:47:09.920149Z",
     "start_time": "2022-03-08T22:47:08.958733Z"
    }
   },
   "outputs": [],
   "source": [
    "localized_letters = swtImgObj2.localizeLetters(padding_pct=0.1)"
   ]
  },
  {
   "cell_type": "markdown",
   "metadata": {},
   "source": [
    "# Word Localization, Annotations & Query"
   ]
  },
  {
   "cell_type": "markdown",
   "metadata": {},
   "source": [
    "After having the letters localizer, there exists a core class `Fusion` whose job is to group individual components into `Words`, comparing aspects like :\n",
    "\n",
    "- Proximity of letters to each other\n",
    "- Relative minimum bounding box rotation angle from each other\n",
    "- Deviation in color between from one component to the other\n",
    "- Ratio of stroke widths from one to the other\n",
    "- Ratio of minimum bounding box height of one to the other\n",
    "\n",
    "The above comparisions are taken care of by the following parameters :\n",
    "\n",
    "- [localize_by](#SWTImage.localizeWords.localize_by)\n",
    "- [lookup_radius_multiplier]\n",
    "- [acceptable_stroke_width_ratio]\n",
    "- [acceptable_color_deviation]\n",
    "- [acceptable_height_ratio]\n",
    "- [acceptable_angle_deviation]\n",
    "- [polygon_dilate_iterations]\n",
    "- [polygon_dilate_kernel]\n",
    "\n",
    "\n",
    "Image-Code | Description \n",
    "--- | --- | \n",
    "IMAGE_PRUNED_3C_WORD_LOCALIZATIONS | Pruned RGB Channel SWT Image With Words Localizations\n",
    "IMAGE_ORIGINAL_WORD_LOCALIZATIONS | Original Image With Words Localizations\n",
    "IMAGE_ORIGINAL_MASKED_WORD_LOCALIZATIONS | Original Image With Masked Words Localizations\n",
    "\n",
    "<div class=\"alert alert-block alert-info\">\n",
    "<b>NOTE:</b> \n",
    "For `SWTImage.localizeWords` to run, it is required that `SWTImage.localizeLetters` has already been run with `localize_by` parameter set to \"min_bbox\"\n",
    "</div>"
   ]
  },
  {
   "cell_type": "markdown",
   "metadata": {},
   "source": [
    "**Our Muse (🐁) for this Section**"
   ]
  },
  {
   "cell_type": "code",
   "execution_count": null,
   "metadata": {
    "ExecuteTime": {
     "end_time": "2022-03-08T22:47:10.267328Z",
     "start_time": "2022-03-08T22:47:09.952123Z"
    }
   },
   "outputs": [],
   "source": [
    "swtImgObj3 = swtl.swtimages[3]\n",
    "swtImgObj3.showImage()"
   ]
  },
  {
   "cell_type": "markdown",
   "metadata": {},
   "source": [
    "**Applying Transformations**"
   ]
  },
  {
   "cell_type": "code",
   "execution_count": null,
   "metadata": {
    "ExecuteTime": {
     "end_time": "2022-03-08T22:47:11.400127Z",
     "start_time": "2022-03-08T22:47:10.316151Z"
    }
   },
   "outputs": [],
   "source": [
    "swt_mat = swtImgObj3.transformImage(auto_canny_sigma=1.0,\n",
    "                                    minimum_stroke_width=3,\n",
    "                                    maximum_stroke_width=20,\n",
    "                                    maximum_angle_deviation=np.pi/6)"
   ]
  },
  {
   "cell_type": "markdown",
   "metadata": {},
   "source": [
    "**Localizing Letters**"
   ]
  },
  {
   "cell_type": "code",
   "execution_count": null,
   "metadata": {
    "ExecuteTime": {
     "end_time": "2022-03-08T22:47:12.675151Z",
     "start_time": "2022-03-08T22:47:11.465045Z"
    }
   },
   "outputs": [],
   "source": [
    "# Localising Letters\n",
    "localized_letters = swtImgObj3.localizeLetters(localize_by='ext_bbox')"
   ]
  },
  {
   "cell_type": "markdown",
   "metadata": {},
   "source": [
    "**SWTImageProcess Error will be raised if `.localizeLetters(localize_by='min_bbox')`** hasnt been run already, as the properties which are calculated while localzing letters by `min_bbox` such as the min_bbox circum radius are required to fuse letters into words."
   ]
  },
  {
   "cell_type": "code",
   "execution_count": null,
   "metadata": {
    "ExecuteTime": {
     "end_time": "2022-03-08T22:47:13.257125Z",
     "start_time": "2022-03-08T22:47:12.739311Z"
    }
   },
   "outputs": [],
   "source": [
    "# Localising Letters\n",
    "localized_letters = swtImgObj3.localizeWords()"
   ]
  },
  {
   "cell_type": "code",
   "execution_count": null,
   "metadata": {
    "ExecuteTime": {
     "end_time": "2022-03-08T22:49:10.481092Z",
     "start_time": "2022-03-08T22:49:09.295255Z"
    }
   },
   "outputs": [],
   "source": [
    "# Solution : Run .localizeLetters default localize_by = 'min_bbox' (default) \n",
    "# before running .localizeWords\n",
    "localized_letters = swtImgObj3.localizeLetters()"
   ]
  },
  {
   "cell_type": "markdown",
   "metadata": {},
   "source": [
    "## SWTImage.localizeWords.localize_by\n",
    "**This parameter switches between various annotations which can be added to the words** [default = 'bubble']\n",
    "\n",
    "Possible values are :\n",
    "- 'bubble' : Bubble Boundary\n",
    "- 'bbox' : Bounding Box\n",
    "- 'polygon' : Contour Boundary"
   ]
  },
  {
   "cell_type": "code",
   "execution_count": null,
   "metadata": {
    "ExecuteTime": {
     "end_time": "2022-03-08T22:49:14.183370Z",
     "start_time": "2022-03-08T22:49:13.395468Z"
    }
   },
   "outputs": [],
   "source": [
    "localized_words = swtImgObj3.localizeWords(localize_by='bubble')"
   ]
  },
  {
   "cell_type": "code",
   "execution_count": null,
   "metadata": {
    "ExecuteTime": {
     "end_time": "2022-03-08T22:49:14.970268Z",
     "start_time": "2022-03-08T22:49:14.216243Z"
    }
   },
   "outputs": [],
   "source": [
    "localized_words = swtImgObj3.localizeWords(localize_by='bbox')"
   ]
  },
  {
   "cell_type": "code",
   "execution_count": null,
   "metadata": {
    "ExecuteTime": {
     "end_time": "2022-03-08T22:49:15.868864Z",
     "start_time": "2022-03-08T22:49:15.004769Z"
    }
   },
   "outputs": [],
   "source": [
    "localized_words = swtImgObj3.localizeWords(localize_by='polygon')"
   ]
  },
  {
   "cell_type": "markdown",
   "metadata": {},
   "source": [
    "# Display Intermediary Images"
   ]
  },
  {
   "cell_type": "markdown",
   "metadata": {},
   "source": [
    "From v2.0.0 onwards, a provision was added to save the intermediary stage images by access the `SWTImage.showImage` function. "
   ]
  },
  {
   "cell_type": "markdown",
   "metadata": {},
   "source": [
    "**Available Image Codes**"
   ]
  },
  {
   "cell_type": "code",
   "execution_count": null,
   "metadata": {
    "ExecuteTime": {
     "end_time": "2022-03-08T22:49:16.026438Z",
     "start_time": "2022-03-08T22:49:15.905726Z"
    }
   },
   "outputs": [],
   "source": [
    "image_code_df = pd.DataFrame(columns=['Description'])\n",
    "\n",
    "for each_code_name, each_code in CODE_NAME_VAR_MAPPINGS.items():\n",
    "    image_code_df.loc[each_code_name] = get_code_descriptions(each_code).replace('\\n', ' ')\n",
    "image_code_df.style.set_properties(**{'width': '600px', 'text-align': 'center'})"
   ]
  },
  {
   "cell_type": "markdown",
   "metadata": {},
   "source": [
    "**Our Muse (🐁) for this Section**"
   ]
  },
  {
   "cell_type": "code",
   "execution_count": null,
   "metadata": {
    "ExecuteTime": {
     "end_time": "2022-03-08T22:49:16.734743Z",
     "start_time": "2022-03-08T22:49:16.060132Z"
    }
   },
   "outputs": [],
   "source": [
    "swtImgObj4 = swtl.swtimages[4]\n",
    "swtImgObj4.showImage()"
   ]
  },
  {
   "cell_type": "code",
   "execution_count": null,
   "metadata": {
    "ExecuteTime": {
     "end_time": "2022-03-08T22:49:25.909321Z",
     "start_time": "2022-03-08T22:49:16.782152Z"
    }
   },
   "outputs": [],
   "source": [
    "swt_mat = swtImgObj4.transformImage(text_mode='db_lf', maximum_angle_deviation=np.pi/2,\n",
    "                                    edge_function='ac', \n",
    "                                    minimum_stroke_width=3, maximum_stroke_width=50, display=False)\n",
    "localized_letters = swtImgObj4.localizeLetters()\n",
    "localized_words = swtImgObj4.localizeWords()"
   ]
  },
  {
   "cell_type": "markdown",
   "metadata": {},
   "source": [
    "**Display Multiple Images**"
   ]
  },
  {
   "cell_type": "code",
   "execution_count": null,
   "metadata": {
    "ExecuteTime": {
     "end_time": "2022-03-08T22:49:27.345293Z",
     "start_time": "2022-03-08T22:49:25.976553Z"
    }
   },
   "outputs": [],
   "source": [
    "swtImgObj4.showImage(image_codes=[IMAGE_SWT_TRANSFORMED, \n",
    "                                 IMAGE_CONNECTED_COMPONENTS_3C_WITH_PRUNED_ELEMENTS],\n",
    "                    plot_title='SWT Image and Components which were pruned')"
   ]
  },
  {
   "cell_type": "markdown",
   "metadata": {},
   "source": [
    "**Save Prepared Images**"
   ]
  },
  {
   "cell_type": "code",
   "execution_count": null,
   "metadata": {
    "ExecuteTime": {
     "end_time": "2022-03-08T22:49:29.055242Z",
     "start_time": "2022-03-08T22:49:27.410429Z"
    }
   },
   "outputs": [],
   "source": [
    "swtImgObj4.showImage(image_codes=[IMAGE_SWT_TRANSFORMED, \n",
    "                                 IMAGE_CONNECTED_COMPONENTS_3C_WITH_PRUNED_ELEMENTS],\n",
    "                    plot_title='SWT Image and Components which were pruned', \n",
    "                    save_fig=True, save_dir=res_path[4])"
   ]
  },
  {
   "cell_type": "markdown",
   "metadata": {},
   "source": [
    "# Save Crops of `Letter`'s and `Word`'s"
   ]
  },
  {
   "cell_type": "markdown",
   "metadata": {},
   "source": [
    "From v2.0.0 onwards, provision to save a crop of the `Letter` or a `Word` has been added via the function `SWTImage.saveCrop`. The crops can be made on any one of the available image codes for a particular `letter` or `word` key"
   ]
  },
  {
   "cell_type": "markdown",
   "metadata": {},
   "source": [
    "**Our Muse (🐁) for this Section**"
   ]
  },
  {
   "cell_type": "code",
   "execution_count": null,
   "metadata": {
    "ExecuteTime": {
     "end_time": "2022-03-08T22:49:29.496239Z",
     "start_time": "2022-03-08T22:49:29.128226Z"
    }
   },
   "outputs": [],
   "source": [
    "swtImgObj5 = swtl.swtimages[5]\n",
    "swtImgObj5.showImage()"
   ]
  },
  {
   "cell_type": "markdown",
   "metadata": {},
   "source": [
    "**Performing Transformations and Localizations**"
   ]
  },
  {
   "cell_type": "code",
   "execution_count": null,
   "metadata": {
    "ExecuteTime": {
     "end_time": "2022-03-08T22:49:32.001921Z",
     "start_time": "2022-03-08T22:49:29.559654Z"
    },
    "scrolled": false
   },
   "outputs": [],
   "source": [
    "swt_mat = swtImgObj5.transformImage(text_mode='db_lf', maximum_angle_deviation=np.pi/2,\n",
    "                                    edge_function='ac', \n",
    "                                    minimum_stroke_width=3, maximum_stroke_width=50, display=False)\n",
    "localized_letters = swtImgObj5.localizeLetters(minimum_pixels_per_cc=80,\n",
    "                                               maximum_pixels_per_cc=400)\n",
    "localized_words = swtImgObj5.localizeWords(localize_by='bbox')"
   ]
  },
  {
   "cell_type": "markdown",
   "metadata": {},
   "source": [
    "**While sifting through the multitudes of letters and words localized, it becomes cumbersome to query a function for every label and then see which letter/word is of interest to use the crop of. For this purpose, two functions `letterIterator` and `wordIterator` are provided in the `SWTImage` object which return a generator for a particular `localize_type`**\n",
    "\n",
    "<div class=\"alert alert-block alert-info\">\n",
    "<b>NOTE:</b> \n",
    "Before accessing a generator through `letterIterator` or `wordIterator` for a particular `localizeType`\n",
    "ensure that the `localizeLetters` and `localizeWords` have already run for that particular `localizeType`\n",
    "</div>\n"
   ]
  },
  {
   "cell_type": "code",
   "execution_count": null,
   "metadata": {
    "ExecuteTime": {
     "end_time": "2022-03-08T22:49:32.064511Z",
     "start_time": "2022-03-08T22:49:32.051460Z"
    }
   },
   "outputs": [],
   "source": [
    "# Letter Iterator\n",
    "letter_iterator = swtImgObj5.letterIterator()\n",
    "word_iterator = swtImgObj5.wordIterator(localize_by='bbox')"
   ]
  },
  {
   "cell_type": "code",
   "execution_count": null,
   "metadata": {
    "ExecuteTime": {
     "end_time": "2022-03-08T22:49:32.767459Z",
     "start_time": "2022-03-08T22:49:32.130163Z"
    }
   },
   "outputs": [],
   "source": [
    "letter, orig_letter, orig_masked_letter = next(letter_iterator)"
   ]
  },
  {
   "cell_type": "code",
   "execution_count": null,
   "metadata": {
    "ExecuteTime": {
     "end_time": "2022-03-08T22:49:33.325502Z",
     "start_time": "2022-03-08T22:49:32.864611Z"
    }
   },
   "outputs": [],
   "source": [
    "swtImgObj5.saveCrop(save_path=res_path[5], crop_of='letters', \n",
    "                   crop_key=int(letter.label), crop_on=IMAGE_SWT_TRANSFORMED, crop_type='min_bbox')\n",
    "swtImgObj5.saveCrop(save_path=res_path[5], crop_of='letters', \n",
    "                   crop_key=int(letter.label), crop_on=IMAGE_ORIGINAL, crop_type='min_bbox')"
   ]
  },
  {
   "cell_type": "code",
   "execution_count": null,
   "metadata": {
    "ExecuteTime": {
     "end_time": "2022-03-08T22:49:33.921599Z",
     "start_time": "2022-03-08T22:49:33.389487Z"
    }
   },
   "outputs": [],
   "source": [
    "word, orig_word, orig_masked_word = next(word_iterator)"
   ]
  },
  {
   "cell_type": "code",
   "execution_count": null,
   "metadata": {
    "ExecuteTime": {
     "end_time": "2022-03-08T22:49:34.458246Z",
     "start_time": "2022-03-08T22:49:33.970308Z"
    }
   },
   "outputs": [],
   "source": [
    "swtImgObj5.saveCrop(save_path=res_path[5], crop_of='words', \n",
    "                   crop_key=int(word.label), crop_on=IMAGE_SWT_TRANSFORMED, crop_type='bbox')\n",
    "swtImgObj5.saveCrop(save_path=res_path[5], crop_of='words', \n",
    "                   crop_key=int(word.label), crop_on=IMAGE_ORIGINAL, crop_type='bbox')"
   ]
  },
  {
   "cell_type": "code",
   "execution_count": null,
   "metadata": {},
   "outputs": [],
   "source": []
  },
  {
   "cell_type": "markdown",
   "metadata": {},
   "source": [
    "# Random Testing Space"
   ]
  },
  {
   "cell_type": "code",
   "execution_count": null,
   "metadata": {},
   "outputs": [],
   "source": []
  }
 ],
 "metadata": {
  "hide_input": false,
  "kernelspec": {
   "display_name": "py39VenvDev",
   "language": "python",
   "name": "py39venvdev"
  },
  "language_info": {
   "codemirror_mode": {
    "name": "ipython",
    "version": 3
   },
   "file_extension": ".py",
   "mimetype": "text/x-python",
   "name": "python",
   "nbconvert_exporter": "python",
   "pygments_lexer": "ipython3",
   "version": "3.9.7"
  },
  "toc": {
   "base_numbering": 1,
   "nav_menu": {},
   "number_sections": true,
   "sideBar": true,
   "skip_h1_title": false,
   "title_cell": "Table of Contents",
   "title_sidebar": "Contents",
   "toc_cell": false,
   "toc_position": {},
   "toc_section_display": true,
   "toc_window_display": false
  },
  "varInspector": {
   "cols": {
    "lenName": 16,
    "lenType": 16,
    "lenVar": 40
   },
   "kernels_config": {
    "python": {
     "delete_cmd_postfix": "",
     "delete_cmd_prefix": "del ",
     "library": "var_list.py",
     "varRefreshCmd": "print(var_dic_list())"
    },
    "r": {
     "delete_cmd_postfix": ") ",
     "delete_cmd_prefix": "rm(",
     "library": "var_list.r",
     "varRefreshCmd": "cat(var_dic_list()) "
    }
   },
   "types_to_exclude": [
    "module",
    "function",
    "builtin_function_or_method",
    "instance",
    "_Feature"
   ],
   "window_display": false
  }
 },
 "nbformat": 4,
 "nbformat_minor": 4
}
