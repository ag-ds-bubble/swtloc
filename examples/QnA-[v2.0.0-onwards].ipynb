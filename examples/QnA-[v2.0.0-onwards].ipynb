{
 "cells": [
  {
   "cell_type": "markdown",
   "metadata": {},
   "source": [
    "**This notebook to answers StackOverflow and Issue Questions**"
   ]
  },
  {
   "cell_type": "markdown",
   "metadata": {},
   "source": [
    "# Imports"
   ]
  },
  {
   "cell_type": "code",
   "execution_count": null,
   "metadata": {
    "ExecuteTime": {
     "end_time": "2022-02-17T18:18:39.309124Z",
     "start_time": "2022-02-17T18:18:37.642665Z"
    }
   },
   "outputs": [],
   "source": [
    "# OpenCV Version :  4.5.5\n",
    "# Numpy Version :  1.19.5\n",
    "# Numba Version :  0.53.1\n",
    "# SWTLoc Version :  2.0.0\n",
    "import sys\n",
    "import os\n",
    "import numpy as np\n",
    "import numba as nb\n",
    "import pandas as pd\n",
    "from cv2 import cv2\n",
    "import swtloc as swt\n",
    "from platform import python_version\n",
    "\n",
    "print('Python Version : ', python_version())\n",
    "print('Python Path : ', sys.executable)\n",
    "print('OpenCV Version : ', cv2.__version__)\n",
    "print('Numpy Version : ', np.__version__)\n",
    "print('Numba Version : ', nb.__version__)\n",
    "print('SWTLoc Version : ', swt.__version__)"
   ]
  },
  {
   "cell_type": "code",
   "execution_count": null,
   "metadata": {
    "ExecuteTime": {
     "end_time": "2022-02-17T18:18:39.346694Z",
     "start_time": "2022-02-17T18:18:39.333732Z"
    }
   },
   "outputs": [],
   "source": [
    "from swtloc import SWTLocalizer\n",
    "from swtloc.configs import (IMAGE_ORIGINAL, \n",
    "                            IMAGE_GRAYSCALE,\n",
    "                            IMAGE_EDGED,\n",
    "                            IMAGE_SWT_TRANSFORMED,\n",
    "                            IMAGE_CONNECTED_COMPONENTS_3C,\n",
    "                            IMAGE_CONNECTED_COMPONENTS_3C_WITH_PRUNED_ELEMENTS,\n",
    "                            IMAGE_CONNECTED_COMPONENTS_PRUNED_3C,\n",
    "                            IMAGE_PRUNED_3C_LETTER_LOCALIZATIONS,\n",
    "                            IMAGE_ORIGINAL_LETTER_LOCALIZATIONS,\n",
    "                            IMAGE_ORIGINAL_MASKED_LETTER_LOCALIZATIONS,\n",
    "                            IMAGE_PRUNED_3C_WORD_LOCALIZATIONS,\n",
    "                            IMAGE_ORIGINAL_WORD_LOCALIZATIONS,\n",
    "                            IMAGE_ORIGINAL_MASKED_WORD_LOCALIZATIONS)"
   ]
  },
  {
   "cell_type": "markdown",
   "metadata": {},
   "source": [
    "# Raw Datapaths and Variable Initialisation"
   ]
  },
  {
   "cell_type": "code",
   "execution_count": null,
   "metadata": {
    "ExecuteTime": {
     "end_time": "2022-02-17T18:18:40.574410Z",
     "start_time": "2022-02-17T18:18:40.565435Z"
    }
   },
   "outputs": [],
   "source": [
    "rawimage_path = 'images/'"
   ]
  },
  {
   "cell_type": "markdown",
   "metadata": {},
   "source": [
    "# Helper Functions"
   ]
  },
  {
   "cell_type": "code",
   "execution_count": null,
   "metadata": {
    "ExecuteTime": {
     "end_time": "2022-02-17T18:18:40.699594Z",
     "start_time": "2022-02-17T18:18:40.687109Z"
    }
   },
   "outputs": [],
   "source": [
    "def save_results(swtimgobj, res_path):\n",
    "    savepath1 = swtimgobj.showImage(image_codes=[IMAGE_ORIGINAL, IMAGE_GRAYSCALE, IMAGE_EDGED, IMAGE_SWT_TRANSFORMED],\n",
    "                                   plot_title='SWT', plot_sup_title=f'\\nTransform Time - {swtImgObj.transform_time}',\n",
    "                                   save_fig=True, save_dir=res_path, dpi=300)\n",
    "\n",
    "    savepath2 = swtimgobj.showImage(image_codes=[IMAGE_CONNECTED_COMPONENTS_3C,\n",
    "                                                IMAGE_CONNECTED_COMPONENTS_3C_WITH_PRUNED_ELEMENTS,\n",
    "                                                IMAGE_PRUNED_3C_LETTER_LOCALIZATIONS,\n",
    "                                                IMAGE_ORIGINAL_MASKED_LETTER_LOCALIZATIONS],\n",
    "                                     plot_title='Letter Localizations\\n',\n",
    "                                   plot_sup_title=rf\"Localization Method : ${swtimgobj.cfg['swtimage.localizeletters.localize_by']}$\",\n",
    "                                   save_fig=True, save_dir=res_path, dpi=300)\n",
    "\n",
    "    savepath3 = swtimgobj.showImage(image_codes=[IMAGE_PRUNED_3C_WORD_LOCALIZATIONS,\n",
    "                                                IMAGE_ORIGINAL_WORD_LOCALIZATIONS,\n",
    "                                                 IMAGE_ORIGINAL_MASKED_WORD_LOCALIZATIONS],\n",
    "                                    plot_title='Word Localizations\\n',\n",
    "                                    plot_sup_title=rf\"Localization Method : ${swtimgobj.cfg['swtimage.localizewords.localize_by']}$\",\n",
    "                                    save_fig=True, save_dir=res_path, dpi=300)\n",
    "    \n",
    "    print('First Result Image : ', savepath1)\n",
    "    print('Second Result Image : ', savepath2)\n",
    "    print('Third Result Image : ', savepath3)\n",
    "    "
   ]
  },
  {
   "cell_type": "markdown",
   "metadata": {},
   "source": [
    "# Q1\n",
    "https://stackoverflow.com/questions/40443988/python-opencv-ocr-image-segmentation"
   ]
  },
  {
   "cell_type": "code",
   "execution_count": null,
   "metadata": {
    "ExecuteTime": {
     "end_time": "2022-02-17T18:18:41.127945Z",
     "start_time": "2022-02-17T18:18:41.095018Z"
    }
   },
   "outputs": [],
   "source": [
    "imgpath = [rawimage_path+'so1/so1_img1.jpg', rawimage_path+'so1/so1_img2.jpg']\n",
    "respath = rawimage_path+'so1/results/'\n",
    "\n",
    "swtl = SWTLocalizer(image_paths=imgpath)\n",
    "swtImgObj = swtl.swtimages[1]\n",
    "print(swtImgObj)"
   ]
  },
  {
   "cell_type": "code",
   "execution_count": null,
   "metadata": {
    "ExecuteTime": {
     "end_time": "2022-02-17T18:18:43.359374Z",
     "start_time": "2022-02-17T18:18:41.489962Z"
    }
   },
   "outputs": [],
   "source": [
    "# Perform SWT Transformation with numba engine\n",
    "swt_mat = swtImgObj.transformImage(text_mode='lb_df', gaussian_blurr=False, \n",
    "                                   minimum_stroke_width=3, maximum_stroke_width=12,\n",
    "                                   maximum_angle_deviation=np.pi/2)"
   ]
  },
  {
   "cell_type": "code",
   "execution_count": null,
   "metadata": {
    "ExecuteTime": {
     "end_time": "2022-02-17T18:18:51.917385Z",
     "start_time": "2022-02-17T18:18:43.381653Z"
    },
    "scrolled": false
   },
   "outputs": [],
   "source": [
    "# Localized Letters\n",
    "localized_letters = swtImgObj.localizeLetters(minimum_pixels_per_cc=10,\n",
    "                                              localize_by='min_bbox')\n",
    "localized_words =  swtImgObj.localizeWords(localize_by='bbox')"
   ]
  },
  {
   "cell_type": "markdown",
   "metadata": {},
   "source": [
    "**Generating Images**"
   ]
  },
  {
   "cell_type": "code",
   "execution_count": null,
   "metadata": {
    "ExecuteTime": {
     "end_time": "2022-02-17T18:18:58.071544Z",
     "start_time": "2022-02-17T18:18:51.951175Z"
    }
   },
   "outputs": [],
   "source": [
    "save_results(swtimgobj=swtImgObj, res_path=respath)"
   ]
  },
  {
   "cell_type": "markdown",
   "metadata": {},
   "source": [
    "# Q2\n",
    "\n",
    "https://stackoverflow.com/questions/4837124/stroke-width-transform-swt-implementation-java-c"
   ]
  },
  {
   "cell_type": "code",
   "execution_count": null,
   "metadata": {
    "ExecuteTime": {
     "end_time": "2022-02-17T18:18:58.119468Z",
     "start_time": "2022-02-17T18:18:58.090734Z"
    }
   },
   "outputs": [],
   "source": [
    "from swtloc import SWTLocalizer\n",
    "\n",
    "imgpath = rawimage_path+'so2/so2_img1.jpg'\n",
    "respath = rawimage_path+'so2/results/'\n",
    "swtl = SWTLocalizer(image_paths=imgpath)\n",
    "swtImgObj = swtl.swtimages[0]\n",
    "print(swtImgObj)\n"
   ]
  },
  {
   "cell_type": "code",
   "execution_count": null,
   "metadata": {
    "ExecuteTime": {
     "end_time": "2022-02-17T18:19:00.229197Z",
     "start_time": "2022-02-17T18:18:58.139525Z"
    }
   },
   "outputs": [],
   "source": [
    "# Perform SWT Transform\n",
    "swt_mat = swtImgObj.transformImage(auto_canny_sigma=1.0, minimum_stroke_width=3,\n",
    "                                   maximum_stroke_width=20, maximum_angle_deviation=np.pi/6)"
   ]
  },
  {
   "cell_type": "code",
   "execution_count": null,
   "metadata": {
    "ExecuteTime": {
     "end_time": "2022-02-17T18:19:02.913683Z",
     "start_time": "2022-02-17T18:19:00.247149Z"
    }
   },
   "outputs": [],
   "source": [
    "# Find and Prune Connected Components\n",
    "localized_letters = swtImgObj.localizeLetters()"
   ]
  },
  {
   "cell_type": "code",
   "execution_count": null,
   "metadata": {
    "ExecuteTime": {
     "end_time": "2022-02-17T18:19:04.539887Z",
     "start_time": "2022-02-17T18:19:02.931529Z"
    }
   },
   "outputs": [],
   "source": [
    "# Find and Prune Connected Components\n",
    "localized_words = swtImgObj.localizeWords(acceptable_stroke_width_ratio=2.5)"
   ]
  },
  {
   "cell_type": "markdown",
   "metadata": {},
   "source": [
    "**Generating Images**"
   ]
  },
  {
   "cell_type": "code",
   "execution_count": null,
   "metadata": {
    "ExecuteTime": {
     "end_time": "2022-02-17T18:19:10.223644Z",
     "start_time": "2022-02-17T18:19:04.560079Z"
    }
   },
   "outputs": [],
   "source": [
    "save_results(swtimgobj=swtImgObj, res_path=respath)"
   ]
  },
  {
   "cell_type": "markdown",
   "metadata": {
    "ExecuteTime": {
     "end_time": "2020-09-23T10:32:06.967556Z",
     "start_time": "2020-09-23T10:32:06.793023Z"
    },
    "heading_collapsed": true
   },
   "source": [
    "# Q3\n",
    "https://stackoverflow.com/questions/31667709/can-swt-stroke-width-transform-help-ocr-with-screenshots"
   ]
  },
  {
   "cell_type": "code",
   "execution_count": null,
   "metadata": {
    "ExecuteTime": {
     "end_time": "2022-02-16T21:13:27.699754Z",
     "start_time": "2022-02-16T21:13:27.644148Z"
    },
    "code_folding": [
     2
    ],
    "hidden": true
   },
   "outputs": [],
   "source": [
    "from cv2 import cv2\n",
    "\n",
    "def resize_maintinaAR(image, width=1.0, height=1.0, inter=cv2.INTER_AREA, mode='proportion'):\n",
    "    \"\"\"\n",
    "    A function to resize the image based on the params.\n",
    "    # Adopted from : https://stackoverflow.com/a/55306956/6297658\n",
    "\n",
    "    Arguments\n",
    "    ------------------------------\n",
    "        image : Original Image, np.ndarray\n",
    "            Image to resize\n",
    "        \n",
    "        width(Optional) : int or float.\n",
    "            How much to resize based on the width.\n",
    "        \n",
    "        height(Optional) : int or float\n",
    "            How much to resize based on the height.\n",
    "        \n",
    "        inter(Optional) : opencv interpolation mode\n",
    "        \n",
    "        mode(Optional) : One of 'proportion' or 'actual'\n",
    "            Which mode to resize the image in.\n",
    "    Returns\n",
    "    ------------------------------\n",
    "    Resized image\n",
    "    \"\"\"\n",
    "    dim = None\n",
    "    (h, w) = image.shape[:2]\n",
    "\n",
    "    if mode == 'proportion':\n",
    "        width *= w\n",
    "        width = int(width)\n",
    "        height *= h\n",
    "        height = int(height)\n",
    "\n",
    "    # Return original image if no need to resize\n",
    "    if width is None and height is None:\n",
    "        return image\n",
    "\n",
    "    # We are resizing height if width is none\n",
    "    if width is None:\n",
    "        # Calculate the ratio of the height and construct the dimensions\n",
    "        r = height / float(h)\n",
    "        dim = (int(w * r), height)\n",
    "    # We are resizing width if height is none\n",
    "    else:\n",
    "        # Calculate the ratio of the width and construct the dimensions\n",
    "        r = width / float(w)\n",
    "        dim = (width, int(h * r))\n",
    "\n",
    "    # Return the resized image\n",
    "    return cv2.resize(image, dim, interpolation=inter)\n"
   ]
  },
  {
   "cell_type": "code",
   "execution_count": null,
   "metadata": {
    "ExecuteTime": {
     "end_time": "2022-02-16T21:13:28.120361Z",
     "start_time": "2022-02-16T21:13:28.059517Z"
    },
    "hidden": true
   },
   "outputs": [],
   "source": [
    "from swtloc import SWTLocalizer\n",
    "\n",
    "imgpath = rawimage_path+'so3/so3_img1.png'\n",
    "r_imgpath = rawimage_path+'so3/so3_img11.jpg'\n",
    "respath = rawimage_path+'so3/results/'\n",
    "\n",
    "orig_img = cv2.imread(imgpath)\n",
    "resized_img = resize_maintinaAR(orig_img, width=2.0)\n",
    "print(f'Shape changed from {orig_img.shape} -> {resized_img.shape}')"
   ]
  },
  {
   "cell_type": "code",
   "execution_count": null,
   "metadata": {
    "ExecuteTime": {
     "end_time": "2022-02-16T21:13:33.308712Z",
     "start_time": "2022-02-16T21:13:33.256850Z"
    },
    "hidden": true
   },
   "outputs": [],
   "source": [
    "swtl = SWTLocalizer(images=resized_img)\n",
    "swtImgObj = swtl.swtimages[0]\n",
    "print(swtImgObj)"
   ]
  },
  {
   "cell_type": "code",
   "execution_count": null,
   "metadata": {
    "ExecuteTime": {
     "end_time": "2022-02-16T21:13:38.031539Z",
     "start_time": "2022-02-16T21:13:34.738241Z"
    },
    "code_folding": [],
    "hidden": true
   },
   "outputs": [],
   "source": [
    "swt_mat = swtImgObj.transformImage(minimum_stroke_width=3, maximum_stroke_width=10, \n",
    "                                   maximum_angle_deviation=np.pi/6)"
   ]
  },
  {
   "cell_type": "code",
   "execution_count": null,
   "metadata": {
    "ExecuteTime": {
     "end_time": "2022-02-14T22:17:00.052357Z",
     "start_time": "2022-02-14T22:17:00.000499Z"
    },
    "hidden": true
   },
   "outputs": [],
   "source": [
    "# Localizations # TODO : Memory Error\n",
    "# localized_letters = swtImgObj.localizeLetters()"
   ]
  },
  {
   "cell_type": "markdown",
   "metadata": {
    "hidden": true
   },
   "source": [
    "**Generating Images**"
   ]
  },
  {
   "cell_type": "code",
   "execution_count": null,
   "metadata": {
    "ExecuteTime": {
     "end_time": "2022-02-16T21:14:42.093502Z",
     "start_time": "2022-02-16T21:14:38.553020Z"
    },
    "hidden": true
   },
   "outputs": [],
   "source": [
    "swtImgObj.showImage(image_codes=[IMAGE_ORIGINAL, IMAGE_GRAYSCALE, IMAGE_EDGED, IMAGE_SWT_TRANSFORMED],\n",
    "                    plot_title='SWT', plot_sup_title=f'\\nTransform Time - {swtImgObj.transform_time}',\n",
    "                    save_fig=True, save_dir=respath, dpi=300)"
   ]
  },
  {
   "cell_type": "markdown",
   "metadata": {},
   "source": [
    "# Q4\n",
    "https://stackoverflow.com/questions/23506105/extracting-text-opencv"
   ]
  },
  {
   "cell_type": "code",
   "execution_count": null,
   "metadata": {
    "ExecuteTime": {
     "end_time": "2022-02-17T18:19:10.259100Z",
     "start_time": "2022-02-17T18:19:10.246271Z"
    }
   },
   "outputs": [],
   "source": [
    "import os\n",
    "imgpaths = [rawimage_path+'so4/so4_img1.png',\n",
    "            rawimage_path+'so4/so4_img2.jpg',\n",
    "            rawimage_path+'so4/so4_img3.jpg']\n",
    "respath = rawimage_path+'so4/results/'"
   ]
  },
  {
   "cell_type": "code",
   "execution_count": null,
   "metadata": {
    "ExecuteTime": {
     "end_time": "2022-02-17T18:19:10.374638Z",
     "start_time": "2022-02-17T18:19:10.278050Z"
    }
   },
   "outputs": [],
   "source": [
    "from swtloc import SWTLocalizer\n",
    "from swtloc.configs import IMAGE_ORIGINAL\n",
    "\n",
    "swtl = SWTLocalizer(image_paths=imgpaths)\n",
    "print(swtl.swtimages)"
   ]
  },
  {
   "cell_type": "markdown",
   "metadata": {},
   "source": [
    "**First Image**"
   ]
  },
  {
   "cell_type": "code",
   "execution_count": null,
   "metadata": {
    "ExecuteTime": {
     "end_time": "2022-02-17T18:19:11.042748Z",
     "start_time": "2022-02-17T18:19:10.394291Z"
    }
   },
   "outputs": [],
   "source": [
    "swtImgObj = swtl.swtimages[0]\n",
    "swtImgObj.showImage(image_codes=[IMAGE_ORIGINAL])"
   ]
  },
  {
   "cell_type": "code",
   "execution_count": null,
   "metadata": {
    "ExecuteTime": {
     "end_time": "2022-02-17T18:19:13.810375Z",
     "start_time": "2022-02-17T18:19:11.062263Z"
    }
   },
   "outputs": [],
   "source": [
    "swt_mat = swtImgObj.transformImage(text_mode='lb_df', minimum_stroke_width=3, maximum_stroke_width=25,\n",
    "                                   maximum_angle_deviation=np.pi/4, gaussian_blurr_kernel=(3, 3))"
   ]
  },
  {
   "cell_type": "code",
   "execution_count": null,
   "metadata": {
    "ExecuteTime": {
     "end_time": "2022-02-17T18:19:47.807405Z",
     "start_time": "2022-02-17T18:19:13.825997Z"
    }
   },
   "outputs": [],
   "source": [
    "# Localizations\n",
    "localized_letters = swtImgObj.localizeLetters(minimum_pixels_per_cc=80,\n",
    "                                              maximum_pixels_per_cc=2000)\n",
    "localized_words = swtImgObj.localizeWords()"
   ]
  },
  {
   "cell_type": "code",
   "execution_count": null,
   "metadata": {
    "ExecuteTime": {
     "end_time": "2022-02-17T18:19:57.409038Z",
     "start_time": "2022-02-17T18:19:47.830904Z"
    }
   },
   "outputs": [],
   "source": [
    "save_results(swtimgobj=swtImgObj, res_path=respath)"
   ]
  },
  {
   "cell_type": "markdown",
   "metadata": {},
   "source": [
    "**Second Image**"
   ]
  },
  {
   "cell_type": "code",
   "execution_count": null,
   "metadata": {
    "ExecuteTime": {
     "end_time": "2022-02-17T18:19:58.132118Z",
     "start_time": "2022-02-17T18:19:57.427984Z"
    }
   },
   "outputs": [],
   "source": [
    "swtImgObj = swtl.swtimages[1]\n",
    "swtImgObj.showImage(image_codes=[IMAGE_ORIGINAL])"
   ]
  },
  {
   "cell_type": "code",
   "execution_count": null,
   "metadata": {
    "ExecuteTime": {
     "end_time": "2022-02-17T18:20:00.390409Z",
     "start_time": "2022-02-17T18:19:58.161473Z"
    }
   },
   "outputs": [],
   "source": [
    "swt_mat = swtImgObj.transformImage(text_mode='db_lf', minimum_stroke_width=3, maximum_stroke_width=25,\n",
    "                                   maximum_angle_deviation=np.pi/5, gaussian_blurr_kernel=(9, 9))"
   ]
  },
  {
   "cell_type": "code",
   "execution_count": null,
   "metadata": {
    "ExecuteTime": {
     "end_time": "2022-02-17T18:20:18.056806Z",
     "start_time": "2022-02-17T18:20:00.408206Z"
    }
   },
   "outputs": [],
   "source": [
    "# Localizations\n",
    "localized_letters = swtImgObj.localizeLetters(minimum_pixels_per_cc=70,\n",
    "                                              maximum_pixels_per_cc=3500,\n",
    "                                              acceptable_aspect_ratio=0.05)\n",
    "localized_words = swtImgObj.localizeWords(localize_by='bbox')"
   ]
  },
  {
   "cell_type": "code",
   "execution_count": null,
   "metadata": {
    "ExecuteTime": {
     "end_time": "2022-02-17T18:20:27.167268Z",
     "start_time": "2022-02-17T18:20:18.074088Z"
    }
   },
   "outputs": [],
   "source": [
    "save_results(swtimgobj=swtImgObj, res_path=respath)"
   ]
  },
  {
   "cell_type": "markdown",
   "metadata": {},
   "source": [
    "**Third Image**"
   ]
  },
  {
   "cell_type": "code",
   "execution_count": null,
   "metadata": {
    "ExecuteTime": {
     "end_time": "2022-02-17T18:20:27.838601Z",
     "start_time": "2022-02-17T18:20:27.190554Z"
    }
   },
   "outputs": [],
   "source": [
    "swtImgObj = swtl.swtimages[2]\n",
    "swtImgObj.showImage(image_codes=[IMAGE_ORIGINAL])"
   ]
  },
  {
   "cell_type": "code",
   "execution_count": null,
   "metadata": {
    "ExecuteTime": {
     "end_time": "2022-02-17T18:20:30.219125Z",
     "start_time": "2022-02-17T18:20:27.863504Z"
    }
   },
   "outputs": [],
   "source": [
    "swt_mat = swtImgObj.transformImage(text_mode='lb_df', minimum_stroke_width=3, maximum_stroke_width=25,\n",
    "                                   maximum_angle_deviation=np.pi/3, gaussian_blurr_kernel=(5, 5))"
   ]
  },
  {
   "cell_type": "code",
   "execution_count": null,
   "metadata": {
    "ExecuteTime": {
     "end_time": "2022-02-17T18:20:45.631133Z",
     "start_time": "2022-02-17T18:20:30.242633Z"
    }
   },
   "outputs": [],
   "source": [
    "# Localizations\n",
    "localized_letters = swtImgObj.localizeLetters(minimum_pixels_per_cc=50,\n",
    "                                              maximum_pixels_per_cc=2500)\n",
    "localized_words = swtImgObj.localizeWords(localize_by='bbox')"
   ]
  },
  {
   "cell_type": "markdown",
   "metadata": {},
   "source": [
    "**Saving for each image**"
   ]
  },
  {
   "cell_type": "code",
   "execution_count": null,
   "metadata": {
    "ExecuteTime": {
     "end_time": "2022-02-17T18:20:53.736211Z",
     "start_time": "2022-02-17T18:20:45.647292Z"
    }
   },
   "outputs": [],
   "source": [
    "save_results(swtimgobj=swtImgObj, res_path=respath)"
   ]
  },
  {
   "cell_type": "markdown",
   "metadata": {
    "ExecuteTime": {
     "end_time": "2020-09-23T11:38:31.401436Z",
     "start_time": "2020-09-23T11:38:31.395873Z"
    }
   },
   "source": [
    "# Q5\n",
    "https://stackoverflow.com/questions/46533389/find-the-width-of-an-ink-stroke-in-an-image-using-opencv-c/46533420"
   ]
  },
  {
   "cell_type": "code",
   "execution_count": null,
   "metadata": {
    "ExecuteTime": {
     "end_time": "2022-02-17T18:20:58.628222Z",
     "start_time": "2022-02-17T18:20:53.754388Z"
    }
   },
   "outputs": [],
   "source": [
    "from swtloc import SWTLocalizer\n",
    "\n",
    "imgpath = rawimage_path+'so5/so5_img1.jpg'\n",
    "respath = rawimage_path+'so5/results/'\n",
    "swtl = SWTLocalizer(image_paths=imgpath)\n",
    "swtImgObj = swtl.swtimages[0]\n",
    "swt_mat = swtImgObj.transformImage(auto_canny_sigma=1.0, gaussian_blurr=False,\n",
    "                                   minimum_stroke_width=3, maximum_stroke_width=50,\n",
    "                                   maximum_angle_deviation=np.pi/3)"
   ]
  },
  {
   "cell_type": "code",
   "execution_count": null,
   "metadata": {
    "ExecuteTime": {
     "end_time": "2022-02-17T18:21:14.352334Z",
     "start_time": "2022-02-17T18:20:58.646131Z"
    }
   },
   "outputs": [],
   "source": [
    "# Localize Letters\n",
    "localized_letters = swtImgObj.localizeLetters()\n",
    "localized_words = swtImgObj.localizeWords()"
   ]
  },
  {
   "cell_type": "code",
   "execution_count": null,
   "metadata": {
    "ExecuteTime": {
     "end_time": "2022-02-17T18:21:15.770182Z",
     "start_time": "2022-02-17T18:21:14.370139Z"
    }
   },
   "outputs": [],
   "source": [
    "import seaborn as sns\n",
    "import matplotlib.pyplot as plt\n",
    "\n",
    "all_sws = []\n",
    "for letter_label, letter in localized_letters.items():\n",
    "    all_sws.append(letter.stroke_widths_mean)\n",
    "sns.displot(all_sws, bins=31)\n",
    "plt.savefig(respath+'sw_distribution.jpg')"
   ]
  },
  {
   "cell_type": "code",
   "execution_count": null,
   "metadata": {
    "ExecuteTime": {
     "end_time": "2022-02-17T18:21:27.527824Z",
     "start_time": "2022-02-17T18:21:15.789062Z"
    }
   },
   "outputs": [],
   "source": [
    "save_results(swtimgobj=swtImgObj, res_path=respath)"
   ]
  },
  {
   "cell_type": "markdown",
   "metadata": {},
   "source": [
    "# Q6\n",
    "Bubble BBOX issue : Issue #10"
   ]
  },
  {
   "cell_type": "code",
   "execution_count": null,
   "metadata": {
    "ExecuteTime": {
     "end_time": "2022-02-17T18:21:31.413706Z",
     "start_time": "2022-02-17T18:21:27.545379Z"
    }
   },
   "outputs": [],
   "source": [
    "from swtloc import SWTLocalizer\n",
    "\n",
    "imgpath = rawimage_path+'issue10/issue10.jpg'\n",
    "respath = rawimage_path+'issue10/results/'\n",
    "swtl = SWTLocalizer(image_paths=imgpath)\n",
    "swtImgObj = swtl.swtimages[0]\n",
    "# Stroke Width Transform\n",
    "swt_mat = swtImgObj.transformImage(text_mode='db_lf', auto_canny_sigma=1.0,\n",
    "                                   minimum_stroke_width=3, maximum_stroke_width=200,\n",
    "                                   maximum_angle_deviation=np.pi/8,\n",
    "                                   gaussian_blurr_kernel=(5, 5))"
   ]
  },
  {
   "cell_type": "code",
   "execution_count": null,
   "metadata": {
    "ExecuteTime": {
     "end_time": "2022-02-17T18:21:38.814898Z",
     "start_time": "2022-02-17T18:21:31.424339Z"
    }
   },
   "outputs": [],
   "source": [
    "# Localize Letters\n",
    "localized_letters = swtImgObj.localizeLetters(maximum_pixels_per_cc=5_000)\n",
    "# Localize Words\n",
    "localized_words = swtImgObj.localizeWords(localize_by='bbox')"
   ]
  },
  {
   "cell_type": "code",
   "execution_count": null,
   "metadata": {
    "ExecuteTime": {
     "end_time": "2022-02-17T18:21:48.544073Z",
     "start_time": "2022-02-17T18:21:38.835405Z"
    }
   },
   "outputs": [],
   "source": [
    "save_results(swtimgobj=swtImgObj, res_path=respath)"
   ]
  },
  {
   "cell_type": "markdown",
   "metadata": {},
   "source": [
    "# Q7\n",
    "\n",
    "Issue BBOX Crop Feature Request : Issue 14"
   ]
  },
  {
   "cell_type": "code",
   "execution_count": null,
   "metadata": {
    "ExecuteTime": {
     "end_time": "2022-02-17T18:21:50.772207Z",
     "start_time": "2022-02-17T18:21:48.563265Z"
    }
   },
   "outputs": [],
   "source": [
    "from swtloc import SWTLocalizer\n",
    "\n",
    "imgpath = rawimage_path+'issue14/issue14.png'\n",
    "respath = rawimage_path+'issue14/results/'\n",
    "swtl = SWTLocalizer(image_paths=imgpath)\n",
    "swtImgObj = swtl.swtimages[0]\n",
    "# Stroke Width Transform\n",
    "swt_mat = swtImgObj.transformImage(text_mode='lb_df',\n",
    "                                   minimum_stroke_width=2, maximum_stroke_width=20,\n",
    "                                   maximum_angle_deviation=np.pi/4,\n",
    "                                   gaussian_blurr_kernel=(7, 7),\n",
    "                                   include_edges_in_swt=True)"
   ]
  },
  {
   "cell_type": "code",
   "execution_count": null,
   "metadata": {
    "ExecuteTime": {
     "end_time": "2022-02-17T18:25:06.064076Z",
     "start_time": "2022-02-17T18:24:58.669704Z"
    }
   },
   "outputs": [],
   "source": [
    "# Localize Letters\n",
    "localized_letters = swtImgObj.localizeLetters(maximum_pixels_per_cc=5_000,\n",
    "                                                acceptable_aspect_ratio=0.22,\n",
    "                                                localize_by='min_bbox')\n",
    "# Localize Words\n",
    "localized_words = swtImgObj.localizeWords(localize_by='bbox')"
   ]
  },
  {
   "cell_type": "code",
   "execution_count": null,
   "metadata": {
    "ExecuteTime": {
     "end_time": "2022-02-17T18:25:17.776297Z",
     "start_time": "2022-02-17T18:25:11.202183Z"
    }
   },
   "outputs": [],
   "source": [
    "save_results(swtimgobj=swtImgObj, res_path=respath)"
   ]
  },
  {
   "cell_type": "markdown",
   "metadata": {
    "ExecuteTime": {
     "end_time": "2022-02-14T21:48:04.923950Z",
     "start_time": "2022-02-14T21:48:04.872035Z"
    }
   },
   "source": [
    "**Generating BBOX Crops**"
   ]
  },
  {
   "cell_type": "code",
   "execution_count": null,
   "metadata": {
    "ExecuteTime": {
     "end_time": "2022-02-17T18:25:49.487667Z",
     "start_time": "2022-02-17T18:25:44.601470Z"
    }
   },
   "outputs": [],
   "source": [
    "localized_words = swtImgObj.localizeWords(localize_by='bubble', display=False)\n",
    "localized_words = swtImgObj.localizeWords(localize_by='bbox', display=False)\n",
    "word_iterator = swtImgObj.wordIterator(localize_by='bbox')"
   ]
  },
  {
   "cell_type": "code",
   "execution_count": null,
   "metadata": {
    "ExecuteTime": {
     "end_time": "2022-02-17T18:27:53.802728Z",
     "start_time": "2022-02-17T18:27:52.394268Z"
    }
   },
   "outputs": [],
   "source": [
    "word, _, _ = next(word_iterator)"
   ]
  },
  {
   "cell_type": "code",
   "execution_count": null,
   "metadata": {
    "ExecuteTime": {
     "end_time": "2022-02-17T18:27:55.673515Z",
     "start_time": "2022-02-17T18:27:54.738434Z"
    }
   },
   "outputs": [],
   "source": [
    "word_label = word.label\n",
    "swtImgObj.saveCrop(save_path=respath, crop_of='words', crop_key=word_label,\n",
    "                   crop_on=IMAGE_SWT_TRANSFORMED, crop_type='bubble')\n",
    "swtImgObj.saveCrop(save_path=respath, crop_of='words', crop_key=word_label,\n",
    "                   crop_on=IMAGE_ORIGINAL, crop_type='bbox')"
   ]
  },
  {
   "cell_type": "code",
   "execution_count": null,
   "metadata": {},
   "outputs": [],
   "source": [
    "from swtloc.configs import (IMAGE_SWT_TRANSFORMED,\n",
    "                            IMAGE_ORIGINAL)\n",
    "\n",
    "word_iterator = swtImgObj.wordIterator(localize_by='bbox')\n",
    "word, _, _ = next(word_iterator)\n",
    "word_label = word.label\n",
    "\n",
    "swtImgObj.saveCrop(save_path=respath, crop_of='words', crop_key=word_label,\n",
    "                   crop_on=IMAGE_SWT_TRANSFORMED, crop_type='bubble')\n",
    "swtImgObj.saveCrop(save_path=respath, crop_of='words', crop_key=word_label,\n",
    "                   crop_on=IMAGE_ORIGINAL, crop_type='bbox')"
   ]
  },
  {
   "cell_type": "code",
   "execution_count": null,
   "metadata": {},
   "outputs": [],
   "source": []
  }
 ],
 "metadata": {
  "hide_input": false,
  "kernelspec": {
   "display_name": "py310Venv",
   "language": "python",
   "name": "py310venv"
  },
  "language_info": {
   "codemirror_mode": {
    "name": "ipython",
    "version": 3
   },
   "file_extension": ".py",
   "mimetype": "text/x-python",
   "name": "python",
   "nbconvert_exporter": "python",
   "pygments_lexer": "ipython3",
   "version": "3.10.0"
  },
  "toc": {
   "base_numbering": 1,
   "nav_menu": {},
   "number_sections": true,
   "sideBar": true,
   "skip_h1_title": false,
   "title_cell": "Table of Contents",
   "title_sidebar": "Contents",
   "toc_cell": false,
   "toc_position": {},
   "toc_section_display": true,
   "toc_window_display": false
  },
  "varInspector": {
   "cols": {
    "lenName": 16,
    "lenType": 16,
    "lenVar": 40
   },
   "kernels_config": {
    "python": {
     "delete_cmd_postfix": "",
     "delete_cmd_prefix": "del ",
     "library": "var_list.py",
     "varRefreshCmd": "print(var_dic_list())"
    },
    "r": {
     "delete_cmd_postfix": ") ",
     "delete_cmd_prefix": "rm(",
     "library": "var_list.r",
     "varRefreshCmd": "cat(var_dic_list()) "
    }
   },
   "types_to_exclude": [
    "module",
    "function",
    "builtin_function_or_method",
    "instance",
    "_Feature"
   ],
   "window_display": false
  }
 },
 "nbformat": 4,
 "nbformat_minor": 4
}
