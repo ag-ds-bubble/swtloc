{
 "cells": [
  {
   "cell_type": "markdown",
   "id": "b108c54b",
   "metadata": {},
   "source": [
    "Version 2.0.0 of SWTLoc was a major release, consisting of the following major changes\n",
    "\n",
    "- Addition of new engine for Stroke Width Transform - `numba`, which gives more than 10x speed increase\n",
    "- Addition of `saveCrops` function\n",
    "- Re-Organisation of codebase to use Abstractions such as classes for\n",
    "    - Letter : Class representing a Letter\n",
    "    - Word : Class representing a Word\n",
    "    - SWTImage : Class representing an SWT Image\n",
    "- Consolidation of various localisation methods for ``Letter`` and ``Word`` objects\n",
    "- Accessing intermediary stage images using Image Codes"
   ]
  },
  {
   "cell_type": "markdown",
   "id": "06c27f0d",
   "metadata": {},
   "source": [
    "# Imports"
   ]
  },
  {
   "cell_type": "code",
   "execution_count": null,
   "id": "44ba40a6",
   "metadata": {
    "ExecuteTime": {
     "end_time": "2022-02-16T20:18:13.671491Z",
     "start_time": "2022-02-16T20:18:13.664544Z"
    }
   },
   "outputs": [],
   "source": [
    "# Check version runing on Jupyter notebook\n",
    "from platform import python_version\n",
    "import sys\n",
    "\n",
    "print('Python Version : ', python_version())\n",
    "print('Python Path : ', sys.executable)"
   ]
  },
  {
   "cell_type": "code",
   "execution_count": null,
   "id": "77649afa",
   "metadata": {
    "ExecuteTime": {
     "end_time": "2022-02-16T20:18:14.303387Z",
     "start_time": "2022-02-16T20:18:14.285278Z"
    }
   },
   "outputs": [],
   "source": [
    "import sys\n",
    "sys.path.append('../')"
   ]
  },
  {
   "cell_type": "code",
   "execution_count": null,
   "id": "2707c044",
   "metadata": {
    "ExecuteTime": {
     "end_time": "2022-02-16T20:18:15.432933Z",
     "start_time": "2022-02-16T20:18:14.660304Z"
    }
   },
   "outputs": [],
   "source": [
    "%load_ext autoreload\n",
    "%autoreload 2\n",
    "from swtloc import SWTLocalizer\n",
    "from swtloc._utils import imgshowN\n",
    "from swtloc.configs import get_code_descriptions, CODE_NAME_VAR_MAPPINGS"
   ]
  },
  {
   "cell_type": "code",
   "execution_count": null,
   "id": "96ea43e5",
   "metadata": {
    "ExecuteTime": {
     "end_time": "2022-02-16T20:18:15.905457Z",
     "start_time": "2022-02-16T20:18:15.592278Z"
    }
   },
   "outputs": [],
   "source": [
    "import os\n",
    "import pandas as pd\n",
    "import numpy as np\n",
    "from IPython.display import clear_output"
   ]
  },
  {
   "cell_type": "markdown",
   "id": "18a35ae0",
   "metadata": {},
   "source": [
    "# Path and Variable Initialisations"
   ]
  },
  {
   "cell_type": "code",
   "execution_count": null,
   "id": "ec720d98",
   "metadata": {
    "ExecuteTime": {
     "end_time": "2022-02-16T20:18:16.113976Z",
     "start_time": "2022-02-16T20:18:16.069411Z"
    }
   },
   "outputs": [],
   "source": [
    "imagefolder_path = 'images/'"
   ]
  },
  {
   "cell_type": "code",
   "execution_count": null,
   "id": "4a6e3434",
   "metadata": {
    "ExecuteTime": {
     "end_time": "2022-02-16T20:18:16.301401Z",
     "start_time": "2022-02-16T20:18:16.257188Z"
    }
   },
   "outputs": [],
   "source": [
    "img_paths = []\n",
    "res_path = []\n",
    "img_names = []\n",
    "img_text_modes = ['db_lf', 'lb_df', 'db_lf', 'lb_df', 'db_lf', 'db_lf']\n",
    "\n",
    "for each_img in [k for k in os.listdir(imagefolder_path) if 'test' in k]:\n",
    "    _ifolder_path = imagefolder_path+each_img\n",
    "    _iname = [k for k in os.listdir(_ifolder_path) if '.' in k][0]\n",
    "    _img_path = _ifolder_path+'/'+_iname\n",
    "    img_paths.append(_img_path)\n",
    "    img_names.append(_iname)\n",
    "    res_path.append(_ifolder_path+'/imp_results/')"
   ]
  },
  {
   "cell_type": "code",
   "execution_count": null,
   "id": "ef554229",
   "metadata": {
    "ExecuteTime": {
     "end_time": "2022-02-16T20:41:53.976506Z",
     "start_time": "2022-02-16T20:41:53.845826Z"
    }
   },
   "outputs": [],
   "source": [
    "swtl = SWTLocalizer(image_paths=img_paths)\n",
    "print(swtl.swtimages)"
   ]
  },
  {
   "cell_type": "markdown",
   "id": "db5ac614",
   "metadata": {
    "heading_collapsed": true
   },
   "source": [
    "# Speed Benchmarking\n",
    "\n",
    "From v2.0.0 onwards, there were changes made to the core algorithm implementations of finding stroke widths. A new engine `numba` was added as a parameter to the `SWTImage.transformImage` which shows (initial testing) nearly 50x speed improvement over the vanilla python implementation of the algorithm. Below code block performs benchmarking for the above statement\n"
   ]
  },
  {
   "cell_type": "code",
   "execution_count": null,
   "id": "c2588610",
   "metadata": {
    "ExecuteTime": {
     "end_time": "2022-02-16T20:34:44.944658Z",
     "start_time": "2022-02-16T20:18:23.248222Z"
    },
    "hidden": true,
    "scrolled": false
   },
   "outputs": [],
   "source": [
    "_cols = ['SWTLoc v1.1.1 (Python)', 'SWTLoc v2.0.0 (Python)', 'SWTLoc v2.0.0 (numba)']\n",
    "timedf = pd.DataFrame(index=img_names, columns=_cols)\n",
    "\n",
    "for img_name, each_img_path, _text_mode in zip(img_names, img_paths, img_text_modes):\n",
    "    \n",
    "    swtl =SWTLocalizer(image_paths=each_img_path)\n",
    "    swtlImgObj = swtl.swtimages[0]\n",
    "    _t1 = []\n",
    "    _t2 = []\n",
    "    _t3 = []\n",
    "    \n",
    "    # Python - Old version timing\n",
    "    for _ in range(10):\n",
    "        swtl.swttransform(imgpaths=each_img_path, text_mode=_text_mode)\n",
    "        _t1.append(float(swtl.transform_time.split(' ')[0]))\n",
    "    \n",
    "    imgshowN([swtl.orig_img, swtl.swt_mat, swtl.swtlabelled_pruned13C],\n",
    "         ['Original Image', 'Stroke Width Transform', 'Connected Components'])\n",
    "    timedf.loc[img_name, _cols[0]] = np.mean(_t1)\n",
    "\n",
    "    # Python - New version timing\n",
    "    for _ in range(10):\n",
    "        swtlImgObj.transformImage(text_mode=_text_mode, engine='python', display=False)\n",
    "        _t2.append(float(swtlImgObj.transform_time.split(' ')[0]))\n",
    "\n",
    "    swtlImgObj.transformImage(text_mode=_text_mode, engine='python', display=True)\n",
    "    timedf.loc[img_name, _cols[1]] = np.mean(_t2)\n",
    "\n",
    "    # numba - New version timing\n",
    "    for _ in range(10):\n",
    "        swtlImgObj.transformImage(text_mode=_text_mode, display=False)\n",
    "        _t3.append(float(swtlImgObj.transform_time.split(' ')[0]))\n",
    "\n",
    "    swtlImgObj.transformImage(text_mode=_text_mode, display=True)\n",
    "    timedf.loc[img_name, _cols[2]] = np.mean(_t3)\n",
    "    \n",
    "    \n",
    "    clear_output(wait=True)\n",
    "    # input()"
   ]
  },
  {
   "cell_type": "code",
   "execution_count": null,
   "id": "4eb3a5ba",
   "metadata": {
    "ExecuteTime": {
     "end_time": "2022-02-16T20:34:45.265916Z",
     "start_time": "2022-02-16T20:34:45.206274Z"
    },
    "hidden": true
   },
   "outputs": [],
   "source": [
    "timedf"
   ]
  },
  {
   "cell_type": "code",
   "execution_count": null,
   "id": "8d7155c0",
   "metadata": {
    "ExecuteTime": {
     "end_time": "2022-02-16T20:34:45.730168Z",
     "start_time": "2022-02-16T20:34:45.467699Z"
    },
    "hidden": true
   },
   "outputs": [],
   "source": [
    "time_comp_df = timedf.copy()\n",
    "\n",
    "_old_py_timings = time_comp_df[_cols[0]]\n",
    "_new_py_timings = time_comp_df[_cols[1]]\n",
    "_new_nb_timings = time_comp_df[_cols[2]]\n",
    "time_comp_df = time_comp_df.applymap(lambda x: str(round(x, 3))+' seconds')\n",
    "time_comp_df[_cols[0]+'[x Increase]'] = (_old_py_timings/_old_py_timings).apply(round, args=(3,)).astype(str) + 'x'\n",
    "time_comp_df[_cols[1]+'[x Increase]'] = (_old_py_timings/_new_py_timings).apply(round, args=(3,)).astype(str) + 'x'\n",
    "time_comp_df[_cols[2]+'[x Increase]'] = (_old_py_timings/_new_nb_timings).apply(round, args=(3,)).astype(str) + 'x'\n",
    "time_comp_df = time_comp_df[sorted(time_comp_df.columns)]\n",
    "time_comp_df.style.set_properties(**{'width': '110px', 'text-align': 'center'})\n"
   ]
  },
  {
   "cell_type": "markdown",
   "id": "2d2c2498",
   "metadata": {},
   "source": [
    "# Save intermediary stage images via Image Codes\n",
    "\n",
    "From v2.0.0 onwards, a provision was added to save the intermediary stage images by access the `SWTImage.showImage` function. \n",
    "\n",
    "<div class=\"alert alert-block alert-info\">\n",
    "<b>NOTE:</b> \n",
    "<u>SWTImage</u> class procedures are sequential in nature, so for example if Letters havent yet been localized then there will be an error pointing to the fact that a particular function needs to be run before that Image Codes [IMAGE_PRUNED_3C_LETTER_LOCALIZATIONS, IMAGE_ORIGINAL_LETTER_LOCALIZATIONS, IMAGE_ORIGINAL_MASKED_LETTER_LOCALIZATIONS] are made available.\n",
    "</div>"
   ]
  },
  {
   "cell_type": "markdown",
   "id": "4e28ab15",
   "metadata": {
    "ExecuteTime": {
     "end_time": "2022-02-15T11:11:52.803757Z",
     "start_time": "2022-02-15T11:11:52.715780Z"
    }
   },
   "source": [
    "**Available Image Codes**"
   ]
  },
  {
   "cell_type": "code",
   "execution_count": null,
   "id": "606f1c2f",
   "metadata": {
    "ExecuteTime": {
     "end_time": "2022-02-16T20:39:47.413032Z",
     "start_time": "2022-02-16T20:39:47.297223Z"
    }
   },
   "outputs": [],
   "source": [
    "image_code_df = pd.DataFrame(columns=['Description'])\n",
    "\n",
    "for each_code_name, each_code in CODE_NAME_VAR_MAPPINGS.items():\n",
    "    image_code_df.loc[each_code_name] = get_code_descriptions(each_code).replace('\\n', ' ')\n",
    "image_code_df.style.set_properties(**{'width': '600px', 'text-align': 'center'})\n"
   ]
  },
  {
   "cell_type": "markdown",
   "id": "9bf9203e",
   "metadata": {},
   "source": [
    "**Transforming Image**"
   ]
  },
  {
   "cell_type": "code",
   "execution_count": null,
   "id": "37365e3a",
   "metadata": {
    "ExecuteTime": {
     "end_time": "2022-02-16T20:42:06.832361Z",
     "start_time": "2022-02-16T20:42:06.710734Z"
    }
   },
   "outputs": [],
   "source": [
    "swtl = SWTLocalizer(image_paths=img_paths)\n",
    "print(swtl.swtimages)"
   ]
  },
  {
   "cell_type": "code",
   "execution_count": null,
   "id": "95e578e8",
   "metadata": {
    "ExecuteTime": {
     "end_time": "2022-02-16T20:42:19.202154Z",
     "start_time": "2022-02-16T20:42:18.680693Z"
    }
   },
   "outputs": [],
   "source": [
    "swtImgObj = swtl.swtimages[0]\n",
    "swtImgObj.showImage()"
   ]
  },
  {
   "cell_type": "code",
   "execution_count": null,
   "id": "ee84c871",
   "metadata": {
    "ExecuteTime": {
     "end_time": "2022-02-16T20:42:23.584145Z",
     "start_time": "2022-02-16T20:42:20.274800Z"
    },
    "scrolled": true
   },
   "outputs": [],
   "source": [
    "swt_mat = swtImgObj.transformImage(text_mode='db_lf', maximum_angle_deviation=np.pi/2,\n",
    "                                   edge_function='ac', gaussian_blurr_kernel=(11, 11),\n",
    "                                   minimum_stroke_width=5, maximum_stroke_width=50, display=False)\n",
    "localized_letters = swtImgObj.localizeLetters(display=False)\n",
    "localized_words = swtImgObj.localizeWords(display=False)"
   ]
  },
  {
   "cell_type": "markdown",
   "id": "254514f9",
   "metadata": {},
   "source": [
    "**Display Multiple Intermediary Stage Images**"
   ]
  },
  {
   "cell_type": "code",
   "execution_count": null,
   "id": "8e898cad",
   "metadata": {
    "ExecuteTime": {
     "end_time": "2022-02-16T20:42:26.666244Z",
     "start_time": "2022-02-16T20:42:26.613664Z"
    }
   },
   "outputs": [],
   "source": [
    "# Import the Image Codes from configs\n",
    "from swtloc.configs import (IMAGE_SWT_TRANSFORMED,\n",
    "                            IMAGE_CONNECTED_COMPONENTS_3C_WITH_PRUNED_ELEMENTS)"
   ]
  },
  {
   "cell_type": "code",
   "execution_count": null,
   "id": "7d872b7b",
   "metadata": {
    "ExecuteTime": {
     "end_time": "2022-02-16T20:42:28.324747Z",
     "start_time": "2022-02-16T20:42:27.184016Z"
    }
   },
   "outputs": [],
   "source": [
    "swtImgObj.showImage(image_codes=[IMAGE_SWT_TRANSFORMED, \n",
    "                                 IMAGE_CONNECTED_COMPONENTS_3C_WITH_PRUNED_ELEMENTS],\n",
    "                    plot_title='SWT Image and Components which were pruned')"
   ]
  },
  {
   "cell_type": "markdown",
   "id": "0f8f3948",
   "metadata": {},
   "source": [
    "**Display Single Intermediary Stage Image**"
   ]
  },
  {
   "cell_type": "code",
   "execution_count": null,
   "id": "13b15575",
   "metadata": {
    "ExecuteTime": {
     "end_time": "2022-02-16T20:42:30.620915Z",
     "start_time": "2022-02-16T20:42:29.708901Z"
    }
   },
   "outputs": [],
   "source": [
    "swtImgObj.showImage(image_codes=[IMAGE_SWT_TRANSFORMED],\n",
    "                    plot_title='SWT Image')"
   ]
  },
  {
   "cell_type": "markdown",
   "id": "31671f71",
   "metadata": {},
   "source": [
    "**Save Multiple Intermediary images in a single plot**"
   ]
  },
  {
   "cell_type": "code",
   "execution_count": null,
   "id": "77aad676",
   "metadata": {
    "ExecuteTime": {
     "end_time": "2022-02-16T20:42:33.541055Z",
     "start_time": "2022-02-16T20:42:32.262023Z"
    }
   },
   "outputs": [],
   "source": [
    "swtImgObj.showImage(image_codes=[IMAGE_SWT_TRANSFORMED, \n",
    "                                 IMAGE_CONNECTED_COMPONENTS_3C_WITH_PRUNED_ELEMENTS],\n",
    "                    plot_title='SWT Image and Components which were pruned', \n",
    "                    save_fig=True, save_dir=res_path[0])"
   ]
  },
  {
   "cell_type": "markdown",
   "id": "8dfea903",
   "metadata": {},
   "source": [
    "**Save single Intermediary images in a single plot**"
   ]
  },
  {
   "cell_type": "code",
   "execution_count": null,
   "id": "6a2c5cda",
   "metadata": {
    "ExecuteTime": {
     "end_time": "2022-02-16T20:42:37.145604Z",
     "start_time": "2022-02-16T20:42:36.152445Z"
    }
   },
   "outputs": [],
   "source": [
    "swtImgObj.showImage(image_codes=[IMAGE_SWT_TRANSFORMED],\n",
    "                    plot_title='SWT Image', \n",
    "                    save_fig=True, save_dir=res_path[0])"
   ]
  },
  {
   "cell_type": "markdown",
   "id": "5b5bfde6",
   "metadata": {},
   "source": [
    "# Localization annotation for Letters and Words\n",
    "\n",
    "From v2.0.0 onwards, two classes `Letter` and `Word` were incuclated representing the abstraction for a letter and a word.\n",
    "There are various methods for the annotation of each localization annotation\n",
    "\n",
    "For `Letter`'s, the localization annotations available are: \n",
    "\n",
    "    - \"min_bbox\" : Minimum Bounding Box Boundary Localization Annotation\n",
    "    - \"ext_bbox\" : External Bounding Box Boundary Localization Annotation\n",
    "    - \"outline\" : Contour Boundary Localization Annotation\n",
    "    \n",
    "For `Word`'s, the localization annotations available are: \n",
    "\n",
    "    - \"bubble\" : Fused Bubble Boundary Localization Annotation\n",
    "    - \"bbox\" : Fused Bounding Box Boundary Localization Annotation\n",
    "    - \"polygon\" : Contour Boundary Localization Annotation"
   ]
  },
  {
   "cell_type": "code",
   "execution_count": null,
   "id": "e0189ac6",
   "metadata": {
    "ExecuteTime": {
     "end_time": "2022-02-16T20:42:41.872917Z",
     "start_time": "2022-02-16T20:42:41.402368Z"
    }
   },
   "outputs": [],
   "source": [
    "swtImgObj = swtl.swtimages[1]\n",
    "swtImgObj.showImage()"
   ]
  },
  {
   "cell_type": "code",
   "execution_count": null,
   "id": "ca6e398c",
   "metadata": {
    "ExecuteTime": {
     "end_time": "2022-02-16T20:42:47.523326Z",
     "start_time": "2022-02-16T20:42:47.320623Z"
    }
   },
   "outputs": [],
   "source": [
    "swt_mat = swtImgObj.transformImage(maximum_angle_deviation=np.pi/2,\n",
    "                                   edge_function='ac', gaussian_blurr_kernel=(11, 11),\n",
    "                                   minimum_stroke_width=5, maximum_stroke_width=50, display=False)"
   ]
  },
  {
   "cell_type": "code",
   "execution_count": null,
   "id": "a1954cf8",
   "metadata": {
    "ExecuteTime": {
     "end_time": "2022-02-16T20:42:54.465959Z",
     "start_time": "2022-02-16T20:42:49.523331Z"
    }
   },
   "outputs": [],
   "source": [
    "localized_letters = swtImgObj.localizeLetters()\n",
    "localized_letters = swtImgObj.localizeLetters(localize_by='ext_bbox')\n",
    "localized_letters = swtImgObj.localizeLetters(localize_by='outline')"
   ]
  },
  {
   "cell_type": "code",
   "execution_count": null,
   "id": "14ec5bf8",
   "metadata": {
    "ExecuteTime": {
     "end_time": "2022-02-16T20:43:01.373921Z",
     "start_time": "2022-02-16T20:42:58.000872Z"
    }
   },
   "outputs": [],
   "source": [
    "localized_words = swtImgObj.localizeWords()\n",
    "localized_words = swtImgObj.localizeWords(localize_by='bbox')\n",
    "localized_words = swtImgObj.localizeWords(localize_by='polygon')"
   ]
  },
  {
   "cell_type": "markdown",
   "id": "f854ad5c",
   "metadata": {},
   "source": [
    "# Generating Crops\n",
    "\n",
    "From v2.0.0 onwards, provision to save a crop of the `Letter` or a `Word` has been added via the function `SWTImage.saveCrop`. The crops can be made on any one of the available image codes (See [Available Image Codes & Their Meanings](#Save-intermediary-stage-images-via-Image-Codes)) for a particular `letter` or `word` key"
   ]
  },
  {
   "cell_type": "code",
   "execution_count": null,
   "id": "abd21ef5",
   "metadata": {
    "ExecuteTime": {
     "end_time": "2022-02-16T20:43:06.351432Z",
     "start_time": "2022-02-16T20:43:05.976415Z"
    }
   },
   "outputs": [],
   "source": [
    "swtImgObj = swtl.swtimages[2]\n",
    "swtImgObj.showImage()"
   ]
  },
  {
   "cell_type": "code",
   "execution_count": null,
   "id": "2cdc8b4c",
   "metadata": {
    "ExecuteTime": {
     "end_time": "2022-02-16T20:43:11.339651Z",
     "start_time": "2022-02-16T20:43:09.627217Z"
    }
   },
   "outputs": [],
   "source": [
    "swt_mat = swtImgObj.transformImage(text_mode='db_lf', maximum_angle_deviation=np.pi/2,\n",
    "                                   edge_function='ac', gaussian_blurr_kernel=(11, 11),\n",
    "                                   minimum_stroke_width=5, maximum_stroke_width=50, display=True)\n",
    "localized_letters = swtImgObj.localizeLetters(display=False)\n",
    "localized_words = swtImgObj.localizeWords(localize_by='polygon', display=False)"
   ]
  },
  {
   "cell_type": "markdown",
   "id": "c6b241ed",
   "metadata": {},
   "source": [
    "**Saving Crops of Letters**\n",
    "\n",
    "To assist with visualising letter of interest, whose crop need to be saved, there is a function `SWTImage.getLetter` which visualizes a particular queried letter by its label."
   ]
  },
  {
   "cell_type": "code",
   "execution_count": null,
   "id": "9d64995a",
   "metadata": {
    "ExecuteTime": {
     "end_time": "2022-02-16T20:43:18.324453Z",
     "start_time": "2022-02-16T20:43:18.269582Z"
    }
   },
   "outputs": [],
   "source": [
    "localized_letters"
   ]
  },
  {
   "cell_type": "code",
   "execution_count": null,
   "id": "f87be394",
   "metadata": {
    "ExecuteTime": {
     "end_time": "2022-02-16T20:43:20.482293Z",
     "start_time": "2022-02-16T20:43:19.861866Z"
    }
   },
   "outputs": [],
   "source": [
    "_ = swtImgObj.getLetter(3)"
   ]
  },
  {
   "cell_type": "code",
   "execution_count": null,
   "id": "c5ad5899",
   "metadata": {
    "ExecuteTime": {
     "end_time": "2022-02-16T20:43:24.747632Z",
     "start_time": "2022-02-16T20:43:24.255026Z"
    }
   },
   "outputs": [],
   "source": [
    "# To save the crop of 3rd letter as shown in the \n",
    "from swtloc.configs import (IMAGE_ORIGINAL,\n",
    "                            IMAGE_SWT_TRANSFORMED)\n",
    "swtImgObj.saveCrop(save_path=res_path[2], crop_of='letters', crop_key=3,\n",
    "                   crop_on=IMAGE_SWT_TRANSFORMED, crop_type='min_bbox')\n",
    "swtImgObj.saveCrop(save_path=res_path[2], crop_of='letters', crop_key=3,\n",
    "                   crop_on=IMAGE_ORIGINAL, crop_type='min_bbox')"
   ]
  },
  {
   "cell_type": "markdown",
   "id": "25560546",
   "metadata": {},
   "source": [
    "**Saving Crops of Words**\n",
    "\n",
    "\n",
    "To assist with visualising word of interest, whose crop need to be saved, there is a function `SWTImage.getWord` which visualizes a particular queried word by its label."
   ]
  },
  {
   "cell_type": "code",
   "execution_count": null,
   "id": "454a8c2b",
   "metadata": {
    "ExecuteTime": {
     "end_time": "2022-02-16T20:43:31.520641Z",
     "start_time": "2022-02-16T20:43:31.453818Z"
    }
   },
   "outputs": [],
   "source": [
    "localized_words"
   ]
  },
  {
   "cell_type": "code",
   "execution_count": null,
   "id": "2b215530",
   "metadata": {
    "ExecuteTime": {
     "end_time": "2022-02-16T20:43:32.706367Z",
     "start_time": "2022-02-16T20:43:32.102537Z"
    }
   },
   "outputs": [],
   "source": [
    "_ = swtImgObj.getWord(11, localize_by='polygon')"
   ]
  },
  {
   "cell_type": "code",
   "execution_count": null,
   "id": "02cda533",
   "metadata": {
    "ExecuteTime": {
     "end_time": "2022-02-16T20:43:35.190395Z",
     "start_time": "2022-02-16T20:43:34.632193Z"
    }
   },
   "outputs": [],
   "source": [
    "# To save the crop of 3rd letter as shown in the \n",
    "from swtloc.configs import (IMAGE_ORIGINAL,\n",
    "                            IMAGE_SWT_TRANSFORMED)\n",
    "swtImgObj.saveCrop(save_path=res_path[2], crop_of='words', \n",
    "                   crop_key=11, crop_on=IMAGE_SWT_TRANSFORMED, crop_type='polygon')\n",
    "swtImgObj.saveCrop(save_path=res_path[2], crop_of='words', \n",
    "                   crop_key=11, crop_on=IMAGE_ORIGINAL, crop_type='polygon')"
   ]
  },
  {
   "cell_type": "markdown",
   "id": "d011b9cb",
   "metadata": {},
   "source": [
    "# Random Testing Space"
   ]
  },
  {
   "cell_type": "code",
   "execution_count": null,
   "id": "481a28e8",
   "metadata": {},
   "outputs": [],
   "source": []
  }
 ],
 "metadata": {
  "kernelspec": {
   "display_name": "py36VenvDev",
   "language": "python",
   "name": "py36venvdev"
  },
  "language_info": {
   "codemirror_mode": {
    "name": "ipython",
    "version": 3
   },
   "file_extension": ".py",
   "mimetype": "text/x-python",
   "name": "python",
   "nbconvert_exporter": "python",
   "pygments_lexer": "ipython3",
   "version": "3.6.13"
  },
  "toc": {
   "base_numbering": 1,
   "nav_menu": {},
   "number_sections": true,
   "sideBar": true,
   "skip_h1_title": false,
   "title_cell": "Table of Contents",
   "title_sidebar": "Contents",
   "toc_cell": false,
   "toc_position": {},
   "toc_section_display": true,
   "toc_window_display": false
  },
  "varInspector": {
   "cols": {
    "lenName": 16,
    "lenType": 16,
    "lenVar": 40
   },
   "kernels_config": {
    "python": {
     "delete_cmd_postfix": "",
     "delete_cmd_prefix": "del ",
     "library": "var_list.py",
     "varRefreshCmd": "print(var_dic_list())"
    },
    "r": {
     "delete_cmd_postfix": ") ",
     "delete_cmd_prefix": "rm(",
     "library": "var_list.r",
     "varRefreshCmd": "cat(var_dic_list()) "
    }
   },
   "types_to_exclude": [
    "module",
    "function",
    "builtin_function_or_method",
    "instance",
    "_Feature"
   ],
   "window_display": false
  }
 },
 "nbformat": 4,
 "nbformat_minor": 5
}
