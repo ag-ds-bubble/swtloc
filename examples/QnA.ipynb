{
 "cells": [
  {
   "cell_type": "markdown",
   "metadata": {},
   "source": [
    "**This notebook to answers StackOverflow and Issue Questions**"
   ]
  },
  {
   "cell_type": "markdown",
   "metadata": {},
   "source": [
    "# Imports"
   ]
  },
  {
   "cell_type": "code",
   "execution_count": 1,
   "metadata": {
    "ExecuteTime": {
     "end_time": "2022-03-08T22:50:03.502764Z",
     "start_time": "2022-03-08T22:50:02.221892Z"
    }
   },
   "outputs": [
    {
     "name": "stdout",
     "output_type": "stream",
     "text": [
      "Python Version :  3.6.13\n",
      "Python Path :  D:\\Personal Stuff\\swtloc-project\\venvs\\py36DevVenv\\python.exe\n",
      "OpenCV Version :  4.6.0\n",
      "Numpy Version :  1.19.5\n",
      "Numba Version :  0.53.1\n",
      "SWTLoc Version :  2.1.1\n"
     ]
    }
   ],
   "source": [
    "# OpenCV Version :  4.5.5\n",
    "# Numpy Version :  1.19.5\n",
    "# Numba Version :  0.53.1\n",
    "# SWTLoc Version :  2.1.1\n",
    "import sys\n",
    "import os\n",
    "import numpy as np\n",
    "import numba as nb\n",
    "import pandas as pd\n",
    "import cv2\n",
    "import swtloc as swt\n",
    "from platform import python_version\n",
    "\n",
    "print('Python Version : ', python_version())\n",
    "print('Python Path : ', sys.executable)\n",
    "print('OpenCV Version : ', cv2.__version__)\n",
    "print('Numpy Version : ', np.__version__)\n",
    "print('Numba Version : ', nb.__version__)\n",
    "print('SWTLoc Version : ', swt.__version__)"
   ]
  },
  {
   "cell_type": "code",
   "execution_count": 2,
   "metadata": {
    "ExecuteTime": {
     "end_time": "2022-03-08T22:50:03.548916Z",
     "start_time": "2022-03-08T22:50:03.537407Z"
    }
   },
   "outputs": [],
   "source": [
    "from swtloc import SWTLocalizer\n",
    "from swtloc.configs import (IMAGE_ORIGINAL, \n",
    "                            IMAGE_GRAYSCALE,\n",
    "                            IMAGE_EDGED,\n",
    "                            IMAGE_SWT_TRANSFORMED,\n",
    "                            IMAGE_CONNECTED_COMPONENTS_3C,\n",
    "                            IMAGE_CONNECTED_COMPONENTS_3C_WITH_PRUNED_ELEMENTS,\n",
    "                            IMAGE_CONNECTED_COMPONENTS_PRUNED_3C,\n",
    "                            IMAGE_PRUNED_3C_LETTER_LOCALIZATIONS,\n",
    "                            IMAGE_ORIGINAL_LETTER_LOCALIZATIONS,\n",
    "                            IMAGE_ORIGINAL_MASKED_LETTER_LOCALIZATIONS,\n",
    "                            IMAGE_PRUNED_3C_WORD_LOCALIZATIONS,\n",
    "                            IMAGE_ORIGINAL_WORD_LOCALIZATIONS,\n",
    "                            IMAGE_ORIGINAL_MASKED_WORD_LOCALIZATIONS)"
   ]
  },
  {
   "cell_type": "markdown",
   "metadata": {},
   "source": [
    "# Raw Datapaths and Variable Initialisation"
   ]
  },
  {
   "cell_type": "code",
   "execution_count": 3,
   "metadata": {
    "ExecuteTime": {
     "end_time": "2022-03-08T22:50:05.106380Z",
     "start_time": "2022-03-08T22:50:05.098645Z"
    }
   },
   "outputs": [],
   "source": [
    "rawimage_path = 'images/'"
   ]
  },
  {
   "cell_type": "markdown",
   "metadata": {},
   "source": [
    "# Helper Functions"
   ]
  },
  {
   "cell_type": "code",
   "execution_count": 4,
   "metadata": {
    "ExecuteTime": {
     "end_time": "2022-03-08T22:50:05.666030Z",
     "start_time": "2022-03-08T22:50:05.653336Z"
    }
   },
   "outputs": [],
   "source": [
    "def save_results(swtimgobj, res_path):\n",
    "    savepath1 = swtimgobj.showImage(image_codes=[IMAGE_ORIGINAL, IMAGE_GRAYSCALE, IMAGE_EDGED, IMAGE_SWT_TRANSFORMED],\n",
    "                                   plot_title='SWT', plot_sup_title=f'\\nTransform Time - {swtImgObj.transform_time}',\n",
    "                                   save_fig=True, save_dir=res_path, dpi=300)\n",
    "\n",
    "    savepath2 = swtimgobj.showImage(image_codes=[IMAGE_CONNECTED_COMPONENTS_3C,\n",
    "                                                IMAGE_CONNECTED_COMPONENTS_3C_WITH_PRUNED_ELEMENTS,\n",
    "                                                IMAGE_PRUNED_3C_LETTER_LOCALIZATIONS,\n",
    "                                                IMAGE_ORIGINAL_MASKED_LETTER_LOCALIZATIONS],\n",
    "                                     plot_title='Letter Localizations\\n',\n",
    "                                   plot_sup_title=rf\"Localization Method : ${swtimgobj.cfg['swtimage.localizeletters.localize_by']}$\",\n",
    "                                   save_fig=True, save_dir=res_path, dpi=300)\n",
    "\n",
    "    savepath3 = swtimgobj.showImage(image_codes=[IMAGE_PRUNED_3C_WORD_LOCALIZATIONS,\n",
    "                                                IMAGE_ORIGINAL_WORD_LOCALIZATIONS,\n",
    "                                                 IMAGE_ORIGINAL_MASKED_WORD_LOCALIZATIONS],\n",
    "                                    plot_title='Word Localizations\\n',\n",
    "                                    plot_sup_title=rf\"Localization Method : ${swtimgobj.cfg['swtimage.localizewords.localize_by']}$\",\n",
    "                                    save_fig=True, save_dir=res_path, dpi=300)\n",
    "    \n",
    "    print('First Result Image : ', savepath1)\n",
    "    print('Second Result Image : ', savepath2)\n",
    "    print('Third Result Image : ', savepath3)\n",
    "    "
   ]
  },
  {
   "cell_type": "markdown",
   "metadata": {},
   "source": [
    "# Q1\n",
    "https://stackoverflow.com/questions/40443988/python-opencv-ocr-image-segmentation"
   ]
  },
  {
   "cell_type": "code",
   "execution_count": 5,
   "metadata": {
    "ExecuteTime": {
     "end_time": "2022-03-08T22:50:07.067838Z",
     "start_time": "2022-03-08T22:50:07.032207Z"
    }
   },
   "outputs": [
    {
     "ename": "FileNotFoundError",
     "evalue": "No image present at images/so1/so1_img1.jpg",
     "output_type": "error",
     "traceback": [
      "\u001b[1;31m---------------------------------------------------------------------------\u001b[0m",
      "\u001b[1;31mFileNotFoundError\u001b[0m                         Traceback (most recent call last)",
      "\u001b[1;32m<ipython-input-5-8e1682a9420a>\u001b[0m in \u001b[0;36m<module>\u001b[1;34m\u001b[0m\n\u001b[0;32m      2\u001b[0m \u001b[0mrespath\u001b[0m \u001b[1;33m=\u001b[0m \u001b[0mrawimage_path\u001b[0m\u001b[1;33m+\u001b[0m\u001b[1;34m'so1/results/'\u001b[0m\u001b[1;33m\u001b[0m\u001b[1;33m\u001b[0m\u001b[0m\n\u001b[0;32m      3\u001b[0m \u001b[1;33m\u001b[0m\u001b[0m\n\u001b[1;32m----> 4\u001b[1;33m \u001b[0mswtl\u001b[0m \u001b[1;33m=\u001b[0m \u001b[0mSWTLocalizer\u001b[0m\u001b[1;33m(\u001b[0m\u001b[0mimage_paths\u001b[0m\u001b[1;33m=\u001b[0m\u001b[0mimgpath\u001b[0m\u001b[1;33m)\u001b[0m\u001b[1;33m\u001b[0m\u001b[1;33m\u001b[0m\u001b[0m\n\u001b[0m\u001b[0;32m      5\u001b[0m \u001b[0mswtImgObj\u001b[0m \u001b[1;33m=\u001b[0m \u001b[0mswtl\u001b[0m\u001b[1;33m.\u001b[0m\u001b[0mswtimages\u001b[0m\u001b[1;33m[\u001b[0m\u001b[1;36m1\u001b[0m\u001b[1;33m]\u001b[0m\u001b[1;33m\u001b[0m\u001b[1;33m\u001b[0m\u001b[0m\n\u001b[0;32m      6\u001b[0m \u001b[0mprint\u001b[0m\u001b[1;33m(\u001b[0m\u001b[0mswtImgObj\u001b[0m\u001b[1;33m)\u001b[0m\u001b[1;33m\u001b[0m\u001b[1;33m\u001b[0m\u001b[0m\n",
      "\u001b[1;32mD:\\Personal Stuff\\swtloc-project\\venvs\\py36DevVenv\\lib\\site-packages\\swtloc\\swtlocalizer.py\u001b[0m in \u001b[0;36m__init__\u001b[1;34m(self, multiprocessing, images, image_paths)\u001b[0m\n\u001b[0;32m    135\u001b[0m \u001b[1;33m\u001b[0m\u001b[0m\n\u001b[0;32m    136\u001b[0m         \u001b[1;31m# Sanity Checks\u001b[0m\u001b[1;33m\u001b[0m\u001b[1;33m\u001b[0m\u001b[1;33m\u001b[0m\u001b[0m\n\u001b[1;32m--> 137\u001b[1;33m         \u001b[0mres_pack\u001b[0m \u001b[1;33m=\u001b[0m \u001b[0mself\u001b[0m\u001b[1;33m.\u001b[0m\u001b[0m_sanityChecks\u001b[0m\u001b[1;33m(\u001b[0m\u001b[0mimages\u001b[0m\u001b[1;33m=\u001b[0m\u001b[0mimages\u001b[0m\u001b[1;33m,\u001b[0m \u001b[0mimage_paths\u001b[0m\u001b[1;33m=\u001b[0m\u001b[0mimage_paths\u001b[0m\u001b[1;33m)\u001b[0m\u001b[1;33m\u001b[0m\u001b[1;33m\u001b[0m\u001b[0m\n\u001b[0m\u001b[0;32m    138\u001b[0m         \u001b[0mtransform_inputs\u001b[0m\u001b[1;33m,\u001b[0m \u001b[0mtransform_input_flags\u001b[0m\u001b[1;33m,\u001b[0m \u001b[0mtransform_input_image_names\u001b[0m \u001b[1;33m=\u001b[0m \u001b[0mres_pack\u001b[0m\u001b[1;33m\u001b[0m\u001b[1;33m\u001b[0m\u001b[0m\n\u001b[0;32m    139\u001b[0m \u001b[1;33m\u001b[0m\u001b[0m\n",
      "\u001b[1;32mD:\\Personal Stuff\\swtloc-project\\venvs\\py36DevVenv\\lib\\site-packages\\swtloc\\swtlocalizer.py\u001b[0m in \u001b[0;36m_sanityChecks\u001b[1;34m(images, image_paths)\u001b[0m\n\u001b[0;32m    197\u001b[0m             \u001b[1;32mfor\u001b[0m \u001b[0meach_path\u001b[0m \u001b[1;32min\u001b[0m \u001b[0mimage_paths\u001b[0m\u001b[1;33m:\u001b[0m\u001b[1;33m\u001b[0m\u001b[1;33m\u001b[0m\u001b[0m\n\u001b[0;32m    198\u001b[0m                 \u001b[1;32mif\u001b[0m \u001b[1;32mnot\u001b[0m \u001b[0mos\u001b[0m\u001b[1;33m.\u001b[0m\u001b[0mpath\u001b[0m\u001b[1;33m.\u001b[0m\u001b[0misfile\u001b[0m\u001b[1;33m(\u001b[0m\u001b[0meach_path\u001b[0m\u001b[1;33m)\u001b[0m\u001b[1;33m:\u001b[0m\u001b[1;33m\u001b[0m\u001b[1;33m\u001b[0m\u001b[0m\n\u001b[1;32m--> 199\u001b[1;33m                     \u001b[1;32mraise\u001b[0m \u001b[0mFileNotFoundError\u001b[0m\u001b[1;33m(\u001b[0m\u001b[1;34mf\"No image present at {each_path}\"\u001b[0m\u001b[1;33m)\u001b[0m\u001b[1;33m\u001b[0m\u001b[1;33m\u001b[0m\u001b[0m\n\u001b[0m\u001b[0;32m    200\u001b[0m                 \u001b[1;32melse\u001b[0m\u001b[1;33m:\u001b[0m\u001b[1;33m\u001b[0m\u001b[1;33m\u001b[0m\u001b[0m\n\u001b[0;32m    201\u001b[0m                     \u001b[0m_img_name\u001b[0m \u001b[1;33m=\u001b[0m \u001b[1;34m\" \"\u001b[0m\u001b[1;33m.\u001b[0m\u001b[0mjoin\u001b[0m\u001b[1;33m(\u001b[0m\u001b[0meach_path\u001b[0m\u001b[1;33m.\u001b[0m\u001b[0msplit\u001b[0m\u001b[1;33m(\u001b[0m\u001b[1;34m'/'\u001b[0m\u001b[1;33m)\u001b[0m\u001b[1;33m[\u001b[0m\u001b[1;33m-\u001b[0m\u001b[1;36m1\u001b[0m\u001b[1;33m]\u001b[0m\u001b[1;33m.\u001b[0m\u001b[0msplit\u001b[0m\u001b[1;33m(\u001b[0m\u001b[1;34m'.'\u001b[0m\u001b[1;33m)\u001b[0m\u001b[1;33m[\u001b[0m\u001b[1;33m:\u001b[0m\u001b[1;33m-\u001b[0m\u001b[1;36m1\u001b[0m\u001b[1;33m]\u001b[0m\u001b[1;33m)\u001b[0m\u001b[1;33m\u001b[0m\u001b[1;33m\u001b[0m\u001b[0m\n",
      "\u001b[1;31mFileNotFoundError\u001b[0m: No image present at images/so1/so1_img1.jpg"
     ]
    }
   ],
   "source": [
    "imgpath = [rawimage_path+'so1/so1_img1.jpg', rawimage_path+'so1/so1_img2.jpg']\n",
    "respath = rawimage_path+'so1/results/'\n",
    "\n",
    "swtl = SWTLocalizer(image_paths=imgpath)\n",
    "swtImgObj = swtl.swtimages[1]\n",
    "print(swtImgObj)"
   ]
  },
  {
   "cell_type": "code",
   "execution_count": null,
   "metadata": {
    "ExecuteTime": {
     "end_time": "2022-03-08T22:50:08.228912Z",
     "start_time": "2022-03-08T22:50:07.246816Z"
    }
   },
   "outputs": [],
   "source": [
    "# Perform SWT Transformation with numba engine\n",
    "swt_mat = swtImgObj.transformImage(text_mode='lb_df', gaussian_blurr=False, \n",
    "                                   minimum_stroke_width=3, maximum_stroke_width=12,\n",
    "                                   maximum_angle_deviation=np.pi/2)"
   ]
  },
  {
   "cell_type": "code",
   "execution_count": null,
   "metadata": {
    "ExecuteTime": {
     "end_time": "2022-03-08T22:50:12.794768Z",
     "start_time": "2022-03-08T22:50:08.263699Z"
    },
    "scrolled": false
   },
   "outputs": [],
   "source": [
    "# Localized Letters\n",
    "localized_letters = swtImgObj.localizeLetters(minimum_pixels_per_cc=10,\n",
    "                                              localize_by='min_bbox')\n",
    "localized_words =  swtImgObj.localizeWords(localize_by='bbox')"
   ]
  },
  {
   "cell_type": "markdown",
   "metadata": {},
   "source": [
    "**Generating Images**"
   ]
  },
  {
   "cell_type": "code",
   "execution_count": null,
   "metadata": {
    "ExecuteTime": {
     "end_time": "2022-03-08T22:50:16.075659Z",
     "start_time": "2022-03-08T22:50:12.827999Z"
    }
   },
   "outputs": [],
   "source": [
    "save_results(swtimgobj=swtImgObj, res_path=respath)"
   ]
  },
  {
   "cell_type": "markdown",
   "metadata": {},
   "source": [
    "# Q2\n",
    "\n",
    "https://stackoverflow.com/questions/4837124/stroke-width-transform-swt-implementation-java-c"
   ]
  },
  {
   "cell_type": "code",
   "execution_count": null,
   "metadata": {
    "ExecuteTime": {
     "end_time": "2022-03-08T22:50:16.137536Z",
     "start_time": "2022-03-08T22:50:16.108770Z"
    }
   },
   "outputs": [],
   "source": [
    "from swtloc import SWTLocalizer\n",
    "\n",
    "imgpath = rawimage_path+'so2/so2_img1.jpg'\n",
    "respath = rawimage_path+'so2/results/'\n",
    "swtl = SWTLocalizer(image_paths=imgpath)\n",
    "swtImgObj = swtl.swtimages[0]\n",
    "print(swtImgObj)\n"
   ]
  },
  {
   "cell_type": "code",
   "execution_count": null,
   "metadata": {
    "ExecuteTime": {
     "end_time": "2022-03-08T22:50:17.170840Z",
     "start_time": "2022-03-08T22:50:16.170567Z"
    }
   },
   "outputs": [],
   "source": [
    "# Perform SWT Transform\n",
    "swt_mat = swtImgObj.transformImage(auto_canny_sigma=1.0, minimum_stroke_width=3,\n",
    "                                   maximum_stroke_width=20, maximum_angle_deviation=np.pi/6)"
   ]
  },
  {
   "cell_type": "code",
   "execution_count": null,
   "metadata": {
    "ExecuteTime": {
     "end_time": "2022-03-08T22:50:18.821126Z",
     "start_time": "2022-03-08T22:50:17.202753Z"
    }
   },
   "outputs": [],
   "source": [
    "# Find and Prune Connected Components\n",
    "localized_letters = swtImgObj.localizeLetters()"
   ]
  },
  {
   "cell_type": "code",
   "execution_count": null,
   "metadata": {
    "ExecuteTime": {
     "end_time": "2022-03-08T22:50:19.873196Z",
     "start_time": "2022-03-08T22:50:18.853002Z"
    }
   },
   "outputs": [],
   "source": [
    "# Find and Prune Connected Components\n",
    "localized_words = swtImgObj.localizeWords(acceptable_stroke_width_ratio=2.5)"
   ]
  },
  {
   "cell_type": "markdown",
   "metadata": {},
   "source": [
    "**Generating Images**"
   ]
  },
  {
   "cell_type": "code",
   "execution_count": null,
   "metadata": {
    "ExecuteTime": {
     "end_time": "2022-03-08T22:50:23.138645Z",
     "start_time": "2022-03-08T22:50:19.907119Z"
    }
   },
   "outputs": [],
   "source": [
    "save_results(swtimgobj=swtImgObj, res_path=respath)"
   ]
  },
  {
   "cell_type": "markdown",
   "metadata": {
    "ExecuteTime": {
     "end_time": "2020-09-23T10:32:06.967556Z",
     "start_time": "2020-09-23T10:32:06.793023Z"
    },
    "heading_collapsed": true
   },
   "source": [
    "# Q3\n",
    "https://stackoverflow.com/questions/31667709/can-swt-stroke-width-transform-help-ocr-with-screenshots"
   ]
  },
  {
   "cell_type": "code",
   "execution_count": null,
   "metadata": {
    "ExecuteTime": {
     "end_time": "2022-02-16T21:13:27.699754Z",
     "start_time": "2022-02-16T21:13:27.644148Z"
    },
    "code_folding": [
     2
    ],
    "hidden": true
   },
   "outputs": [],
   "source": [
    "from cv2 import cv2\n",
    "\n",
    "def resize_maintinaAR(image, width=1.0, height=1.0, inter=cv2.INTER_AREA, mode='proportion'):\n",
    "    \"\"\"\n",
    "    A function to resize the image based on the params.\n",
    "    # Adopted from : https://stackoverflow.com/a/55306956/6297658\n",
    "\n",
    "    Arguments\n",
    "    ------------------------------\n",
    "        image : Original Image, np.ndarray\n",
    "            Image to resize\n",
    "        \n",
    "        width(Optional) : int or float.\n",
    "            How much to resize based on the width.\n",
    "        \n",
    "        height(Optional) : int or float\n",
    "            How much to resize based on the height.\n",
    "        \n",
    "        inter(Optional) : opencv interpolation mode\n",
    "        \n",
    "        mode(Optional) : One of 'proportion' or 'actual'\n",
    "            Which mode to resize the image in.\n",
    "    Returns\n",
    "    ------------------------------\n",
    "    Resized image\n",
    "    \"\"\"\n",
    "    dim = None\n",
    "    (h, w) = image.shape[:2]\n",
    "\n",
    "    if mode == 'proportion':\n",
    "        width *= w\n",
    "        width = int(width)\n",
    "        height *= h\n",
    "        height = int(height)\n",
    "\n",
    "    # Return original image if no need to resize\n",
    "    if width is None and height is None:\n",
    "        return image\n",
    "\n",
    "    # We are resizing height if width is none\n",
    "    if width is None:\n",
    "        # Calculate the ratio of the height and construct the dimensions\n",
    "        r = height / float(h)\n",
    "        dim = (int(w * r), height)\n",
    "    # We are resizing width if height is none\n",
    "    else:\n",
    "        # Calculate the ratio of the width and construct the dimensions\n",
    "        r = width / float(w)\n",
    "        dim = (width, int(h * r))\n",
    "\n",
    "    # Return the resized image\n",
    "    return cv2.resize(image, dim, interpolation=inter)\n"
   ]
  },
  {
   "cell_type": "code",
   "execution_count": null,
   "metadata": {
    "ExecuteTime": {
     "end_time": "2022-02-16T21:13:28.120361Z",
     "start_time": "2022-02-16T21:13:28.059517Z"
    },
    "hidden": true
   },
   "outputs": [],
   "source": [
    "from swtloc import SWTLocalizer\n",
    "\n",
    "imgpath = rawimage_path+'so3/so3_img1.png'\n",
    "r_imgpath = rawimage_path+'so3/so3_img11.jpg'\n",
    "respath = rawimage_path+'so3/results/'\n",
    "\n",
    "orig_img = cv2.imread(imgpath)\n",
    "resized_img = resize_maintinaAR(orig_img, width=2.0)\n",
    "print(f'Shape changed from {orig_img.shape} -> {resized_img.shape}')"
   ]
  },
  {
   "cell_type": "code",
   "execution_count": null,
   "metadata": {
    "ExecuteTime": {
     "end_time": "2022-02-16T21:13:33.308712Z",
     "start_time": "2022-02-16T21:13:33.256850Z"
    },
    "hidden": true
   },
   "outputs": [],
   "source": [
    "swtl = SWTLocalizer(images=resized_img)\n",
    "swtImgObj = swtl.swtimages[0]\n",
    "print(swtImgObj)"
   ]
  },
  {
   "cell_type": "code",
   "execution_count": null,
   "metadata": {
    "ExecuteTime": {
     "end_time": "2022-02-16T21:13:38.031539Z",
     "start_time": "2022-02-16T21:13:34.738241Z"
    },
    "code_folding": [],
    "hidden": true
   },
   "outputs": [],
   "source": [
    "swt_mat = swtImgObj.transformImage(minimum_stroke_width=3, maximum_stroke_width=10, \n",
    "                                   maximum_angle_deviation=np.pi/6)"
   ]
  },
  {
   "cell_type": "code",
   "execution_count": null,
   "metadata": {
    "ExecuteTime": {
     "end_time": "2022-02-14T22:17:00.052357Z",
     "start_time": "2022-02-14T22:17:00.000499Z"
    },
    "hidden": true
   },
   "outputs": [],
   "source": [
    "# Localizations # TODO : Memory Error\n",
    "# localized_letters = swtImgObj.localizeLetters()"
   ]
  },
  {
   "cell_type": "markdown",
   "metadata": {
    "hidden": true
   },
   "source": [
    "**Generating Images**"
   ]
  },
  {
   "cell_type": "code",
   "execution_count": null,
   "metadata": {
    "ExecuteTime": {
     "end_time": "2022-02-16T21:14:42.093502Z",
     "start_time": "2022-02-16T21:14:38.553020Z"
    },
    "hidden": true
   },
   "outputs": [],
   "source": [
    "swtImgObj.showImage(image_codes=[IMAGE_ORIGINAL, IMAGE_GRAYSCALE, IMAGE_EDGED, IMAGE_SWT_TRANSFORMED],\n",
    "                    plot_title='SWT', plot_sup_title=f'\\nTransform Time - {swtImgObj.transform_time}',\n",
    "                    save_fig=True, save_dir=respath, dpi=300)"
   ]
  },
  {
   "cell_type": "markdown",
   "metadata": {},
   "source": [
    "# Q4\n",
    "https://stackoverflow.com/questions/23506105/extracting-text-opencv"
   ]
  },
  {
   "cell_type": "code",
   "execution_count": null,
   "metadata": {
    "ExecuteTime": {
     "end_time": "2022-03-08T22:50:57.152250Z",
     "start_time": "2022-03-08T22:50:57.135298Z"
    }
   },
   "outputs": [],
   "source": [
    "import os\n",
    "imgpaths = [rawimage_path+'so4/so4_img1.png',\n",
    "            rawimage_path+'so4/so4_img2.jpg',\n",
    "            rawimage_path+'so4/so4_img3.jpg']\n",
    "respath = rawimage_path+'so4/results/'"
   ]
  },
  {
   "cell_type": "code",
   "execution_count": null,
   "metadata": {
    "ExecuteTime": {
     "end_time": "2022-03-08T22:50:57.449063Z",
     "start_time": "2022-03-08T22:50:57.366667Z"
    }
   },
   "outputs": [],
   "source": [
    "from swtloc import SWTLocalizer\n",
    "from swtloc.configs import IMAGE_ORIGINAL\n",
    "\n",
    "swtl = SWTLocalizer(image_paths=imgpaths)\n",
    "print(swtl.swtimages)"
   ]
  },
  {
   "cell_type": "markdown",
   "metadata": {},
   "source": [
    "**First Image**"
   ]
  },
  {
   "cell_type": "code",
   "execution_count": null,
   "metadata": {
    "ExecuteTime": {
     "end_time": "2022-03-08T22:50:58.105803Z",
     "start_time": "2022-03-08T22:50:57.782629Z"
    }
   },
   "outputs": [],
   "source": [
    "swtImgObj = swtl.swtimages[0]\n",
    "swtImgObj.showImage(image_codes=[IMAGE_ORIGINAL])"
   ]
  },
  {
   "cell_type": "code",
   "execution_count": null,
   "metadata": {
    "ExecuteTime": {
     "end_time": "2022-03-08T22:50:59.422287Z",
     "start_time": "2022-03-08T22:50:58.139674Z"
    }
   },
   "outputs": [],
   "source": [
    "swt_mat = swtImgObj.transformImage(text_mode='lb_df', minimum_stroke_width=3, maximum_stroke_width=25,\n",
    "                                   maximum_angle_deviation=np.pi/4, gaussian_blurr_kernel=(3, 3))"
   ]
  },
  {
   "cell_type": "code",
   "execution_count": null,
   "metadata": {
    "ExecuteTime": {
     "end_time": "2022-03-08T22:51:22.007568Z",
     "start_time": "2022-03-08T22:50:59.455157Z"
    }
   },
   "outputs": [],
   "source": [
    "# Localizations\n",
    "localized_letters = swtImgObj.localizeLetters(minimum_pixels_per_cc=80,\n",
    "                                              maximum_pixels_per_cc=2000)\n",
    "localized_words = swtImgObj.localizeWords()"
   ]
  },
  {
   "cell_type": "code",
   "execution_count": null,
   "metadata": {
    "ExecuteTime": {
     "end_time": "2022-03-08T22:51:28.341450Z",
     "start_time": "2022-03-08T22:51:22.042475Z"
    }
   },
   "outputs": [],
   "source": [
    "save_results(swtimgobj=swtImgObj, res_path=respath)"
   ]
  },
  {
   "cell_type": "markdown",
   "metadata": {},
   "source": [
    "**Second Image**"
   ]
  },
  {
   "cell_type": "code",
   "execution_count": null,
   "metadata": {
    "ExecuteTime": {
     "end_time": "2022-03-08T22:51:28.749549Z",
     "start_time": "2022-03-08T22:51:28.375393Z"
    }
   },
   "outputs": [],
   "source": [
    "swtImgObj = swtl.swtimages[1]\n",
    "swtImgObj.showImage(image_codes=[IMAGE_ORIGINAL])"
   ]
  },
  {
   "cell_type": "code",
   "execution_count": null,
   "metadata": {
    "ExecuteTime": {
     "end_time": "2022-03-08T22:51:30.166415Z",
     "start_time": "2022-03-08T22:51:28.799200Z"
    }
   },
   "outputs": [],
   "source": [
    "swt_mat = swtImgObj.transformImage(text_mode='db_lf', minimum_stroke_width=3, maximum_stroke_width=25,\n",
    "                                   maximum_angle_deviation=np.pi/5, gaussian_blurr_kernel=(9, 9))"
   ]
  },
  {
   "cell_type": "code",
   "execution_count": null,
   "metadata": {
    "ExecuteTime": {
     "end_time": "2022-03-08T22:51:41.494797Z",
     "start_time": "2022-03-08T22:51:30.214351Z"
    }
   },
   "outputs": [],
   "source": [
    "# Localizations\n",
    "localized_letters = swtImgObj.localizeLetters(minimum_pixels_per_cc=70,\n",
    "                                              maximum_pixels_per_cc=3500,\n",
    "                                              acceptable_aspect_ratio=0.05)\n",
    "localized_words = swtImgObj.localizeWords(localize_by='bbox')"
   ]
  },
  {
   "cell_type": "code",
   "execution_count": null,
   "metadata": {
    "ExecuteTime": {
     "end_time": "2022-03-08T22:51:47.699924Z",
     "start_time": "2022-03-08T22:51:41.544664Z"
    }
   },
   "outputs": [],
   "source": [
    "save_results(swtimgobj=swtImgObj, res_path=respath)"
   ]
  },
  {
   "cell_type": "markdown",
   "metadata": {},
   "source": [
    "**Third Image**"
   ]
  },
  {
   "cell_type": "code",
   "execution_count": null,
   "metadata": {
    "ExecuteTime": {
     "end_time": "2022-03-08T22:51:48.183314Z",
     "start_time": "2022-03-08T22:51:47.732518Z"
    }
   },
   "outputs": [],
   "source": [
    "swtImgObj = swtl.swtimages[2]\n",
    "swtImgObj.showImage(image_codes=[IMAGE_ORIGINAL])"
   ]
  },
  {
   "cell_type": "code",
   "execution_count": null,
   "metadata": {
    "ExecuteTime": {
     "end_time": "2022-03-08T22:51:50.113099Z",
     "start_time": "2022-03-08T22:51:48.232183Z"
    }
   },
   "outputs": [],
   "source": [
    "swt_mat = swtImgObj.transformImage(text_mode='lb_df', minimum_stroke_width=3, maximum_stroke_width=25,\n",
    "                                   maximum_angle_deviation=np.pi/3, gaussian_blurr_kernel=(5, 5))"
   ]
  },
  {
   "cell_type": "code",
   "execution_count": null,
   "metadata": {
    "ExecuteTime": {
     "end_time": "2022-03-08T22:52:02.033028Z",
     "start_time": "2022-03-08T22:51:50.146177Z"
    }
   },
   "outputs": [],
   "source": [
    "# Localizations\n",
    "localized_letters = swtImgObj.localizeLetters(minimum_pixels_per_cc=50,\n",
    "                                              maximum_pixels_per_cc=2500)\n",
    "localized_words = swtImgObj.localizeWords(localize_by='bbox')"
   ]
  },
  {
   "cell_type": "markdown",
   "metadata": {},
   "source": [
    "**Saving for each image**"
   ]
  },
  {
   "cell_type": "code",
   "execution_count": null,
   "metadata": {
    "ExecuteTime": {
     "end_time": "2022-03-08T22:52:08.649217Z",
     "start_time": "2022-03-08T22:52:02.064904Z"
    }
   },
   "outputs": [],
   "source": [
    "save_results(swtimgobj=swtImgObj, res_path=respath)"
   ]
  },
  {
   "cell_type": "markdown",
   "metadata": {
    "ExecuteTime": {
     "end_time": "2020-09-23T11:38:31.401436Z",
     "start_time": "2020-09-23T11:38:31.395873Z"
    }
   },
   "source": [
    "# Q5\n",
    "https://stackoverflow.com/questions/46533389/find-the-width-of-an-ink-stroke-in-an-image-using-opencv-c/46533420"
   ]
  },
  {
   "cell_type": "code",
   "execution_count": null,
   "metadata": {
    "ExecuteTime": {
     "end_time": "2022-03-08T22:52:13.242890Z",
     "start_time": "2022-03-08T22:52:08.697223Z"
    }
   },
   "outputs": [],
   "source": [
    "from swtloc import SWTLocalizer\n",
    "\n",
    "imgpath = rawimage_path+'so5/so5_img1.jpg'\n",
    "respath = rawimage_path+'so5/results/'\n",
    "swtl = SWTLocalizer(image_paths=imgpath)\n",
    "swtImgObj = swtl.swtimages[0]\n",
    "swt_mat = swtImgObj.transformImage(auto_canny_sigma=1.0, gaussian_blurr=False,\n",
    "                                   minimum_stroke_width=3, maximum_stroke_width=50,\n",
    "                                   maximum_angle_deviation=np.pi/3)"
   ]
  },
  {
   "cell_type": "code",
   "execution_count": null,
   "metadata": {
    "ExecuteTime": {
     "end_time": "2022-03-08T22:52:26.455532Z",
     "start_time": "2022-03-08T22:52:13.277661Z"
    }
   },
   "outputs": [],
   "source": [
    "# Localize Letters\n",
    "localized_letters = swtImgObj.localizeLetters()\n",
    "localized_words = swtImgObj.localizeWords()"
   ]
  },
  {
   "cell_type": "code",
   "execution_count": null,
   "metadata": {
    "ExecuteTime": {
     "end_time": "2022-03-08T22:52:30.329895Z",
     "start_time": "2022-03-08T22:52:26.488481Z"
    }
   },
   "outputs": [],
   "source": [
    "import seaborn as sns\n",
    "import matplotlib.pyplot as plt\n",
    "\n",
    "all_sws = []\n",
    "for letter_label, letter in localized_letters.items():\n",
    "    all_sws.append(letter.stroke_widths_mean)\n",
    "sns.displot(all_sws, bins=31)\n",
    "plt.savefig(respath+'sw_distribution.jpg')"
   ]
  },
  {
   "cell_type": "code",
   "execution_count": null,
   "metadata": {
    "ExecuteTime": {
     "end_time": "2022-03-08T22:52:39.398984Z",
     "start_time": "2022-03-08T22:52:30.362658Z"
    }
   },
   "outputs": [],
   "source": [
    "save_results(swtimgobj=swtImgObj, res_path=respath)"
   ]
  },
  {
   "cell_type": "markdown",
   "metadata": {},
   "source": [
    "# Q6\n",
    "Bubble BBOX issue : Issue #10"
   ]
  },
  {
   "cell_type": "code",
   "execution_count": null,
   "metadata": {
    "ExecuteTime": {
     "end_time": "2022-03-08T22:52:42.771101Z",
     "start_time": "2022-03-08T22:52:39.432898Z"
    }
   },
   "outputs": [],
   "source": [
    "from swtloc import SWTLocalizer\n",
    "\n",
    "imgpath = rawimage_path+'issue10/issue10.jpg'\n",
    "respath = rawimage_path+'issue10/results/'\n",
    "swtl = SWTLocalizer(image_paths=imgpath)\n",
    "swtImgObj = swtl.swtimages[0]\n",
    "# Stroke Width Transform\n",
    "swt_mat = swtImgObj.transformImage(text_mode='db_lf', auto_canny_sigma=1.0,\n",
    "                                   minimum_stroke_width=3, maximum_stroke_width=200,\n",
    "                                   maximum_angle_deviation=np.pi/8,\n",
    "                                   gaussian_blurr_kernel=(5, 5))"
   ]
  },
  {
   "cell_type": "code",
   "execution_count": null,
   "metadata": {
    "ExecuteTime": {
     "end_time": "2022-03-08T22:52:48.465229Z",
     "start_time": "2022-03-08T22:52:42.805334Z"
    }
   },
   "outputs": [],
   "source": [
    "# Localize Letters\n",
    "localized_letters = swtImgObj.localizeLetters(maximum_pixels_per_cc=5_000)\n",
    "# Localize Words\n",
    "localized_words = swtImgObj.localizeWords(localize_by='bbox')"
   ]
  },
  {
   "cell_type": "code",
   "execution_count": null,
   "metadata": {
    "ExecuteTime": {
     "end_time": "2022-03-08T22:52:56.005965Z",
     "start_time": "2022-03-08T22:52:48.499142Z"
    }
   },
   "outputs": [],
   "source": [
    "save_results(swtimgobj=swtImgObj, res_path=respath)"
   ]
  },
  {
   "cell_type": "markdown",
   "metadata": {},
   "source": [
    "# Q7\n",
    "\n",
    "Issue BBOX Crop Feature Request : Issue 14"
   ]
  },
  {
   "cell_type": "code",
   "execution_count": null,
   "metadata": {
    "ExecuteTime": {
     "end_time": "2022-03-08T22:52:57.668688Z",
     "start_time": "2022-03-08T22:52:56.039878Z"
    }
   },
   "outputs": [],
   "source": [
    "from swtloc import SWTLocalizer\n",
    "\n",
    "imgpath = rawimage_path+'issue14/issue14.png'\n",
    "respath = rawimage_path+'issue14/results/'\n",
    "swtl = SWTLocalizer(image_paths=imgpath)\n",
    "swtImgObj = swtl.swtimages[0]\n",
    "# Stroke Width Transform\n",
    "swt_mat = swtImgObj.transformImage(text_mode='lb_df',\n",
    "                                   minimum_stroke_width=2, maximum_stroke_width=20,\n",
    "                                   maximum_angle_deviation=np.pi/4,\n",
    "                                   gaussian_blurr_kernel=(7, 7),\n",
    "                                   include_edges_in_swt=True)"
   ]
  },
  {
   "cell_type": "code",
   "execution_count": null,
   "metadata": {
    "ExecuteTime": {
     "end_time": "2022-03-08T22:53:04.561534Z",
     "start_time": "2022-03-08T22:52:57.701707Z"
    }
   },
   "outputs": [],
   "source": [
    "# Localize Letters\n",
    "localized_letters = swtImgObj.localizeLetters(maximum_pixels_per_cc=5_000,\n",
    "                                                acceptable_aspect_ratio=0.22,\n",
    "                                                localize_by='min_bbox')\n",
    "# Localize Words\n",
    "localized_words = swtImgObj.localizeWords(localize_by='bbox')"
   ]
  },
  {
   "cell_type": "code",
   "execution_count": null,
   "metadata": {
    "ExecuteTime": {
     "end_time": "2022-03-08T22:53:10.060038Z",
     "start_time": "2022-03-08T22:53:04.598006Z"
    }
   },
   "outputs": [],
   "source": [
    "save_results(swtimgobj=swtImgObj, res_path=respath)"
   ]
  },
  {
   "cell_type": "markdown",
   "metadata": {
    "ExecuteTime": {
     "end_time": "2022-02-14T21:48:04.923950Z",
     "start_time": "2022-02-14T21:48:04.872035Z"
    }
   },
   "source": [
    "**Generating BBOX Crops**"
   ]
  },
  {
   "cell_type": "code",
   "execution_count": null,
   "metadata": {
    "ExecuteTime": {
     "end_time": "2022-03-08T22:53:14.195139Z",
     "start_time": "2022-03-08T22:53:10.094094Z"
    }
   },
   "outputs": [],
   "source": [
    "localized_words = swtImgObj.localizeWords(localize_by='bubble', display=False)\n",
    "localized_words = swtImgObj.localizeWords(localize_by='bbox', display=False)\n",
    "word_iterator = swtImgObj.wordIterator(localize_by='bbox')"
   ]
  },
  {
   "cell_type": "code",
   "execution_count": null,
   "metadata": {
    "ExecuteTime": {
     "end_time": "2022-03-08T22:53:15.289060Z",
     "start_time": "2022-03-08T22:53:14.228895Z"
    }
   },
   "outputs": [],
   "source": [
    "word, _, _ = next(word_iterator)"
   ]
  },
  {
   "cell_type": "code",
   "execution_count": null,
   "metadata": {
    "ExecuteTime": {
     "end_time": "2022-03-08T22:53:16.033768Z",
     "start_time": "2022-03-08T22:53:15.322970Z"
    }
   },
   "outputs": [],
   "source": [
    "word_label = word.label\n",
    "swtImgObj.saveCrop(save_path=respath, crop_of='words', crop_key=word_label,\n",
    "                   crop_on=IMAGE_SWT_TRANSFORMED, crop_type='bubble')\n",
    "swtImgObj.saveCrop(save_path=respath, crop_of='words', crop_key=word_label,\n",
    "                   crop_on=IMAGE_ORIGINAL, crop_type='bbox')"
   ]
  },
  {
   "cell_type": "code",
   "execution_count": null,
   "metadata": {
    "ExecuteTime": {
     "end_time": "2022-03-08T22:53:17.908567Z",
     "start_time": "2022-03-08T22:53:16.067077Z"
    }
   },
   "outputs": [],
   "source": [
    "from swtloc.configs import (IMAGE_SWT_TRANSFORMED,\n",
    "                            IMAGE_ORIGINAL)\n",
    "\n",
    "word_iterator = swtImgObj.wordIterator(localize_by='bbox')\n",
    "word, _, _ = next(word_iterator)\n",
    "word_label = word.label\n",
    "\n",
    "swtImgObj.saveCrop(save_path=respath, crop_of='words', crop_key=word_label,\n",
    "                   crop_on=IMAGE_SWT_TRANSFORMED, crop_type='bubble')\n",
    "swtImgObj.saveCrop(save_path=respath, crop_of='words', crop_key=word_label,\n",
    "                   crop_on=IMAGE_ORIGINAL, crop_type='bbox')"
   ]
  },
  {
   "cell_type": "code",
   "execution_count": null,
   "metadata": {},
   "outputs": [],
   "source": []
  }
 ],
 "metadata": {
  "hide_input": false,
  "kernelspec": {
   "display_name": "py36DevVenv",
   "language": "python",
   "name": "py36devvenv"
  },
  "language_info": {
   "codemirror_mode": {
    "name": "ipython",
    "version": 3
   },
   "file_extension": ".py",
   "mimetype": "text/x-python",
   "name": "python",
   "nbconvert_exporter": "python",
   "pygments_lexer": "ipython3",
   "version": "3.6.13"
  },
  "toc": {
   "base_numbering": 1,
   "nav_menu": {},
   "number_sections": true,
   "sideBar": true,
   "skip_h1_title": false,
   "title_cell": "Table of Contents",
   "title_sidebar": "Contents",
   "toc_cell": false,
   "toc_position": {},
   "toc_section_display": true,
   "toc_window_display": false
  },
  "varInspector": {
   "cols": {
    "lenName": 16,
    "lenType": 16,
    "lenVar": 40
   },
   "kernels_config": {
    "python": {
     "delete_cmd_postfix": "",
     "delete_cmd_prefix": "del ",
     "library": "var_list.py",
     "varRefreshCmd": "print(var_dic_list())"
    },
    "r": {
     "delete_cmd_postfix": ") ",
     "delete_cmd_prefix": "rm(",
     "library": "var_list.r",
     "varRefreshCmd": "cat(var_dic_list()) "
    }
   },
   "types_to_exclude": [
    "module",
    "function",
    "builtin_function_or_method",
    "instance",
    "_Feature"
   ],
   "window_display": false
  }
 },
 "nbformat": 4,
 "nbformat_minor": 4
}
