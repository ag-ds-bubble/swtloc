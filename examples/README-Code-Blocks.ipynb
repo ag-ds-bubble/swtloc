{
 "cells": [
  {
   "cell_type": "markdown",
   "metadata": {},
   "source": [
    "# Intro"
   ]
  },
  {
   "cell_type": "markdown",
   "metadata": {},
   "source": [
    "SWTLoc is a text localization library implementing the work of [Boris Epshtein, Eyal Ofek & Yonatan Wexler\n",
    "(June, 2010)](https://www.microsoft.com/en-us/research/publication/detecting-text-in-natural-scenes-with-stroke-width-transform/).\n",
    "\n",
    "This library extends the transformation of the image for textual content by giving the ability to :\n",
    "\n",
    "- Localize `Letter`'s : through `SWTImage.localizeLetters`\n",
    "- Localize `Words`'s, via fusing individual `Letter`'s : through `SWTImage.localizeWords`\n",
    "\n",
    "The process flow of is depicted in the image below : \n",
    "\n",
    "![Process Flow](../swtloc/static/SWTLoc_Process_Flow.png \"Process Flow\")\n"
   ]
  },
  {
   "cell_type": "markdown",
   "metadata": {},
   "source": [
    "# Installation"
   ]
  },
  {
   "cell_type": "code",
   "execution_count": null,
   "metadata": {
    "ExecuteTime": {
     "end_time": "2022-02-17T18:18:15.252356Z",
     "start_time": "2022-02-17T18:18:15.244974Z"
    }
   },
   "outputs": [],
   "source": [
    "# !pip install swtloc"
   ]
  },
  {
   "cell_type": "markdown",
   "metadata": {},
   "source": [
    "# Imports"
   ]
  },
  {
   "cell_type": "code",
   "execution_count": null,
   "metadata": {
    "ExecuteTime": {
     "end_time": "2022-02-17T18:18:17.413619Z",
     "start_time": "2022-02-17T18:18:15.930057Z"
    }
   },
   "outputs": [],
   "source": [
    "# OpenCV Version :  4.5.5\n",
    "# Numpy Version :  1.19.5\n",
    "# Numba Version :  0.53.1\n",
    "# SWTLoc Version :  2.0.0\n",
    "import os\n",
    "import sys\n",
    "import numpy as np\n",
    "import numba as nb\n",
    "import pandas as pd\n",
    "from cv2 import cv2\n",
    "import swtloc as swt\n",
    "from platform import python_version\n",
    "\n",
    "print('Python Version : ', python_version())\n",
    "print('Python Version : ', sys.executable)\n",
    "print('OpenCV Version : ', cv2.__version__)\n",
    "print('Numpy  Version : ', np.__version__)\n",
    "print('Numba  Version : ', nb.__version__)\n",
    "print('SWTLoc Version : ', swt.__version__)"
   ]
  },
  {
   "cell_type": "markdown",
   "metadata": {},
   "source": [
    "# Usage"
   ]
  },
  {
   "cell_type": "markdown",
   "metadata": {},
   "source": [
    "**Initialise the `SWTLocalizer` class**"
   ]
  },
  {
   "cell_type": "code",
   "execution_count": null,
   "metadata": {
    "ExecuteTime": {
     "end_time": "2022-02-17T18:18:19.218455Z",
     "start_time": "2022-02-17T18:18:19.199506Z"
    }
   },
   "outputs": [],
   "source": [
    "import swtloc as swt\n",
    "from swtloc.configs import (IMAGE_ORIGINAL,\n",
    "                            IMAGE_GRAYSCALE,\n",
    "                            IMAGE_EDGED,\n",
    "                            IMAGE_SWT_TRANSFORMED,\n",
    "                            IMAGE_CONNECTED_COMPONENTS_1C,\n",
    "                            IMAGE_CONNECTED_COMPONENTS_3C,\n",
    "                            IMAGE_CONNECTED_COMPONENTS_3C_WITH_PRUNED_ELEMENTS,\n",
    "                            IMAGE_CONNECTED_COMPONENTS_PRUNED_1C,\n",
    "                            IMAGE_CONNECTED_COMPONENTS_PRUNED_3C,\n",
    "                            IMAGE_PRUNED_3C_LETTER_LOCALIZATIONS,\n",
    "                            IMAGE_ORIGINAL_LETTER_LOCALIZATIONS,\n",
    "                            IMAGE_ORIGINAL_MASKED_LETTER_LOCALIZATIONS,\n",
    "                            IMAGE_PRUNED_3C_WORD_LOCALIZATIONS,\n",
    "                            IMAGE_ORIGINAL_WORD_LOCALIZATIONS,\n",
    "                            IMAGE_ORIGINAL_MASKED_WORD_LOCALIZATIONS,\n",
    "                            IMAGE_INDIVIDUAL_LETTER_LOCALIZATION,\n",
    "                            IMAGE_ORIGINAL_INDIVIDUAL_LETTER_LOCALIZATION,\n",
    "                            IMAGE_INDIVIDUAL_WORD_LOCALIZATION,\n",
    "                            IMAGE_ORIGINAL_INDIVIDUAL_WORD_LOCALIZATION)\n",
    "\n",
    "imgpath = 'images/test_img4/test_img4.jpeg'\n",
    "respath = 'images/test_img4/usage_results/'"
   ]
  },
  {
   "cell_type": "code",
   "execution_count": null,
   "metadata": {
    "ExecuteTime": {
     "end_time": "2022-02-17T18:18:20.637936Z",
     "start_time": "2022-02-17T18:18:19.675232Z"
    }
   },
   "outputs": [],
   "source": [
    "swtl = swt.SWTLocalizer(image_paths=imgpath)\n",
    "swtImgObj = swtl.swtimages[0]\n",
    "print(swtImgObj, type(swtImgObj))\n",
    "swtImgObj.showImage()\n",
    "swtImgObj.showImage(save_fig=True, save_dir=respath, dpi=300)"
   ]
  },
  {
   "cell_type": "markdown",
   "metadata": {},
   "source": [
    "## Apply Transformations"
   ]
  },
  {
   "cell_type": "code",
   "execution_count": null,
   "metadata": {
    "ExecuteTime": {
     "end_time": "2022-02-17T18:18:24.275985Z",
     "start_time": "2022-02-17T18:18:20.654893Z"
    }
   },
   "outputs": [],
   "source": [
    "swt_mat = swtImgObj.transformImage(text_mode='lb_df',\n",
    "                                   auto_canny_sigma=1.0,\n",
    "                                   maximum_stroke_width=20)\n",
    "\n",
    "swtImgObj.showImage(image_codes=[IMAGE_ORIGINAL, IMAGE_GRAYSCALE, IMAGE_EDGED, IMAGE_SWT_TRANSFORMED],\n",
    "                    plot_title='SWT', plot_sup_title=f'\\nTransform Time - {swtImgObj.transform_time}',\n",
    "                    save_fig=True, save_dir=respath, dpi=300)"
   ]
  },
  {
   "cell_type": "markdown",
   "metadata": {},
   "source": [
    "## Localizing Letters"
   ]
  },
  {
   "cell_type": "code",
   "execution_count": null,
   "metadata": {
    "ExecuteTime": {
     "end_time": "2022-02-17T18:18:28.104767Z",
     "start_time": "2022-02-17T18:18:24.293902Z"
    }
   },
   "outputs": [],
   "source": [
    "localized_letters = swtImgObj.localizeLetters(minimum_pixels_per_cc=100,\n",
    "                                              maximum_pixels_per_cc=10_000,\n",
    "                                              acceptable_aspect_ratio=0.2)\n",
    "\n",
    "swtImgObj.showImage(image_codes=[IMAGE_CONNECTED_COMPONENTS_3C,\n",
    "                                IMAGE_CONNECTED_COMPONENTS_3C_WITH_PRUNED_ELEMENTS,\n",
    "                                IMAGE_PRUNED_3C_LETTER_LOCALIZATIONS,\n",
    "                                IMAGE_ORIGINAL_MASKED_LETTER_LOCALIZATIONS],\n",
    "                     plot_title='Letter Localizations\\n',\n",
    "                     plot_sup_title=rf\"Localization Method : ${swtImgObj.cfg['swtimage.localizeletters.localize_by']}$\",\n",
    "                     save_fig=True, save_dir=respath, dpi=300)\n",
    "letter_labels = list([int(k) for k in localized_letters.keys()])"
   ]
  },
  {
   "cell_type": "code",
   "execution_count": null,
   "metadata": {
    "ExecuteTime": {
     "end_time": "2022-02-17T18:18:29.948514Z",
     "start_time": "2022-02-17T18:18:28.122719Z"
    },
    "scrolled": false
   },
   "outputs": [],
   "source": [
    "letter_label = letter_labels[3]\n",
    "locletter = swtImgObj.getLetter(key=letter_label)\n",
    "\n",
    "swtImgObj.showImage(image_codes=[IMAGE_INDIVIDUAL_LETTER_LOCALIZATION ,\n",
    "                                 IMAGE_ORIGINAL_INDIVIDUAL_LETTER_LOCALIZATION ],\n",
    "                     plot_title='Letter Localizations\\n',\n",
    "                     plot_sup_title=rf\"Localization Method : ${swtImgObj.cfg['swtimage.localizeletters.localize_by']}$\",\n",
    "                     save_fig=True, save_dir=respath, dpi=300)"
   ]
  },
  {
   "cell_type": "markdown",
   "metadata": {},
   "source": [
    "## Localize Words"
   ]
  },
  {
   "cell_type": "code",
   "execution_count": null,
   "metadata": {
    "ExecuteTime": {
     "end_time": "2022-02-17T18:18:31.869256Z",
     "start_time": "2022-02-17T18:18:29.966912Z"
    }
   },
   "outputs": [],
   "source": [
    "localized_words = swtImgObj.localizeWords()\n",
    "\n",
    "swtImgObj.showImage(image_codes=[IMAGE_PRUNED_3C_WORD_LOCALIZATIONS,\n",
    "                                 IMAGE_ORIGINAL_WORD_LOCALIZATIONS,\n",
    "                                 IMAGE_ORIGINAL_MASKED_WORD_LOCALIZATIONS],\n",
    "                    plot_title='Word Localizations\\n',\n",
    "                    plot_sup_title=rf\"Localization Method : ${swtImgObj.cfg['swtimage.localizewords.localize_by']}$\",\n",
    "                    save_fig=True, save_dir=respath, dpi=300)\n",
    "word_labels = list([int(k) for k in localized_words.keys()])"
   ]
  },
  {
   "cell_type": "code",
   "execution_count": null,
   "metadata": {
    "ExecuteTime": {
     "end_time": "2022-02-17T18:18:33.518552Z",
     "start_time": "2022-02-17T18:18:31.887170Z"
    }
   },
   "outputs": [],
   "source": [
    "word_label = word_labels[7]\n",
    "locword = swtImgObj.getWord(key=word_label)\n",
    "\n",
    "swtImgObj.showImage(image_codes=[IMAGE_INDIVIDUAL_WORD_LOCALIZATION ,\n",
    "                                 IMAGE_ORIGINAL_INDIVIDUAL_WORD_LOCALIZATION],\n",
    "                     plot_title='Word Localizations\\n',\n",
    "                     plot_sup_title=rf\"Localization Method : ${swtImgObj.cfg['swtimage.localizewords.localize_by']}$\",\n",
    "                     save_fig=True, save_dir=respath, dpi=300)"
   ]
  },
  {
   "cell_type": "markdown",
   "metadata": {},
   "source": [
    "## Show the Images & Save the Images"
   ]
  },
  {
   "cell_type": "code",
   "execution_count": null,
   "metadata": {
    "ExecuteTime": {
     "end_time": "2022-02-17T18:18:34.113603Z",
     "start_time": "2022-02-17T18:18:33.550466Z"
    }
   },
   "outputs": [],
   "source": [
    "swtImgObj.showImage(image_codes=[IMAGE_ORIGINAL,\n",
    "                                 IMAGE_ORIGINAL_MASKED_WORD_LOCALIZATIONS],\n",
    "                    plot_title='Original & Bubble Mask')"
   ]
  },
  {
   "cell_type": "code",
   "execution_count": null,
   "metadata": {
    "ExecuteTime": {
     "end_time": "2022-02-17T18:18:34.651128Z",
     "start_time": "2022-02-17T18:18:34.131458Z"
    }
   },
   "outputs": [],
   "source": [
    "swtImgObj.showImage(image_codes=[IMAGE_ORIGINAL,\n",
    "                                 IMAGE_ORIGINAL_MASKED_WORD_LOCALIZATIONS],\n",
    "                    plot_title='Original & Bubble Mask',\n",
    "                    save_fig=True, save_dir=respath)"
   ]
  },
  {
   "cell_type": "markdown",
   "metadata": {},
   "source": [
    "## Save the crops"
   ]
  },
  {
   "cell_type": "markdown",
   "metadata": {},
   "source": [
    "**Save Letter Crops**"
   ]
  },
  {
   "cell_type": "code",
   "execution_count": null,
   "metadata": {
    "ExecuteTime": {
     "end_time": "2022-02-17T18:18:35.240386Z",
     "start_time": "2022-02-17T18:18:34.672884Z"
    }
   },
   "outputs": [],
   "source": [
    "swtImgObj.saveCrop(save_path=respath, crop_of='letters', crop_key=4, crop_type='min_bbox', crop_on=IMAGE_ORIGINAL)\n",
    "swtImgObj.saveCrop(save_path=respath, crop_of='letters', crop_key=4, crop_type='min_bbox', crop_on=IMAGE_SWT_TRANSFORMED)"
   ]
  },
  {
   "cell_type": "markdown",
   "metadata": {},
   "source": [
    "**Save Word Crops**"
   ]
  },
  {
   "cell_type": "code",
   "execution_count": null,
   "metadata": {
    "ExecuteTime": {
     "end_time": "2022-02-17T18:18:35.828919Z",
     "start_time": "2022-02-17T18:18:35.257618Z"
    }
   },
   "outputs": [],
   "source": [
    "swtImgObj.saveCrop(save_path=respath, crop_of='words', crop_key=8, crop_type='bubble', crop_on=IMAGE_ORIGINAL)\n",
    "swtImgObj.saveCrop(save_path=respath, crop_of='words', crop_key=8, crop_type='bubble', crop_on=IMAGE_SWT_TRANSFORMED)"
   ]
  },
  {
   "cell_type": "markdown",
   "metadata": {},
   "source": [
    "# Frequenctly Used Code Snippets"
   ]
  },
  {
   "cell_type": "markdown",
   "metadata": {},
   "source": [
    "## Performing Stroke Width Transformation"
   ]
  },
  {
   "cell_type": "code",
   "execution_count": null,
   "metadata": {
    "ExecuteTime": {
     "end_time": "2022-02-17T18:18:35.864474Z",
     "start_time": "2022-02-17T18:18:35.849588Z"
    }
   },
   "outputs": [],
   "source": [
    "import swtloc as swt\n",
    "from swtloc.configs import (IMAGE_ORIGINAL,\n",
    "                            IMAGE_GRAYSCALE,\n",
    "                            IMAGE_EDGED,\n",
    "                            IMAGE_SWT_TRANSFORMED)"
   ]
  },
  {
   "cell_type": "code",
   "execution_count": null,
   "metadata": {
    "ExecuteTime": {
     "end_time": "2022-02-17T18:18:36.597439Z",
     "start_time": "2022-02-17T18:18:35.894466Z"
    }
   },
   "outputs": [],
   "source": [
    "# Installation\n",
    "# !pip install swtloc\n",
    "# Imports\n",
    "import swtloc as swt\n",
    "from swtloc.configs import (IMAGE_ORIGINAL,\n",
    "                            IMAGE_GRAYSCALE,\n",
    "                            IMAGE_EDGED,\n",
    "                            IMAGE_SWT_TRANSFORMED)\n",
    "# Image Path\n",
    "imgpath = 'images/test_img5/test_img5.jpg'\n",
    "# Result Path\n",
    "respath = 'images/test_img5/usage_results/'\n",
    "# Initializing the SWTLocalizer class with the image path\n",
    "swtl = swt.SWTLocalizer(image_paths=imgpath)\n",
    "# Accessing the SWTImage Object which is housing this image\n",
    "swtImgObj = swtl.swtimages[0]\n",
    "swtImgObj.showImage()"
   ]
  },
  {
   "cell_type": "code",
   "execution_count": null,
   "metadata": {
    "ExecuteTime": {
     "end_time": "2022-02-17T18:18:39.568102Z",
     "start_time": "2022-02-17T18:18:36.615452Z"
    },
    "scrolled": false
   },
   "outputs": [],
   "source": [
    "# Performing Stroke Width Transformation\n",
    "swt_mat = swtImgObj.transformImage(text_mode='db_lf')"
   ]
  },
  {
   "cell_type": "markdown",
   "metadata": {},
   "source": [
    "**Generating the Images**"
   ]
  },
  {
   "cell_type": "code",
   "execution_count": null,
   "metadata": {
    "ExecuteTime": {
     "end_time": "2022-02-17T18:18:40.275216Z",
     "start_time": "2022-02-17T18:18:39.587152Z"
    }
   },
   "outputs": [],
   "source": [
    "savepath = swtImgObj.showImage(image_codes=[IMAGE_ORIGINAL], save_fig=True, save_dir=respath, dpi=300)"
   ]
  },
  {
   "cell_type": "code",
   "execution_count": null,
   "metadata": {
    "ExecuteTime": {
     "end_time": "2022-02-17T18:18:43.552194Z",
     "start_time": "2022-02-17T18:18:40.306653Z"
    }
   },
   "outputs": [],
   "source": [
    "savepath = swtImgObj.showImage(image_codes=[IMAGE_ORIGINAL, IMAGE_GRAYSCALE, IMAGE_EDGED, IMAGE_SWT_TRANSFORMED],\n",
    "                                plot_title='SWT', plot_sup_title=f'\\nTransform Time - {swtImgObj.transform_time}',\n",
    "                                save_fig=True, save_dir=respath, dpi=300)"
   ]
  },
  {
   "cell_type": "markdown",
   "metadata": {},
   "source": [
    "## Localizing & Annotating Letters and Generating Crops of Letters"
   ]
  },
  {
   "cell_type": "code",
   "execution_count": null,
   "metadata": {
    "ExecuteTime": {
     "end_time": "2022-02-17T18:18:47.273075Z",
     "start_time": "2022-02-17T18:18:43.570146Z"
    }
   },
   "outputs": [],
   "source": [
    "# Installation\n",
    "# !pip install swtloc\n",
    "# Imports\n",
    "import swtloc as swt\n",
    "from cv2 import cv2\n",
    "from swtloc.configs import (IMAGE_ORIGINAL,\n",
    "                            IMAGE_GRAYSCALE,\n",
    "                            IMAGE_EDGED,\n",
    "                            IMAGE_SWT_TRANSFORMED)\n",
    "# Image Path\n",
    "imgpath = 'images/test_img1/test_img1.jpg'\n",
    "# Read the image\n",
    "img = cv2.imread(imgpath)\n",
    "# Result Path\n",
    "respath = 'images/test_img1/usage_results/'\n",
    "# Initializing the SWTLocalizer class with a pre loaded image\n",
    "swtl = swt.SWTLocalizer(images=img)\n",
    "swtImgObj = swtl.swtimages[0]\n",
    "# Perform Stroke Width Transformation\n",
    "swt_mat = swtImgObj.transformImage(text_mode='db_lf',\n",
    "                                   maximum_angle_deviation=np.pi/2,\n",
    "                                   gaussian_blurr_kernel=(11, 11),\n",
    "                                   minimum_stroke_width=5,\n",
    "                                   maximum_stroke_width=50,\n",
    "                                   display=False)  # NOTE: Set display=True \n",
    "# Letter Localizations\n",
    "localized_letters = swtImgObj.localizeLetters(minimum_pixels_per_cc=950,\n",
    "                                              maximum_pixels_per_cc=5200)\n",
    "letter_labels = [int(k) for k in list(localized_letters.keys())]"
   ]
  },
  {
   "cell_type": "code",
   "execution_count": null,
   "metadata": {
    "ExecuteTime": {
     "end_time": "2022-02-17T18:18:50.643087Z",
     "start_time": "2022-02-17T18:18:47.291027Z"
    }
   },
   "outputs": [],
   "source": [
    "# Some Other Helpful Letter related functions\n",
    "# # Query a single letter\n",
    "loc_letter, swt_loc, orig_loc = swtImgObj.getLetter(key=letter_labels[5])\n",
    "\n",
    "# # Iterating over all the letters\n",
    "# # Specifically useful for jupyter notebooks - Iterate over all\n",
    "# # the letters, at the same time visualizing the localizations\n",
    "letter_gen = swtImgObj.letterIterator()\n",
    "loc_letter, swt_loc, orig_loc = next(letter_gen)\n",
    "\n",
    "# # Generating a crop of a single letter on any of the available\n",
    "# # image codes\n",
    "# # Crop on SWT Image\n",
    "swtImgObj.saveCrop(save_path=respath,crop_of='letters',crop_key=6, crop_on=IMAGE_SWT_TRANSFORMED, crop_type='min_bbox')\n",
    "# # Crop on Original Image\n",
    "swtImgObj.saveCrop(save_path=respath,crop_of='letters',crop_key=6, crop_on=IMAGE_ORIGINAL, crop_type='min_bbox')"
   ]
  },
  {
   "cell_type": "markdown",
   "metadata": {},
   "source": [
    "**Generating the Images**"
   ]
  },
  {
   "cell_type": "code",
   "execution_count": null,
   "metadata": {
    "ExecuteTime": {
     "end_time": "2022-02-17T18:18:53.936388Z",
     "start_time": "2022-02-17T18:18:50.670344Z"
    }
   },
   "outputs": [],
   "source": [
    "from swtloc.configs import (IMAGE_CONNECTED_COMPONENTS_3C,\n",
    "                                        IMAGE_CONNECTED_COMPONENTS_3C_WITH_PRUNED_ELEMENTS,\n",
    "                                        IMAGE_PRUNED_3C_LETTER_LOCALIZATIONS,\n",
    "                                        IMAGE_ORIGINAL_MASKED_LETTER_LOCALIZATIONS)\n",
    "\n",
    "savepath = swtImgObj.showImage(image_codes=[IMAGE_CONNECTED_COMPONENTS_3C,\n",
    "                                        IMAGE_CONNECTED_COMPONENTS_3C_WITH_PRUNED_ELEMENTS,\n",
    "                                        IMAGE_PRUNED_3C_LETTER_LOCALIZATIONS,\n",
    "                                        IMAGE_ORIGINAL_MASKED_LETTER_LOCALIZATIONS],\n",
    "                             plot_title='Letter Localizations\\n',\n",
    "                             plot_sup_title=rf\"Localization Method : ${swtImgObj.cfg['swtimage.localizeletters.localize_by']}$\",\n",
    "                             save_fig=True, save_dir=respath, dpi=300)"
   ]
  },
  {
   "cell_type": "markdown",
   "metadata": {},
   "source": [
    "## Localizing & Annotating Words and Generating Crops of Words"
   ]
  },
  {
   "cell_type": "code",
   "execution_count": null,
   "metadata": {
    "ExecuteTime": {
     "end_time": "2022-02-17T18:18:56.291449Z",
     "start_time": "2022-02-17T18:18:53.969301Z"
    },
    "scrolled": false
   },
   "outputs": [],
   "source": [
    "# Installation\n",
    "# !pip install swtloc\n",
    "# Imports\n",
    "import swtloc as swt\n",
    "from cv2 import cv2\n",
    "from swtloc.configs import (IMAGE_ORIGINAL,\n",
    "                            IMAGE_GRAYSCALE,\n",
    "                            IMAGE_EDGED,\n",
    "                            IMAGE_SWT_TRANSFORMED)\n",
    "# Image Path\n",
    "imgpath = 'images/test_img2/test_img2.jpg'\n",
    "# Result Path\n",
    "respath = 'images/test_img2/usage_results/'\n",
    "# Initializing the SWTLocalizer class with the image path\n",
    "swtl = swt.SWTLocalizer(image_paths=imgpath)\n",
    "swtImgObj = swtl.swtimages[0]\n",
    "# Perform Stroke Width Transformation\n",
    "swt_mat = swtImgObj.transformImage(maximum_angle_deviation=np.pi/2,\n",
    "                                   gaussian_blurr_kernel=(9, 9),\n",
    "                                   minimum_stroke_width=3,\n",
    "                                   maximum_stroke_width=50,\n",
    "                                   include_edges_in_swt=False,\n",
    "                                   display=False)  # NOTE: Set display=True \n",
    "\n",
    "# Localizing Letters\n",
    "localized_letters = swtImgObj.localizeLetters(minimum_pixels_per_cc=400,\n",
    "                                              maximum_pixels_per_cc=6000,\n",
    "                                              display=False)  # NOTE: Set display=True \n",
    "\n",
    "# Calculate and Draw Words Annotations\n",
    "localized_words = swtImgObj.localizeWords(display=True)  # NOTE: Set display=True \n",
    "word_labels = [int(k) for k in list(localized_words.keys())]"
   ]
  },
  {
   "cell_type": "code",
   "execution_count": null,
   "metadata": {
    "ExecuteTime": {
     "end_time": "2022-02-17T18:18:59.958992Z",
     "start_time": "2022-02-17T18:18:56.324311Z"
    }
   },
   "outputs": [],
   "source": [
    "# Some Other Helpful Words related functions\n",
    "# # Query a single word\n",
    "loc_word, swt_loc, orig_loc = swtImgObj.getWord(key=word_labels[8])\n",
    "\n",
    "# # Iterating over all the words\n",
    "# # Specifically useful for jupyter notebooks - Iterate over all\n",
    "# # the words, at the same time visualizing the localizations\n",
    "word_gen = swtImgObj.wordIterator()\n",
    "loc_word, swt_loc, orig_loc = next(word_gen)\n",
    "\n",
    "# # Generating a crop of a single word on any of the available\n",
    "# # image codes\n",
    "# # Crop on SWT Image\n",
    "swtImgObj.saveCrop(save_path=respath, crop_of='words', crop_key=9, crop_on=IMAGE_SWT_TRANSFORMED, crop_type='bubble')\n",
    "# # Crop on Original Image\n",
    "swtImgObj.saveCrop(save_path=respath, crop_of='words', crop_key=9, crop_on=IMAGE_ORIGINAL, crop_type='bubble')"
   ]
  },
  {
   "cell_type": "markdown",
   "metadata": {
    "ExecuteTime": {
     "end_time": "2022-02-16T13:49:47.975805Z",
     "start_time": "2022-02-16T13:49:47.916898Z"
    }
   },
   "source": [
    "**Generating Images**"
   ]
  },
  {
   "cell_type": "code",
   "execution_count": null,
   "metadata": {
    "ExecuteTime": {
     "end_time": "2022-02-17T18:19:01.389298Z",
     "start_time": "2022-02-17T18:18:59.993831Z"
    }
   },
   "outputs": [],
   "source": [
    "from swtloc.configs import (IMAGE_PRUNED_3C_WORD_LOCALIZATIONS,\n",
    "                             IMAGE_ORIGINAL_WORD_LOCALIZATIONS,\n",
    "                             IMAGE_ORIGINAL_MASKED_WORD_LOCALIZATIONS)\n",
    "\n",
    "savepath = swtImgObj.showImage(image_codes=[IMAGE_PRUNED_3C_WORD_LOCALIZATIONS,\n",
    "                                             IMAGE_ORIGINAL_WORD_LOCALIZATIONS,\n",
    "                                             IMAGE_ORIGINAL_MASKED_WORD_LOCALIZATIONS],\n",
    "                    plot_title='Word Localizations\\n',\n",
    "                    plot_sup_title=rf\"Localization Method : ${swtImgObj.cfg['swtimage.localizewords.localize_by']}$\",\n",
    "                    save_fig=True, save_dir=respath, dpi=300)"
   ]
  },
  {
   "cell_type": "code",
   "execution_count": null,
   "metadata": {},
   "outputs": [],
   "source": []
  }
 ],
 "metadata": {
  "hide_input": false,
  "kernelspec": {
   "display_name": "py310Venv",
   "language": "python",
   "name": "py310venv"
  },
  "language_info": {
   "codemirror_mode": {
    "name": "ipython",
    "version": 3
   },
   "file_extension": ".py",
   "mimetype": "text/x-python",
   "name": "python",
   "nbconvert_exporter": "python",
   "pygments_lexer": "ipython3",
   "version": "3.10.0"
  },
  "toc": {
   "base_numbering": 1,
   "nav_menu": {},
   "number_sections": true,
   "sideBar": true,
   "skip_h1_title": false,
   "title_cell": "Table of Contents",
   "title_sidebar": "Contents",
   "toc_cell": false,
   "toc_position": {},
   "toc_section_display": true,
   "toc_window_display": false
  },
  "varInspector": {
   "cols": {
    "lenName": 16,
    "lenType": 16,
    "lenVar": 40
   },
   "kernels_config": {
    "python": {
     "delete_cmd_postfix": "",
     "delete_cmd_prefix": "del ",
     "library": "var_list.py",
     "varRefreshCmd": "print(var_dic_list())"
    },
    "r": {
     "delete_cmd_postfix": ") ",
     "delete_cmd_prefix": "rm(",
     "library": "var_list.r",
     "varRefreshCmd": "cat(var_dic_list()) "
    }
   },
   "types_to_exclude": [
    "module",
    "function",
    "builtin_function_or_method",
    "instance",
    "_Feature"
   ],
   "window_display": false
  }
 },
 "nbformat": 4,
 "nbformat_minor": 4
}
