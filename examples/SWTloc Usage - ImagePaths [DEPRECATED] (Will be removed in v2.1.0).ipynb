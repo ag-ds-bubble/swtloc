{
 "cells": [
  {
   "cell_type": "markdown",
   "metadata": {},
   "source": [
    "# Install Package"
   ]
  },
  {
   "cell_type": "code",
   "execution_count": null,
   "metadata": {
    "ExecuteTime": {
     "end_time": "2022-02-14T14:09:22.140401Z",
     "start_time": "2022-02-14T14:09:22.091Z"
    }
   },
   "outputs": [],
   "source": [
    "# !pip install swtloc"
   ]
  },
  {
   "cell_type": "markdown",
   "metadata": {},
   "source": [
    "# Imports"
   ]
  },
  {
   "cell_type": "code",
   "execution_count": null,
   "metadata": {
    "ExecuteTime": {
     "end_time": "2022-02-14T16:57:41.017560Z",
     "start_time": "2022-02-14T16:57:41.004233Z"
    }
   },
   "outputs": [],
   "source": [
    "# Check version runing on Jupyter notebook\n",
    "from platform import python_version\n",
    "import sys\n",
    "\n",
    "print('Python Version : ', python_version())\n",
    "print('Python Path : ', sys.executable)"
   ]
  },
  {
   "cell_type": "code",
   "execution_count": null,
   "metadata": {
    "ExecuteTime": {
     "end_time": "2022-02-14T16:57:42.304535Z",
     "start_time": "2022-02-14T16:57:42.296557Z"
    }
   },
   "outputs": [],
   "source": [
    "import sys\n",
    "sys.path.append('../')"
   ]
  },
  {
   "cell_type": "code",
   "execution_count": null,
   "metadata": {
    "ExecuteTime": {
     "end_time": "2022-02-14T16:57:44.719514Z",
     "start_time": "2022-02-14T16:57:42.806645Z"
    }
   },
   "outputs": [],
   "source": [
    "%load_ext autoreload\n",
    "%autoreload 2\n",
    "from swtloc import SWTLocalizer\n",
    "from swtloc._utils import auto_canny, imgshowN, imgshow"
   ]
  },
  {
   "cell_type": "code",
   "execution_count": null,
   "metadata": {
    "ExecuteTime": {
     "end_time": "2022-02-14T16:57:44.781338Z",
     "start_time": "2022-02-14T16:57:44.721468Z"
    }
   },
   "outputs": [],
   "source": [
    "# from swtloc import SWTLocalizer\n",
    "# from swtloc.utils import auto_canny, imgshowN, imgshow\n",
    "import numpy as np\n",
    "from cv2 import cv2\n",
    "cv2.__version__"
   ]
  },
  {
   "cell_type": "code",
   "execution_count": null,
   "metadata": {
    "ExecuteTime": {
     "end_time": "2022-02-14T16:57:44.876055Z",
     "start_time": "2022-02-14T16:57:44.783352Z"
    }
   },
   "outputs": [],
   "source": [
    "import swtloc as swt\n",
    "swt.__version__"
   ]
  },
  {
   "cell_type": "markdown",
   "metadata": {},
   "source": [
    "# Path Declarations & Handle Initialisations"
   ]
  },
  {
   "cell_type": "code",
   "execution_count": null,
   "metadata": {
    "ExecuteTime": {
     "end_time": "2022-02-14T16:57:44.939542Z",
     "start_time": "2022-02-14T16:57:44.878318Z"
    }
   },
   "outputs": [],
   "source": [
    "imgrootpath = 'test_images/'"
   ]
  },
  {
   "cell_type": "markdown",
   "metadata": {},
   "source": [
    "# Stroke Width Transform of Image\n",
    "\n",
    "- Generating SWT of image\n",
    "- Understanding parameters of the swttransform() function\n",
    "\n",
    "* CC : Connected Component"
   ]
  },
  {
   "cell_type": "code",
   "execution_count": null,
   "metadata": {
    "ExecuteTime": {
     "end_time": "2022-02-14T16:57:45.236092Z",
     "start_time": "2022-02-14T16:57:45.159299Z"
    }
   },
   "outputs": [],
   "source": [
    "imgpath = imgrootpath+'test_img2.jpg'\n",
    "swtl = SWTLocalizer()"
   ]
  },
  {
   "cell_type": "code",
   "execution_count": null,
   "metadata": {
    "ExecuteTime": {
     "end_time": "2022-02-14T16:58:03.060956Z",
     "start_time": "2022-02-14T16:57:45.237089Z"
    }
   },
   "outputs": [],
   "source": [
    "swtl.swttransform(imgpaths=imgpath)"
   ]
  },
  {
   "cell_type": "code",
   "execution_count": null,
   "metadata": {
    "ExecuteTime": {
     "end_time": "2022-02-14T16:58:04.153945Z",
     "start_time": "2022-02-14T16:58:03.065709Z"
    }
   },
   "outputs": [],
   "source": [
    "# Plotting three variants of the images during the process of the\n",
    "# transformation -> Original > Stroke Width Transform > Connected Components\n",
    "imgshowN([swtl.orig_img, swtl.swt_mat, swtl.swt_labelled3C],\n",
    "         ['Original Image', 'Stroke Width Transform', 'Connected Components'])"
   ]
  },
  {
   "cell_type": "markdown",
   "metadata": {},
   "source": [
    "**Time Taken while SWT transformation**"
   ]
  },
  {
   "cell_type": "code",
   "execution_count": null,
   "metadata": {
    "ExecuteTime": {
     "end_time": "2022-02-14T16:58:04.460123Z",
     "start_time": "2022-02-14T16:58:04.386466Z"
    }
   },
   "outputs": [],
   "source": [
    "print('Time Taken : ', swtl.transform_time)"
   ]
  },
  {
   "cell_type": "markdown",
   "metadata": {},
   "source": [
    "**Visualising The intermediary steps**\n",
    "\n",
    "During the process of the Stroke Width transform, there are multiple steps that go in while generating the end result. Below mentioned are the two steps that go in before the end result is reached. \n",
    "    - Edge Image (Tricky One).\n",
    "    - Image Gradient.\n",
    "    \n",
    "**swtloc** gives an option of visualing these stages, and can be accessed as stated in the next code cell"
   ]
  },
  {
   "cell_type": "code",
   "execution_count": null,
   "metadata": {
    "ExecuteTime": {
     "end_time": "2022-02-14T16:58:05.541252Z",
     "start_time": "2022-02-14T16:58:04.541266Z"
    }
   },
   "outputs": [],
   "source": [
    "imgshowN([swtl.orig_img, swtl.grayedge_img, swtl.img_gradient],\n",
    "         ['Original Image', 'Edge Image', 'Image Gradient'])"
   ]
  },
  {
   "cell_type": "markdown",
   "metadata": {},
   "source": [
    "**Text Mode parameter**\n",
    "\n",
    "This is image specific, but an extremely important parameter that takes one of the two value :-\n",
    "- db_lf :> **D**ark **B**ackground **L**ight **F**oreground i.e Light color text on Dark color background\n",
    "- lb_df :> **L**ight **B**ackground **D**ark **F**oreground i.e Dark color text on Light color background\n",
    "\n",
    "This parameters affect how the gradient vectors (the direction) are calulated, since gradient vectors of **db_lf** are in $-ve$ direction to that of **lb_df** gradient vectors"
   ]
  },
  {
   "cell_type": "code",
   "execution_count": null,
   "metadata": {
    "ExecuteTime": {
     "end_time": "2022-02-14T16:58:56.173917Z",
     "start_time": "2022-02-14T16:58:05.541252Z"
    }
   },
   "outputs": [],
   "source": [
    "swtl.swttransform(imgpaths=imgpath, text_mode = 'db_lf')\n",
    "db_lf_swt = swtl.swt_mat.copy()\n",
    "\n",
    "swtl.swttransform(imgpaths=imgpath, text_mode = 'lb_df')\n",
    "lb_df_swt = swtl.swt_mat.copy()"
   ]
  },
  {
   "cell_type": "code",
   "execution_count": null,
   "metadata": {
    "ExecuteTime": {
     "end_time": "2022-02-14T16:58:56.888124Z",
     "start_time": "2022-02-14T16:58:56.174911Z"
    }
   },
   "outputs": [],
   "source": [
    "imgshowN([db_lf_swt, lb_df_swt],\n",
    "         ['db_lf', 'lb_df'])"
   ]
  },
  {
   "cell_type": "markdown",
   "metadata": {},
   "source": [
    "**Gaussian Blurr**\n",
    "\n",
    "Right after an image is read from the path provided, the image will be converted into grayscale (default). To contol this operation following parameter can be used :-\n",
    "\n",
    "- gs_blurr = True :> Wether to blurr an image or not.\n",
    "    - blurr_kernel = (5,5) [If gs_blurr = True] :> The kernel size for the operation\n"
   ]
  },
  {
   "cell_type": "code",
   "execution_count": null,
   "metadata": {
    "ExecuteTime": {
     "end_time": "2022-02-14T16:59:32.367808Z",
     "start_time": "2022-02-14T16:58:56.889485Z"
    }
   },
   "outputs": [],
   "source": [
    "swtl.swttransform(imgpaths=imgpath, text_mode = 'lb_df', blurr_kernel = (11,11))\n",
    "blurr_swt = swtl.swt_mat.copy()\n",
    "blurr_tt = swtl.transform_time\n",
    "\n",
    "swtl.swttransform(imgpaths=imgpath, text_mode = 'lb_df', gs_blurr = False)\n",
    "nonblurr_swt = swtl.swt_mat.copy()\n",
    "noblurr_tt = swtl.transform_time\n"
   ]
  },
  {
   "cell_type": "code",
   "execution_count": null,
   "metadata": {
    "ExecuteTime": {
     "end_time": "2022-02-14T16:59:33.695675Z",
     "start_time": "2022-02-14T16:59:32.367808Z"
    }
   },
   "outputs": [],
   "source": [
    "imgshowN([blurr_swt, nonblurr_swt],\n",
    "         ['Blurr Applied x(11,11). '+blurr_tt, 'No Blurr. '+noblurr_tt])"
   ]
  },
  {
   "cell_type": "markdown",
   "metadata": {},
   "source": [
    "**Image Edging**\n",
    "\n",
    "Finding the Edge of the image is a tricky part, this is pertaining to the fact that in most of the cases the images we deal with are of not that standard that applying just a opencv Canny operator would result in the desired Edge Image.\n",
    "\n",
    "Sometimes (In most cases) there is some custom processing required before edging, for that reason alone this function accepts one of the following two arguments :- \n",
    "\n",
    "- 'ac' :> Auto-Canny function, an in-built function which will generate the Canny Image from the original image, internally calculating the threshold parameters, although, to tune it even further 'ac_sigma' parameter is provided which can take any value between 0.0 <--> 1.0 .\n",
    "- *A custom function* : This function should have its signature as mentioned below :\n",
    "\n",
    "    def custom_edge_func(gray_image):\n",
    "\n",
    "        Your Function Logic...\n",
    "\n",
    "        edge_image = ...\n",
    "        \n",
    "        return edge_image\n",
    "    "
   ]
  },
  {
   "cell_type": "code",
   "execution_count": null,
   "metadata": {
    "ExecuteTime": {
     "end_time": "2022-02-14T17:00:08.117903Z",
     "start_time": "2022-02-14T16:59:33.699702Z"
    }
   },
   "outputs": [],
   "source": [
    "# Default value of ac_sigma is 0.33\n",
    "swtl.swttransform(imgpaths=imgpath, text_mode = 'lb_df', edge_func = 'ac')\n",
    "default_edge = swtl.swt_mat.copy()\n",
    "\n",
    "swtl.swttransform(imgpaths=imgpath, text_mode = 'lb_df', edge_func = 'ac', ac_sigma = 1.0)\n",
    "sigma1_edge = swtl.swt_mat.copy()\n"
   ]
  },
  {
   "cell_type": "code",
   "execution_count": null,
   "metadata": {
    "ExecuteTime": {
     "end_time": "2022-02-14T17:00:08.778542Z",
     "start_time": "2022-02-14T17:00:08.120076Z"
    }
   },
   "outputs": [],
   "source": [
    "imgshowN([default_edge, sigma1_edge],\n",
    "         ['Default Edge Function', 'Edge Function @ sigma=1'])"
   ]
  },
  {
   "cell_type": "code",
   "execution_count": null,
   "metadata": {
    "ExecuteTime": {
     "end_time": "2022-02-14T17:00:08.855782Z",
     "start_time": "2022-02-14T17:00:08.780536Z"
    }
   },
   "outputs": [],
   "source": [
    "def custom_edge_func(gray_image):\n",
    "    \n",
    "    gauss_image = cv2.GaussianBlur(gray_image, (5,5), 1)\n",
    "    laplacian_conv = cv2.Laplacian(gauss_image, -1, (5,5))\n",
    "    canny_edge = cv2.Canny(laplacian_conv, 20, 140)\n",
    "    \n",
    "    return canny_edge"
   ]
  },
  {
   "cell_type": "code",
   "execution_count": null,
   "metadata": {
    "ExecuteTime": {
     "end_time": "2022-02-14T17:00:28.783589Z",
     "start_time": "2022-02-14T17:00:08.858706Z"
    }
   },
   "outputs": [],
   "source": [
    "swtl.swttransform(imgpaths=imgpath, text_mode = 'lb_df', edge_func = 'ac')\n",
    "default_edge = swtl.swt_mat.copy()\n",
    "\n",
    "swtl.swttransform(imgpaths=imgpath, text_mode = 'lb_df', edge_func = custom_edge_func)\n",
    "custom_edge = swtl.swt_mat.copy()\n"
   ]
  },
  {
   "cell_type": "code",
   "execution_count": null,
   "metadata": {
    "ExecuteTime": {
     "end_time": "2022-02-14T17:00:29.603751Z",
     "start_time": "2022-02-14T17:00:28.785290Z"
    }
   },
   "outputs": [],
   "source": [
    "imgshowN([default_edge, custom_edge],\n",
    "         ['Default Edge', 'Custom Edge'])"
   ]
  },
  {
   "cell_type": "markdown",
   "metadata": {
    "ExecuteTime": {
     "end_time": "2020-09-11T23:48:02.036962Z",
     "start_time": "2020-09-11T23:48:01.711907Z"
    }
   },
   "source": [
    "**Stroke Width Internal Parameters**\n",
    "\n",
    "These parameters play role, while the finding strokes in the image from the Edge Image so generated in the prior stage.\n",
    "\n",
    "- minrsw, (default=3) :> Minimum stroke width\n",
    "- maxrsw, (default=200) :> Maximum stroke width\n",
    "\n",
    "\n",
    "- check_anglediff, default(True) :> Wether to check the angle deviation of originating edge pixel to the final resting pixel\n",
    "    - max_angledev, default(np.pi/6) :> Permissible value of the angle deviation\n"
   ]
  },
  {
   "cell_type": "code",
   "execution_count": null,
   "metadata": {
    "ExecuteTime": {
     "end_time": "2022-02-14T17:01:12.029053Z",
     "start_time": "2022-02-14T17:00:29.605747Z"
    }
   },
   "outputs": [],
   "source": [
    "swtl.swttransform(imgpaths=imgpath, text_mode = 'lb_df', edge_func = 'ac',\n",
    "                  minrsw=3,maxrsw=10)\n",
    "small_strokes = swtl.swt_mat.copy()\n",
    "\n",
    "swtl.swttransform(imgpaths=imgpath, text_mode = 'lb_df', edge_func = 'ac',\n",
    "                  minrsw=3, maxrsw=500)\n",
    "big_strokes = swtl.swt_mat.copy()\n",
    "\n",
    "swtl.swttransform(imgpaths=imgpath, text_mode = 'lb_df', edge_func = 'ac',\n",
    "                 max_angledev=np.pi/2)\n",
    "big_angledev = swtl.swt_mat.copy()\n"
   ]
  },
  {
   "cell_type": "code",
   "execution_count": null,
   "metadata": {
    "ExecuteTime": {
     "end_time": "2022-02-14T17:01:12.990047Z",
     "start_time": "2022-02-14T17:01:12.033410Z"
    }
   },
   "outputs": [],
   "source": [
    "imgshowN([small_strokes, big_strokes, big_angledev],\n",
    "         ['Small Permissible Strokes', 'Big Permissible Strokes', 'Big Permissible Angle Deviation'])"
   ]
  },
  {
   "cell_type": "markdown",
   "metadata": {},
   "source": [
    "**Pruning Parameters**\n",
    "Once the SWT transform on the image is complete, these parameters govern the pruning of the connected components in the resultant image :-\n",
    "\n",
    "- minCC_comppx, (default = 50) :> Minimum number of Pixels to be in a connected component, smaller than this will be filtered out.\n",
    "\n",
    "- maxCC_comppx, (default = 10000) :> Maximum number of Pixels to be in a connected component, larger than this will be filtered out.\n",
    "\n",
    "- acceptCC_aspectratio, (default = 5) :> Aspect ratio(Width/Height) should be smaller than the inverse of this parameter."
   ]
  },
  {
   "cell_type": "code",
   "execution_count": null,
   "metadata": {
    "ExecuteTime": {
     "end_time": "2022-02-14T17:01:47.842304Z",
     "start_time": "2022-02-14T17:01:12.997671Z"
    }
   },
   "outputs": [],
   "source": [
    "swtl.swttransform(imgpaths=imgpath, text_mode = 'lb_df', edge_func = 'ac',\n",
    "                  minCC_comppx = 50, maxCC_comppx = 1000)\n",
    "max1000_CC = swtl.swtlabelled_pruned13C.copy()\n",
    "\n",
    "swtl.swttransform(imgpaths=imgpath, text_mode = 'lb_df', edge_func = 'ac',\n",
    "                  minCC_comppx = 50, maxCC_comppx = 10000)\n",
    "max10000_CC = swtl.swtlabelled_pruned13C.copy()"
   ]
  },
  {
   "cell_type": "code",
   "execution_count": null,
   "metadata": {
    "ExecuteTime": {
     "end_time": "2022-02-14T17:01:48.655146Z",
     "start_time": "2022-02-14T17:01:47.844426Z"
    }
   },
   "outputs": [],
   "source": [
    "imgshowN([max1000_CC, max10000_CC],\n",
    "         ['max=1000', 'max=10000'])"
   ]
  },
  {
   "cell_type": "markdown",
   "metadata": {},
   "source": [
    "# Generating Minimum BBoxes"
   ]
  },
  {
   "cell_type": "code",
   "execution_count": null,
   "metadata": {
    "ExecuteTime": {
     "end_time": "2022-02-14T17:01:48.732495Z",
     "start_time": "2022-02-14T17:01:48.657327Z"
    }
   },
   "outputs": [],
   "source": [
    "imgpath = imgrootpath+'test_img3.jpg'"
   ]
  },
  {
   "cell_type": "code",
   "execution_count": null,
   "metadata": {
    "ExecuteTime": {
     "end_time": "2022-02-14T17:01:52.728482Z",
     "start_time": "2022-02-14T17:01:48.734894Z"
    }
   },
   "outputs": [],
   "source": [
    "_image = cv2.imread(imgpath)\n",
    "swtl.swttransform(image=_image, text_mode='db_lf',\n",
    "                  blurr_kernel = (11,11), max_angledev=np.pi/8, maxrsw=50)"
   ]
  },
  {
   "cell_type": "code",
   "execution_count": null,
   "metadata": {
    "ExecuteTime": {
     "end_time": "2022-02-14T17:01:53.457537Z",
     "start_time": "2022-02-14T17:01:52.730955Z"
    }
   },
   "outputs": [],
   "source": [
    "imgshowN([swtl.orig_img, swtl.swt_mat, swtl.swtlabelled_pruned13C],\n",
    "         ['Original Image', 'Stroke Width Transform', 'Connected Components'])"
   ]
  },
  {
   "cell_type": "markdown",
   "metadata": {},
   "source": [
    "**Generate Minimum Boundging Boxes**\n",
    "\n",
    "Generates *Minimum Area Reactagle* around the recognised component.\n",
    "\n",
    "Two parameters:-\n",
    "- show :> Wether to show the plot or not\n",
    "- padding :> Number of pixels to expand the given rectangle in their diagonal direction"
   ]
  },
  {
   "cell_type": "code",
   "execution_count": null,
   "metadata": {
    "ExecuteTime": {
     "end_time": "2022-02-14T17:01:53.962830Z",
     "start_time": "2022-02-14T17:01:53.459834Z"
    }
   },
   "outputs": [],
   "source": [
    "min_bboxes, min_bbox_annotated = swtl.get_min_bbox(show=True, padding=10)"
   ]
  },
  {
   "cell_type": "markdown",
   "metadata": {},
   "source": [
    "# Generate External Bounding Boxes"
   ]
  },
  {
   "cell_type": "code",
   "execution_count": null,
   "metadata": {
    "ExecuteTime": {
     "end_time": "2022-02-14T17:01:54.024307Z",
     "start_time": "2022-02-14T17:01:53.965466Z"
    }
   },
   "outputs": [],
   "source": [
    "imgpath = imgrootpath+'test_img4.jpeg'"
   ]
  },
  {
   "cell_type": "code",
   "execution_count": null,
   "metadata": {
    "ExecuteTime": {
     "end_time": "2022-02-14T17:02:05.244915Z",
     "start_time": "2022-02-14T17:01:54.025998Z"
    }
   },
   "outputs": [],
   "source": [
    "swtl.swttransform(imgpaths=imgpath, text_mode='lb_df', ac_sigma=1.0,\n",
    "                  max_angledev=np.pi/3, maxrsw=50)"
   ]
  },
  {
   "cell_type": "code",
   "execution_count": null,
   "metadata": {
    "ExecuteTime": {
     "end_time": "2022-02-14T17:02:05.928030Z",
     "start_time": "2022-02-14T17:02:05.246917Z"
    }
   },
   "outputs": [],
   "source": [
    "imgshowN([swtl.orig_img, swtl.swt_mat, swtl.swtlabelled_pruned13C],\n",
    "         ['Original Image', 'Stroke Width Transform', 'Connected Components'])"
   ]
  },
  {
   "cell_type": "markdown",
   "metadata": {},
   "source": [
    "**External Bounding Boxes**\n",
    "\n",
    "Generates Bounding Box around the recognised component.\n",
    "\n",
    "Two parameters:-\n",
    "- show :> Wether to show the plot or not\n",
    "- padding :> Number of pixels to expand the given rectangle"
   ]
  },
  {
   "cell_type": "code",
   "execution_count": null,
   "metadata": {
    "ExecuteTime": {
     "end_time": "2022-02-14T17:02:06.397366Z",
     "start_time": "2022-02-14T17:02:05.930833Z"
    }
   },
   "outputs": [],
   "source": [
    "min_bboxes, min_bbox_annotated = swtl.get_extreme_bbox(show=True, padding=3)"
   ]
  },
  {
   "cell_type": "markdown",
   "metadata": {},
   "source": [
    "# Generate Outline"
   ]
  },
  {
   "cell_type": "code",
   "execution_count": null,
   "metadata": {
    "ExecuteTime": {
     "end_time": "2022-02-14T17:02:08.110653Z",
     "start_time": "2022-02-14T17:02:08.065719Z"
    }
   },
   "outputs": [],
   "source": [
    "imgpath = imgrootpath+'test_img6.jpg'"
   ]
  },
  {
   "cell_type": "code",
   "execution_count": null,
   "metadata": {
    "ExecuteTime": {
     "end_time": "2022-02-14T17:02:11.713298Z",
     "start_time": "2022-02-14T17:02:08.174614Z"
    },
    "code_folding": []
   },
   "outputs": [],
   "source": [
    "# swtl = SWTLocalizer()\n",
    "swtl.swttransform(imgpaths=imgpath, text_mode='db_lf', ac_sigma=1.0,\n",
    "                  max_angledev=np.pi/3, maxrsw=50)"
   ]
  },
  {
   "cell_type": "code",
   "execution_count": null,
   "metadata": {
    "ExecuteTime": {
     "end_time": "2022-02-14T17:02:12.258609Z",
     "start_time": "2022-02-14T17:02:11.715098Z"
    }
   },
   "outputs": [],
   "source": [
    "imgshowN([swtl.orig_img, swtl.swt_mat, swtl.swtlabelled_pruned13C],\n",
    "         ['Original Image', 'Stroke Width Transform', 'Connected Components'])"
   ]
  },
  {
   "cell_type": "markdown",
   "metadata": {},
   "source": [
    "**Outline**\n",
    "\n",
    "Generates Outline (Contour) around the recognised component.\n",
    "\n",
    "Two parameters:-\n",
    "- show :> Wether to show the plot or not\n",
    "- padding :> Number of pixels to expand the given rectangle"
   ]
  },
  {
   "cell_type": "code",
   "execution_count": null,
   "metadata": {
    "ExecuteTime": {
     "end_time": "2022-02-14T17:02:12.713694Z",
     "start_time": "2022-02-14T17:02:12.321715Z"
    }
   },
   "outputs": [],
   "source": [
    "comp_outlines, comp_outline_annot = swtl.get_comp_outline(show=True)"
   ]
  },
  {
   "cell_type": "markdown",
   "metadata": {},
   "source": [
    "# Generate Bubble Bounding Boxes\n",
    "\n",
    "This function is responsible for grouping the letters together and generating a Bubble Bounding box around them, preserving the sense of orientation"
   ]
  },
  {
   "cell_type": "code",
   "execution_count": null,
   "metadata": {
    "ExecuteTime": {
     "end_time": "2022-02-14T17:02:12.950261Z",
     "start_time": "2022-02-14T17:02:12.888425Z"
    }
   },
   "outputs": [],
   "source": [
    "imgpath = imgrootpath+'test_img5.jpg'"
   ]
  },
  {
   "cell_type": "code",
   "execution_count": null,
   "metadata": {
    "ExecuteTime": {
     "end_time": "2022-02-14T17:02:26.037484Z",
     "start_time": "2022-02-14T17:02:13.030240Z"
    }
   },
   "outputs": [],
   "source": [
    "swtl.swttransform(imgpaths=imgpath, text_mode='db_lf',\n",
    "                  max_angledev=np.pi/6, maxrsw=100, minrsw=10, acceptCC_aspectratio=3.0)"
   ]
  },
  {
   "cell_type": "markdown",
   "metadata": {},
   "source": [
    "**Grouped Bubbled BBoxes**\n",
    "\n",
    "This function groups the already available BBoxes into possible words, based on followinfg rules :-\n",
    "- lookup_radii_multiplier : The radius in which each CC will look\n",
    "- cl_deviat : The deviation in median color permissible $[\\delta R,\\delta G,\\delta B]$ from the other component\n",
    "- ht_ratio : The deviation in height permissible\n",
    "- ar_ratio : The deviation in Aspect Ration permissible\n",
    "- ang_deviat : The deviation allowed of minimum area rect from one CC to other"
   ]
  },
  {
   "cell_type": "code",
   "execution_count": null,
   "metadata": {
    "ExecuteTime": {
     "end_time": "2022-02-14T17:02:30.408944Z",
     "start_time": "2022-02-14T17:02:26.131913Z"
    }
   },
   "outputs": [],
   "source": [
    "respacket = swtl.get_grouped(lookup_radii_multiplier=1, sw_ratio=2,\n",
    "                     cl_deviat=[13,13,13], ht_ratio=2, \n",
    "                     ar_ratio=3, ang_deviat=30)\n",
    "\n",
    "grouped_labels = respacket[0]\n",
    "grouped_bubblebbox = respacket[1]\n",
    "grouped_annot_bubble = respacket[2]\n",
    "grouped_annot = respacket[3]\n",
    "maskviz = respacket[4]\n",
    "maskcomb  = respacket[5]"
   ]
  },
  {
   "cell_type": "code",
   "execution_count": null,
   "metadata": {
    "ExecuteTime": {
     "end_time": "2022-02-14T17:02:31.208483Z",
     "start_time": "2022-02-14T17:02:30.614649Z"
    }
   },
   "outputs": [],
   "source": [
    "imgshowN([maskviz, maskcomb],\n",
    "         ['Individual CC', 'Combined Circular Masks'])"
   ]
  },
  {
   "cell_type": "code",
   "execution_count": null,
   "metadata": {
    "ExecuteTime": {
     "end_time": "2022-02-14T17:02:32.165638Z",
     "start_time": "2022-02-14T17:02:31.431513Z"
    }
   },
   "outputs": [],
   "source": [
    "imgshowN([swtl.orig_img, grouped_annot_bubble],\n",
    "         ['Original', 'Grouped Bubble BBox Annotation'])"
   ]
  },
  {
   "cell_type": "code",
   "execution_count": null,
   "metadata": {},
   "outputs": [],
   "source": []
  },
  {
   "cell_type": "code",
   "execution_count": null,
   "metadata": {},
   "outputs": [],
   "source": []
  }
 ],
 "metadata": {
  "hide_input": false,
  "kernelspec": {
   "display_name": "py36VenvDev",
   "language": "python",
   "name": "py36venvdev"
  },
  "language_info": {
   "codemirror_mode": {
    "name": "ipython",
    "version": 3
   },
   "file_extension": ".py",
   "mimetype": "text/x-python",
   "name": "python",
   "nbconvert_exporter": "python",
   "pygments_lexer": "ipython3",
   "version": "3.6.13"
  },
  "toc": {
   "base_numbering": 1,
   "nav_menu": {},
   "number_sections": true,
   "sideBar": true,
   "skip_h1_title": false,
   "title_cell": "Table of Contents",
   "title_sidebar": "Contents",
   "toc_cell": false,
   "toc_position": {},
   "toc_section_display": true,
   "toc_window_display": false
  },
  "varInspector": {
   "cols": {
    "lenName": 16,
    "lenType": 16,
    "lenVar": 40
   },
   "kernels_config": {
    "python": {
     "delete_cmd_postfix": "",
     "delete_cmd_prefix": "del ",
     "library": "var_list.py",
     "varRefreshCmd": "print(var_dic_list())"
    },
    "r": {
     "delete_cmd_postfix": ") ",
     "delete_cmd_prefix": "rm(",
     "library": "var_list.r",
     "varRefreshCmd": "cat(var_dic_list()) "
    }
   },
   "types_to_exclude": [
    "module",
    "function",
    "builtin_function_or_method",
    "instance",
    "_Feature"
   ],
   "window_display": false
  }
 },
 "nbformat": 4,
 "nbformat_minor": 4
}
