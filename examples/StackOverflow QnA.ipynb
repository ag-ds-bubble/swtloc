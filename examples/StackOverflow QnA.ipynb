{
 "cells": [
  {
   "cell_type": "markdown",
   "metadata": {},
   "source": [
    "**This notebook is the effort to answer StackOverflow Questions**"
   ]
  },
  {
   "cell_type": "markdown",
   "metadata": {
    "heading_collapsed": true
   },
   "source": [
    "# Imports"
   ]
  },
  {
   "cell_type": "code",
   "execution_count": null,
   "metadata": {
    "ExecuteTime": {
     "end_time": "2021-06-18T20:49:12.705114Z",
     "start_time": "2021-06-18T20:49:12.696669Z"
    },
    "hidden": true
   },
   "outputs": [],
   "source": [
    "# Check version runing on Jupyter notebook\n",
    "from platform import python_version\n",
    "import sys\n",
    "\n",
    "print('Python Version : ', python_version())\n",
    "print('Python Path : ', sys.executable)"
   ]
  },
  {
   "cell_type": "code",
   "execution_count": null,
   "metadata": {
    "ExecuteTime": {
     "end_time": "2021-06-18T20:49:15.596800Z",
     "start_time": "2021-06-18T20:49:14.099517Z"
    },
    "hidden": true
   },
   "outputs": [],
   "source": [
    "from swtloc import SWTLocalizer\n",
    "from swtloc.utils import imgshowN, imgshow, auto_canny\n",
    "from cv2 import cv2\n",
    "import numpy as np\n",
    "cv2.__version__"
   ]
  },
  {
   "cell_type": "markdown",
   "metadata": {
    "heading_collapsed": true
   },
   "source": [
    "# Raw Datapaths and Variable Initialisation"
   ]
  },
  {
   "cell_type": "code",
   "execution_count": null,
   "metadata": {
    "ExecuteTime": {
     "end_time": "2021-06-18T20:49:34.783987Z",
     "start_time": "2021-06-18T20:49:34.775180Z"
    },
    "hidden": true
   },
   "outputs": [],
   "source": [
    "rawimage_path = 'so_material/'"
   ]
  },
  {
   "cell_type": "markdown",
   "metadata": {
    "heading_collapsed": true
   },
   "source": [
    "# Q1\n",
    "https://stackoverflow.com/questions/40443988/python-opencv-ocr-image-segmentation"
   ]
  },
  {
   "cell_type": "code",
   "execution_count": null,
   "metadata": {
    "ExecuteTime": {
     "end_time": "2021-06-18T20:49:42.713079Z",
     "start_time": "2021-06-18T20:49:39.602299Z"
    },
    "hidden": true
   },
   "outputs": [],
   "source": [
    "swtl = SWTLocalizer()\n",
    "\n",
    "imgpath = rawimage_path+'so1_img1.jpg'\n",
    "swtl.swttransform(imgpaths=imgpath, text_mode = 'lb_df', gs_blurr=False ,\n",
    "                  minrsw = 3, maxrsw = 10, max_angledev = np.pi/3)"
   ]
  },
  {
   "cell_type": "code",
   "execution_count": null,
   "metadata": {
    "ExecuteTime": {
     "end_time": "2021-06-18T20:49:43.643245Z",
     "start_time": "2021-06-18T20:49:42.734240Z"
    },
    "hidden": true
   },
   "outputs": [],
   "source": [
    "# Plotting three variants of the images during the process of the\n",
    "# transformation -> Original > Stroke Width Transform > Connected Components\n",
    "imgshowN([swtl.orig_img, swtl.swt_mat, swtl.swt_labelled3C],\n",
    "         ['Original Image', 'Stroke Width Transform', 'Connected Components'])"
   ]
  },
  {
   "cell_type": "code",
   "execution_count": null,
   "metadata": {
    "ExecuteTime": {
     "end_time": "2021-06-18T20:49:48.551713Z",
     "start_time": "2021-06-18T20:49:43.654968Z"
    },
    "hidden": true
   },
   "outputs": [],
   "source": [
    "respacket = swtl.get_grouped(lookup_radii_multiplier=.8, sw_ratio=2,\n",
    "                     cl_deviat=[13,13,13], ht_ratio=2, \n",
    "                     ar_ratio=4, ang_deviat=30)\n",
    "\n",
    "grouped_labels = respacket[0]\n",
    "grouped_bubblebbox = respacket[1]\n",
    "grouped_annot_bubble = respacket[2]\n",
    "grouped_annot = respacket[3]\n",
    "maskviz = respacket[4]\n",
    "maskcomb  = respacket[5]\n"
   ]
  },
  {
   "cell_type": "code",
   "execution_count": null,
   "metadata": {
    "ExecuteTime": {
     "end_time": "2021-06-18T20:49:49.856710Z",
     "start_time": "2021-06-18T20:49:48.960750Z"
    },
    "hidden": true
   },
   "outputs": [],
   "source": [
    "imgshowN([swtl.orig_img, grouped_annot_bubble],\n",
    "         ['Original', 'Grouped Bubble BBox Annotation'])"
   ]
  },
  {
   "cell_type": "markdown",
   "metadata": {
    "heading_collapsed": true
   },
   "source": [
    "# Q2\n",
    "\n",
    "https://stackoverflow.com/questions/4837124/stroke-width-transform-swt-implementation-java-c"
   ]
  },
  {
   "cell_type": "code",
   "execution_count": null,
   "metadata": {
    "ExecuteTime": {
     "end_time": "2021-06-18T20:51:43.985750Z",
     "start_time": "2021-06-18T20:49:50.231270Z"
    },
    "hidden": true
   },
   "outputs": [],
   "source": [
    "from swtloc import SWTLocalizer\n",
    "\n",
    "swtl = SWTLocalizer()\n",
    "imgpath = rawimage_path+'so2_img1.jpg'\n",
    "swtl.swttransform(imgpaths=imgpath, save_results=True, save_rootpath='swtres/',\n",
    "                  edge_func = 'ac', ac_sigma = 1.0, text_mode = 'lb_df',\n",
    "                  gs_blurr=True, blurr_kernel = (5,5), minrsw = 3, \n",
    "                  maxCC_comppx = 10000, maxrsw = 20, max_angledev = np.pi/6, \n",
    "                  acceptCC_aspectratio = 5.0)"
   ]
  },
  {
   "cell_type": "code",
   "execution_count": null,
   "metadata": {
    "ExecuteTime": {
     "end_time": "2021-06-18T20:51:44.489715Z",
     "start_time": "2021-06-18T20:51:44.189042Z"
    },
    "hidden": true
   },
   "outputs": [],
   "source": [
    "imgshow(swtl.swtlabelled_pruned13C)"
   ]
  },
  {
   "cell_type": "code",
   "execution_count": null,
   "metadata": {
    "ExecuteTime": {
     "end_time": "2021-06-18T20:51:45.952635Z",
     "start_time": "2021-06-18T20:51:44.617552Z"
    },
    "hidden": true
   },
   "outputs": [],
   "source": [
    "repacket=swtl.get_grouped()\n",
    "grouped_annot_bubble = repacket[2]\n",
    "imgshow(grouped_annot_bubble)"
   ]
  },
  {
   "cell_type": "markdown",
   "metadata": {
    "ExecuteTime": {
     "end_time": "2020-09-23T10:32:06.967556Z",
     "start_time": "2020-09-23T10:32:06.793023Z"
    },
    "heading_collapsed": true
   },
   "source": [
    "# Q3\n",
    "https://stackoverflow.com/questions/31667709/can-swt-stroke-width-transform-help-ocr-with-screenshots"
   ]
  },
  {
   "cell_type": "code",
   "execution_count": null,
   "metadata": {
    "ExecuteTime": {
     "end_time": "2021-06-18T20:52:13.326980Z",
     "start_time": "2021-06-18T20:51:46.097122Z"
    },
    "hidden": true
   },
   "outputs": [],
   "source": [
    "from swtloc import SWTLocalizer\n",
    "from swtloc.utils import resize_maintinaAR\n",
    "\n",
    "swtl = SWTLocalizer()\n",
    "imgpath = rawimage_path+'so3_img1.png'\n",
    "r_imgpath = rawimage_path+'so3_img11.jpg'\n",
    "orig_img = cv2.imread(imgpath)\n",
    "resized_img = resize_maintinaAR(orig_img, width=2.0)\n",
    "print(f'Shape changed from {orig_img.shape} -> {resized_img.shape}')\n",
    "cv2.imwrite(r_imgpath, resized_img)\n",
    "\n",
    "swtl.swttransform(imgpaths=r_imgpath, text_mode = 'lb_df',\n",
    "                  minrsw = 3, maxrsw = 10, max_angledev = np.pi/6)\n",
    "imgshow(swtl.swtlabelled_pruned13C)"
   ]
  },
  {
   "cell_type": "code",
   "execution_count": null,
   "metadata": {
    "ExecuteTime": {
     "end_time": "2021-06-18T20:52:13.965291Z",
     "start_time": "2021-06-18T20:52:13.471066Z"
    },
    "hidden": true
   },
   "outputs": [],
   "source": [
    "min_bboxes, min_bbox_annotated = swtl.get_min_bbox(show=True, padding=10)"
   ]
  },
  {
   "cell_type": "code",
   "execution_count": null,
   "metadata": {
    "ExecuteTime": {
     "end_time": "2021-06-18T20:52:14.045078Z",
     "start_time": "2021-06-18T20:52:13.966290Z"
    },
    "hidden": true
   },
   "outputs": [],
   "source": [
    "_=cv2.imwrite(rawimage_path+'so3_img11_processed.jpg', swtl.swtlabelled_pruned13C)\n",
    "_=cv2.imwrite(rawimage_path+'so3_img11_annot.jpg', min_bbox_annotated)"
   ]
  },
  {
   "cell_type": "markdown",
   "metadata": {
    "heading_collapsed": true
   },
   "source": [
    "# Q4\n",
    "https://stackoverflow.com/questions/23506105/extracting-text-opencv"
   ]
  },
  {
   "cell_type": "code",
   "execution_count": null,
   "metadata": {
    "ExecuteTime": {
     "end_time": "2021-06-18T20:52:14.203044Z",
     "start_time": "2021-06-18T20:52:14.188086Z"
    },
    "hidden": true
   },
   "outputs": [],
   "source": [
    "import os\n",
    "imgpaths = [rawimage_path+k for k in os.listdir(rawimage_path) if 'so4' in k if 'processed' not in k]\n",
    "imgpaths"
   ]
  },
  {
   "cell_type": "code",
   "execution_count": null,
   "metadata": {
    "ExecuteTime": {
     "end_time": "2021-06-18T20:52:28.461603Z",
     "start_time": "2021-06-18T20:52:14.205038Z"
    },
    "hidden": true,
    "scrolled": false
   },
   "outputs": [],
   "source": [
    "from swtloc import SWTLocalizer\n",
    "from swtloc.utils import imgshowN, imgshow\n",
    "\n",
    "swtl = SWTLocalizer()\n",
    "# Stroke Width Transform\n",
    "swtl.swttransform(imgpaths=imgpaths[2], text_mode = 'lb_df',\n",
    "                  save_results=True, save_rootpath = 'swtres/',\n",
    "                  minrsw = 3, maxrsw = 20, max_angledev = np.pi/3)\n",
    "imgshow(swtl.swtlabelled_pruned13C)\n",
    "\n",
    "# Grouping\n",
    "respacket=swtl.get_grouped(lookup_radii_multiplier=0.9, ht_ratio=3.0)\n",
    "grouped_annot_bubble = respacket[2]\n",
    "maskviz = respacket[4]\n",
    "maskcomb  = respacket[5]\n",
    "\n",
    "# Saving the results\n",
    "_=cv2.imwrite(rawimage_path+'so4_img1_processed.jpg', swtl.swtlabelled_pruned13C)\n",
    "imgshowN([maskcomb, grouped_annot_bubble], \n",
    "         ['Overlapping Masks', 'Annotated Bubble Bounding Boxes'],\n",
    "         savepath=rawimage_path+'combined_mask1.jpg')"
   ]
  },
  {
   "cell_type": "markdown",
   "metadata": {
    "ExecuteTime": {
     "end_time": "2020-09-23T11:38:31.401436Z",
     "start_time": "2020-09-23T11:38:31.395873Z"
    },
    "heading_collapsed": true
   },
   "source": [
    "# Q5\n",
    "https://stackoverflow.com/questions/46533389/find-the-width-of-an-ink-stroke-in-an-image-using-opencv-c/46533420"
   ]
  },
  {
   "cell_type": "code",
   "execution_count": null,
   "metadata": {
    "ExecuteTime": {
     "end_time": "2021-06-18T20:52:37.957790Z",
     "start_time": "2021-06-18T20:52:28.464602Z"
    },
    "hidden": true
   },
   "outputs": [],
   "source": [
    "from swtloc import SWTLocalizer\n",
    "from swtloc.utils import imgshow\n",
    "\n",
    "swtl = SWTLocalizer()\n",
    "# Stroke Width Transform\n",
    "imgpath = rawimage_path+'so5_img1.jpg'\n",
    "swtl.swttransform(imgpaths=imgpath, text_mode = 'lb_df',\n",
    "                  save_results=True, save_rootpath = 'swtres/',\n",
    "                  ac_sigma = 1.0, gs_blurr =False,\n",
    "                  minrsw = 3, maxrsw = 50, max_angledev = np.pi/3)\n",
    "imgshow(swtl.swt_labelled3C)"
   ]
  },
  {
   "cell_type": "code",
   "execution_count": null,
   "metadata": {
    "ExecuteTime": {
     "end_time": "2021-06-18T20:52:37.988708Z",
     "start_time": "2021-06-18T20:52:37.961739Z"
    },
    "hidden": true
   },
   "outputs": [],
   "source": [
    "import matplotlib.pyplot as plt\n",
    "all_sws = []\n",
    "for k,v in swtl.components_props.items():\n",
    "    all_sws.append(v['sw_median'])\n",
    "import seaborn as sns\n",
    "sns.displot(all_sws, bins=31)\n",
    "plt.savefig(rawimage_path+'sw_distribution.jpg')"
   ]
  },
  {
   "cell_type": "code",
   "execution_count": null,
   "metadata": {
    "ExecuteTime": {
     "end_time": "2021-06-18T20:52:37.992656Z",
     "start_time": "2021-06-18T20:49:43.863Z"
    },
    "hidden": true
   },
   "outputs": [],
   "source": [
    "_=cv2.imwrite(rawimage_path+'so5_img1_processed.jpg', swtl.swtlabelled_pruned13C)"
   ]
  },
  {
   "cell_type": "code",
   "execution_count": null,
   "metadata": {
    "ExecuteTime": {
     "end_time": "2021-06-18T20:52:37.994655Z",
     "start_time": "2021-06-18T20:49:43.916Z"
    },
    "hidden": true
   },
   "outputs": [],
   "source": [
    "respacket=swtl.get_grouped(lookup_radii_multiplier=0.9, ht_ratio=3.0, bubble_width=3)\n",
    "grouped_annot_bubble = respacket[2]\n",
    "imgshow(grouped_annot_bubble)"
   ]
  },
  {
   "cell_type": "markdown",
   "metadata": {
    "heading_collapsed": true
   },
   "source": [
    "# Q6\n",
    "Bubble BBOX issue : Issue #10"
   ]
  },
  {
   "cell_type": "code",
   "execution_count": null,
   "metadata": {
    "ExecuteTime": {
     "end_time": "2021-06-18T20:52:56.216558Z",
     "start_time": "2021-06-18T20:52:56.203593Z"
    },
    "hidden": true
   },
   "outputs": [],
   "source": [
    "# Ensure that OpenCV version is same as mentioned below.\n",
    "# !pip install opencv-python==4.5.1.48"
   ]
  },
  {
   "cell_type": "code",
   "execution_count": null,
   "metadata": {
    "ExecuteTime": {
     "end_time": "2021-06-18T20:53:08.420882Z",
     "start_time": "2021-06-18T20:52:56.625688Z"
    },
    "hidden": true
   },
   "outputs": [],
   "source": [
    "from swtloc import SWTLocalizer\n",
    "from swtloc.utils import imgshow\n",
    "\n",
    "swtl = SWTLocalizer()\n",
    "# Stroke Width Transform\n",
    "imgpath = rawimage_path+'bbox_err_image.jpg'\n",
    "swtl.swttransform(imgpaths=imgpath, text_mode = 'db_lf',\n",
    "                 \n",
    "                  \n",
    "                  save_results=True, save_rootpath = 'swtres/',\n",
    "                  ac_sigma = 1.0, gs_blurr=True, blurr_kernel = (5,5), maxCC_comppx = 5000, \n",
    "                  minrsw = 3, maxrsw = 200, max_angledev = np.pi/6, acceptCC_aspectratio = 5.0)\n",
    "\n",
    "imgshow(swtl.swt_labelled3C)"
   ]
  },
  {
   "cell_type": "code",
   "execution_count": null,
   "metadata": {
    "ExecuteTime": {
     "end_time": "2021-06-18T20:53:10.213618Z",
     "start_time": "2021-06-18T20:53:08.803597Z"
    },
    "hidden": true
   },
   "outputs": [],
   "source": [
    "respacket = swtl.get_grouped(lookup_radii_multiplier=.8, sw_ratio=2,\n",
    "                     cl_deviat=[13,13,13], ht_ratio=2, \n",
    "                     ar_ratio=4, ang_deviat=30)\n",
    "\n",
    "grouped_labels = respacket[0]\n",
    "grouped_bubblebbox = respacket[1]\n",
    "grouped_annot_bubble = respacket[2]\n",
    "grouped_annot = respacket[3]\n",
    "maskviz = respacket[4]\n",
    "maskcomb  = respacket[5]\n",
    "\n",
    "imgshowN([grouped_annot_bubble],\n",
    "         ['Grouped Bubble BBox Annotation'])"
   ]
  },
  {
   "cell_type": "code",
   "execution_count": null,
   "metadata": {
    "hidden": true
   },
   "outputs": [],
   "source": []
  }
 ],
 "metadata": {
  "hide_input": false,
  "kernelspec": {
   "display_name": "Python 3",
   "language": "python",
   "name": "python3"
  },
  "language_info": {
   "codemirror_mode": {
    "name": "ipython",
    "version": 3
   },
   "file_extension": ".py",
   "mimetype": "text/x-python",
   "name": "python",
   "nbconvert_exporter": "python",
   "pygments_lexer": "ipython3",
   "version": "3.7.10"
  },
  "toc": {
   "base_numbering": 1,
   "nav_menu": {},
   "number_sections": true,
   "sideBar": true,
   "skip_h1_title": false,
   "title_cell": "Table of Contents",
   "title_sidebar": "Contents",
   "toc_cell": false,
   "toc_position": {},
   "toc_section_display": true,
   "toc_window_display": false
  },
  "varInspector": {
   "cols": {
    "lenName": 16,
    "lenType": 16,
    "lenVar": 40
   },
   "kernels_config": {
    "python": {
     "delete_cmd_postfix": "",
     "delete_cmd_prefix": "del ",
     "library": "var_list.py",
     "varRefreshCmd": "print(var_dic_list())"
    },
    "r": {
     "delete_cmd_postfix": ") ",
     "delete_cmd_prefix": "rm(",
     "library": "var_list.r",
     "varRefreshCmd": "cat(var_dic_list()) "
    }
   },
   "types_to_exclude": [
    "module",
    "function",
    "builtin_function_or_method",
    "instance",
    "_Feature"
   ],
   "window_display": false
  }
 },
 "nbformat": 4,
 "nbformat_minor": 4
}
